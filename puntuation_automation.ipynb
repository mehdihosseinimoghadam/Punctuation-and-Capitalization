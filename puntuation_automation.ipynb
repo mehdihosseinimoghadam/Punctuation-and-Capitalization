{
  "nbformat": 4,
  "nbformat_minor": 0,
  "metadata": {
    "colab": {
      "name": "puntuation automation.ipynb",
      "provenance": [],
      "collapsed_sections": []
    },
    "kernelspec": {
      "name": "python3",
      "display_name": "Python 3"
    },
    "language_info": {
      "name": "python"
    },
    "accelerator": "GPU",
    "widgets": {
      "application/vnd.jupyter.widget-state+json": {
        "d63764bdfcfc4f0cbde4d767beddb4e8": {
          "model_module": "@jupyter-widgets/controls",
          "model_name": "HBoxModel",
          "model_module_version": "1.5.0",
          "state": {
            "_dom_classes": [],
            "_model_module": "@jupyter-widgets/controls",
            "_model_module_version": "1.5.0",
            "_model_name": "HBoxModel",
            "_view_count": null,
            "_view_module": "@jupyter-widgets/controls",
            "_view_module_version": "1.5.0",
            "_view_name": "HBoxView",
            "box_style": "",
            "children": [
              "IPY_MODEL_d1fe1bd8e1724599b41b8d3c15ac9596",
              "IPY_MODEL_c9d74eb759ca471b927546588d29f659",
              "IPY_MODEL_8360fe0281bd4818ba12346ebd7e57b3"
            ],
            "layout": "IPY_MODEL_cd0f23d973354d9d8b7086400f09750a"
          }
        },
        "d1fe1bd8e1724599b41b8d3c15ac9596": {
          "model_module": "@jupyter-widgets/controls",
          "model_name": "HTMLModel",
          "model_module_version": "1.5.0",
          "state": {
            "_dom_classes": [],
            "_model_module": "@jupyter-widgets/controls",
            "_model_module_version": "1.5.0",
            "_model_name": "HTMLModel",
            "_view_count": null,
            "_view_module": "@jupyter-widgets/controls",
            "_view_module_version": "1.5.0",
            "_view_name": "HTMLView",
            "description": "",
            "description_tooltip": null,
            "layout": "IPY_MODEL_10268297036b452cb4b98f1e1c8e08bc",
            "placeholder": "​",
            "style": "IPY_MODEL_fd9dac35c72845abb3104bba3fb96ed8",
            "value": "Downloading: 100%"
          }
        },
        "c9d74eb759ca471b927546588d29f659": {
          "model_module": "@jupyter-widgets/controls",
          "model_name": "FloatProgressModel",
          "model_module_version": "1.5.0",
          "state": {
            "_dom_classes": [],
            "_model_module": "@jupyter-widgets/controls",
            "_model_module_version": "1.5.0",
            "_model_name": "FloatProgressModel",
            "_view_count": null,
            "_view_module": "@jupyter-widgets/controls",
            "_view_module_version": "1.5.0",
            "_view_name": "ProgressView",
            "bar_style": "success",
            "description": "",
            "description_tooltip": null,
            "layout": "IPY_MODEL_20f7c96bdb4649288053a1ae045f5e2c",
            "max": 28,
            "min": 0,
            "orientation": "horizontal",
            "style": "IPY_MODEL_cd20abebed204efc93e4ffbb9dc68551",
            "value": 28
          }
        },
        "8360fe0281bd4818ba12346ebd7e57b3": {
          "model_module": "@jupyter-widgets/controls",
          "model_name": "HTMLModel",
          "model_module_version": "1.5.0",
          "state": {
            "_dom_classes": [],
            "_model_module": "@jupyter-widgets/controls",
            "_model_module_version": "1.5.0",
            "_model_name": "HTMLModel",
            "_view_count": null,
            "_view_module": "@jupyter-widgets/controls",
            "_view_module_version": "1.5.0",
            "_view_name": "HTMLView",
            "description": "",
            "description_tooltip": null,
            "layout": "IPY_MODEL_82cc11a6bbdd453787c4943c2b1437f9",
            "placeholder": "​",
            "style": "IPY_MODEL_e85fa99671cf41528ad5ba863cb92758",
            "value": " 28.0/28.0 [00:00&lt;00:00, 678B/s]"
          }
        },
        "cd0f23d973354d9d8b7086400f09750a": {
          "model_module": "@jupyter-widgets/base",
          "model_name": "LayoutModel",
          "model_module_version": "1.2.0",
          "state": {
            "_model_module": "@jupyter-widgets/base",
            "_model_module_version": "1.2.0",
            "_model_name": "LayoutModel",
            "_view_count": null,
            "_view_module": "@jupyter-widgets/base",
            "_view_module_version": "1.2.0",
            "_view_name": "LayoutView",
            "align_content": null,
            "align_items": null,
            "align_self": null,
            "border": null,
            "bottom": null,
            "display": null,
            "flex": null,
            "flex_flow": null,
            "grid_area": null,
            "grid_auto_columns": null,
            "grid_auto_flow": null,
            "grid_auto_rows": null,
            "grid_column": null,
            "grid_gap": null,
            "grid_row": null,
            "grid_template_areas": null,
            "grid_template_columns": null,
            "grid_template_rows": null,
            "height": null,
            "justify_content": null,
            "justify_items": null,
            "left": null,
            "margin": null,
            "max_height": null,
            "max_width": null,
            "min_height": null,
            "min_width": null,
            "object_fit": null,
            "object_position": null,
            "order": null,
            "overflow": null,
            "overflow_x": null,
            "overflow_y": null,
            "padding": null,
            "right": null,
            "top": null,
            "visibility": null,
            "width": null
          }
        },
        "10268297036b452cb4b98f1e1c8e08bc": {
          "model_module": "@jupyter-widgets/base",
          "model_name": "LayoutModel",
          "model_module_version": "1.2.0",
          "state": {
            "_model_module": "@jupyter-widgets/base",
            "_model_module_version": "1.2.0",
            "_model_name": "LayoutModel",
            "_view_count": null,
            "_view_module": "@jupyter-widgets/base",
            "_view_module_version": "1.2.0",
            "_view_name": "LayoutView",
            "align_content": null,
            "align_items": null,
            "align_self": null,
            "border": null,
            "bottom": null,
            "display": null,
            "flex": null,
            "flex_flow": null,
            "grid_area": null,
            "grid_auto_columns": null,
            "grid_auto_flow": null,
            "grid_auto_rows": null,
            "grid_column": null,
            "grid_gap": null,
            "grid_row": null,
            "grid_template_areas": null,
            "grid_template_columns": null,
            "grid_template_rows": null,
            "height": null,
            "justify_content": null,
            "justify_items": null,
            "left": null,
            "margin": null,
            "max_height": null,
            "max_width": null,
            "min_height": null,
            "min_width": null,
            "object_fit": null,
            "object_position": null,
            "order": null,
            "overflow": null,
            "overflow_x": null,
            "overflow_y": null,
            "padding": null,
            "right": null,
            "top": null,
            "visibility": null,
            "width": null
          }
        },
        "fd9dac35c72845abb3104bba3fb96ed8": {
          "model_module": "@jupyter-widgets/controls",
          "model_name": "DescriptionStyleModel",
          "model_module_version": "1.5.0",
          "state": {
            "_model_module": "@jupyter-widgets/controls",
            "_model_module_version": "1.5.0",
            "_model_name": "DescriptionStyleModel",
            "_view_count": null,
            "_view_module": "@jupyter-widgets/base",
            "_view_module_version": "1.2.0",
            "_view_name": "StyleView",
            "description_width": ""
          }
        },
        "20f7c96bdb4649288053a1ae045f5e2c": {
          "model_module": "@jupyter-widgets/base",
          "model_name": "LayoutModel",
          "model_module_version": "1.2.0",
          "state": {
            "_model_module": "@jupyter-widgets/base",
            "_model_module_version": "1.2.0",
            "_model_name": "LayoutModel",
            "_view_count": null,
            "_view_module": "@jupyter-widgets/base",
            "_view_module_version": "1.2.0",
            "_view_name": "LayoutView",
            "align_content": null,
            "align_items": null,
            "align_self": null,
            "border": null,
            "bottom": null,
            "display": null,
            "flex": null,
            "flex_flow": null,
            "grid_area": null,
            "grid_auto_columns": null,
            "grid_auto_flow": null,
            "grid_auto_rows": null,
            "grid_column": null,
            "grid_gap": null,
            "grid_row": null,
            "grid_template_areas": null,
            "grid_template_columns": null,
            "grid_template_rows": null,
            "height": null,
            "justify_content": null,
            "justify_items": null,
            "left": null,
            "margin": null,
            "max_height": null,
            "max_width": null,
            "min_height": null,
            "min_width": null,
            "object_fit": null,
            "object_position": null,
            "order": null,
            "overflow": null,
            "overflow_x": null,
            "overflow_y": null,
            "padding": null,
            "right": null,
            "top": null,
            "visibility": null,
            "width": null
          }
        },
        "cd20abebed204efc93e4ffbb9dc68551": {
          "model_module": "@jupyter-widgets/controls",
          "model_name": "ProgressStyleModel",
          "model_module_version": "1.5.0",
          "state": {
            "_model_module": "@jupyter-widgets/controls",
            "_model_module_version": "1.5.0",
            "_model_name": "ProgressStyleModel",
            "_view_count": null,
            "_view_module": "@jupyter-widgets/base",
            "_view_module_version": "1.2.0",
            "_view_name": "StyleView",
            "bar_color": null,
            "description_width": ""
          }
        },
        "82cc11a6bbdd453787c4943c2b1437f9": {
          "model_module": "@jupyter-widgets/base",
          "model_name": "LayoutModel",
          "model_module_version": "1.2.0",
          "state": {
            "_model_module": "@jupyter-widgets/base",
            "_model_module_version": "1.2.0",
            "_model_name": "LayoutModel",
            "_view_count": null,
            "_view_module": "@jupyter-widgets/base",
            "_view_module_version": "1.2.0",
            "_view_name": "LayoutView",
            "align_content": null,
            "align_items": null,
            "align_self": null,
            "border": null,
            "bottom": null,
            "display": null,
            "flex": null,
            "flex_flow": null,
            "grid_area": null,
            "grid_auto_columns": null,
            "grid_auto_flow": null,
            "grid_auto_rows": null,
            "grid_column": null,
            "grid_gap": null,
            "grid_row": null,
            "grid_template_areas": null,
            "grid_template_columns": null,
            "grid_template_rows": null,
            "height": null,
            "justify_content": null,
            "justify_items": null,
            "left": null,
            "margin": null,
            "max_height": null,
            "max_width": null,
            "min_height": null,
            "min_width": null,
            "object_fit": null,
            "object_position": null,
            "order": null,
            "overflow": null,
            "overflow_x": null,
            "overflow_y": null,
            "padding": null,
            "right": null,
            "top": null,
            "visibility": null,
            "width": null
          }
        },
        "e85fa99671cf41528ad5ba863cb92758": {
          "model_module": "@jupyter-widgets/controls",
          "model_name": "DescriptionStyleModel",
          "model_module_version": "1.5.0",
          "state": {
            "_model_module": "@jupyter-widgets/controls",
            "_model_module_version": "1.5.0",
            "_model_name": "DescriptionStyleModel",
            "_view_count": null,
            "_view_module": "@jupyter-widgets/base",
            "_view_module_version": "1.2.0",
            "_view_name": "StyleView",
            "description_width": ""
          }
        },
        "b7661e3b62d545de8f85be82c8eadb64": {
          "model_module": "@jupyter-widgets/controls",
          "model_name": "HBoxModel",
          "model_module_version": "1.5.0",
          "state": {
            "_dom_classes": [],
            "_model_module": "@jupyter-widgets/controls",
            "_model_module_version": "1.5.0",
            "_model_name": "HBoxModel",
            "_view_count": null,
            "_view_module": "@jupyter-widgets/controls",
            "_view_module_version": "1.5.0",
            "_view_name": "HBoxView",
            "box_style": "",
            "children": [
              "IPY_MODEL_a6a2ad7cb8a84525869899d22d6fb0ad",
              "IPY_MODEL_ebe00860bd8b498a8308d4f5eabb6040",
              "IPY_MODEL_2bc93d251c2a4b288d2f8c54631c0692"
            ],
            "layout": "IPY_MODEL_fe723206d6e4495e9c533482274c3976"
          }
        },
        "a6a2ad7cb8a84525869899d22d6fb0ad": {
          "model_module": "@jupyter-widgets/controls",
          "model_name": "HTMLModel",
          "model_module_version": "1.5.0",
          "state": {
            "_dom_classes": [],
            "_model_module": "@jupyter-widgets/controls",
            "_model_module_version": "1.5.0",
            "_model_name": "HTMLModel",
            "_view_count": null,
            "_view_module": "@jupyter-widgets/controls",
            "_view_module_version": "1.5.0",
            "_view_name": "HTMLView",
            "description": "",
            "description_tooltip": null,
            "layout": "IPY_MODEL_cdb10257914749a4a0a111d0222287ea",
            "placeholder": "​",
            "style": "IPY_MODEL_a8358f745fff4f02a75c8adaf9ab7b2a",
            "value": "Downloading: 100%"
          }
        },
        "ebe00860bd8b498a8308d4f5eabb6040": {
          "model_module": "@jupyter-widgets/controls",
          "model_name": "FloatProgressModel",
          "model_module_version": "1.5.0",
          "state": {
            "_dom_classes": [],
            "_model_module": "@jupyter-widgets/controls",
            "_model_module_version": "1.5.0",
            "_model_name": "FloatProgressModel",
            "_view_count": null,
            "_view_module": "@jupyter-widgets/controls",
            "_view_module_version": "1.5.0",
            "_view_name": "ProgressView",
            "bar_style": "success",
            "description": "",
            "description_tooltip": null,
            "layout": "IPY_MODEL_57ddd8cfe0584dffaed97c57a2103d64",
            "max": 625,
            "min": 0,
            "orientation": "horizontal",
            "style": "IPY_MODEL_b998f7bf948a4b25889658e12f8783bf",
            "value": 625
          }
        },
        "2bc93d251c2a4b288d2f8c54631c0692": {
          "model_module": "@jupyter-widgets/controls",
          "model_name": "HTMLModel",
          "model_module_version": "1.5.0",
          "state": {
            "_dom_classes": [],
            "_model_module": "@jupyter-widgets/controls",
            "_model_module_version": "1.5.0",
            "_model_name": "HTMLModel",
            "_view_count": null,
            "_view_module": "@jupyter-widgets/controls",
            "_view_module_version": "1.5.0",
            "_view_name": "HTMLView",
            "description": "",
            "description_tooltip": null,
            "layout": "IPY_MODEL_08a8cf141be2446284016c18be5bb620",
            "placeholder": "​",
            "style": "IPY_MODEL_fa311e9ce20a440fa80f7fe208f92d4f",
            "value": " 625/625 [00:00&lt;00:00, 15.6kB/s]"
          }
        },
        "fe723206d6e4495e9c533482274c3976": {
          "model_module": "@jupyter-widgets/base",
          "model_name": "LayoutModel",
          "model_module_version": "1.2.0",
          "state": {
            "_model_module": "@jupyter-widgets/base",
            "_model_module_version": "1.2.0",
            "_model_name": "LayoutModel",
            "_view_count": null,
            "_view_module": "@jupyter-widgets/base",
            "_view_module_version": "1.2.0",
            "_view_name": "LayoutView",
            "align_content": null,
            "align_items": null,
            "align_self": null,
            "border": null,
            "bottom": null,
            "display": null,
            "flex": null,
            "flex_flow": null,
            "grid_area": null,
            "grid_auto_columns": null,
            "grid_auto_flow": null,
            "grid_auto_rows": null,
            "grid_column": null,
            "grid_gap": null,
            "grid_row": null,
            "grid_template_areas": null,
            "grid_template_columns": null,
            "grid_template_rows": null,
            "height": null,
            "justify_content": null,
            "justify_items": null,
            "left": null,
            "margin": null,
            "max_height": null,
            "max_width": null,
            "min_height": null,
            "min_width": null,
            "object_fit": null,
            "object_position": null,
            "order": null,
            "overflow": null,
            "overflow_x": null,
            "overflow_y": null,
            "padding": null,
            "right": null,
            "top": null,
            "visibility": null,
            "width": null
          }
        },
        "cdb10257914749a4a0a111d0222287ea": {
          "model_module": "@jupyter-widgets/base",
          "model_name": "LayoutModel",
          "model_module_version": "1.2.0",
          "state": {
            "_model_module": "@jupyter-widgets/base",
            "_model_module_version": "1.2.0",
            "_model_name": "LayoutModel",
            "_view_count": null,
            "_view_module": "@jupyter-widgets/base",
            "_view_module_version": "1.2.0",
            "_view_name": "LayoutView",
            "align_content": null,
            "align_items": null,
            "align_self": null,
            "border": null,
            "bottom": null,
            "display": null,
            "flex": null,
            "flex_flow": null,
            "grid_area": null,
            "grid_auto_columns": null,
            "grid_auto_flow": null,
            "grid_auto_rows": null,
            "grid_column": null,
            "grid_gap": null,
            "grid_row": null,
            "grid_template_areas": null,
            "grid_template_columns": null,
            "grid_template_rows": null,
            "height": null,
            "justify_content": null,
            "justify_items": null,
            "left": null,
            "margin": null,
            "max_height": null,
            "max_width": null,
            "min_height": null,
            "min_width": null,
            "object_fit": null,
            "object_position": null,
            "order": null,
            "overflow": null,
            "overflow_x": null,
            "overflow_y": null,
            "padding": null,
            "right": null,
            "top": null,
            "visibility": null,
            "width": null
          }
        },
        "a8358f745fff4f02a75c8adaf9ab7b2a": {
          "model_module": "@jupyter-widgets/controls",
          "model_name": "DescriptionStyleModel",
          "model_module_version": "1.5.0",
          "state": {
            "_model_module": "@jupyter-widgets/controls",
            "_model_module_version": "1.5.0",
            "_model_name": "DescriptionStyleModel",
            "_view_count": null,
            "_view_module": "@jupyter-widgets/base",
            "_view_module_version": "1.2.0",
            "_view_name": "StyleView",
            "description_width": ""
          }
        },
        "57ddd8cfe0584dffaed97c57a2103d64": {
          "model_module": "@jupyter-widgets/base",
          "model_name": "LayoutModel",
          "model_module_version": "1.2.0",
          "state": {
            "_model_module": "@jupyter-widgets/base",
            "_model_module_version": "1.2.0",
            "_model_name": "LayoutModel",
            "_view_count": null,
            "_view_module": "@jupyter-widgets/base",
            "_view_module_version": "1.2.0",
            "_view_name": "LayoutView",
            "align_content": null,
            "align_items": null,
            "align_self": null,
            "border": null,
            "bottom": null,
            "display": null,
            "flex": null,
            "flex_flow": null,
            "grid_area": null,
            "grid_auto_columns": null,
            "grid_auto_flow": null,
            "grid_auto_rows": null,
            "grid_column": null,
            "grid_gap": null,
            "grid_row": null,
            "grid_template_areas": null,
            "grid_template_columns": null,
            "grid_template_rows": null,
            "height": null,
            "justify_content": null,
            "justify_items": null,
            "left": null,
            "margin": null,
            "max_height": null,
            "max_width": null,
            "min_height": null,
            "min_width": null,
            "object_fit": null,
            "object_position": null,
            "order": null,
            "overflow": null,
            "overflow_x": null,
            "overflow_y": null,
            "padding": null,
            "right": null,
            "top": null,
            "visibility": null,
            "width": null
          }
        },
        "b998f7bf948a4b25889658e12f8783bf": {
          "model_module": "@jupyter-widgets/controls",
          "model_name": "ProgressStyleModel",
          "model_module_version": "1.5.0",
          "state": {
            "_model_module": "@jupyter-widgets/controls",
            "_model_module_version": "1.5.0",
            "_model_name": "ProgressStyleModel",
            "_view_count": null,
            "_view_module": "@jupyter-widgets/base",
            "_view_module_version": "1.2.0",
            "_view_name": "StyleView",
            "bar_color": null,
            "description_width": ""
          }
        },
        "08a8cf141be2446284016c18be5bb620": {
          "model_module": "@jupyter-widgets/base",
          "model_name": "LayoutModel",
          "model_module_version": "1.2.0",
          "state": {
            "_model_module": "@jupyter-widgets/base",
            "_model_module_version": "1.2.0",
            "_model_name": "LayoutModel",
            "_view_count": null,
            "_view_module": "@jupyter-widgets/base",
            "_view_module_version": "1.2.0",
            "_view_name": "LayoutView",
            "align_content": null,
            "align_items": null,
            "align_self": null,
            "border": null,
            "bottom": null,
            "display": null,
            "flex": null,
            "flex_flow": null,
            "grid_area": null,
            "grid_auto_columns": null,
            "grid_auto_flow": null,
            "grid_auto_rows": null,
            "grid_column": null,
            "grid_gap": null,
            "grid_row": null,
            "grid_template_areas": null,
            "grid_template_columns": null,
            "grid_template_rows": null,
            "height": null,
            "justify_content": null,
            "justify_items": null,
            "left": null,
            "margin": null,
            "max_height": null,
            "max_width": null,
            "min_height": null,
            "min_width": null,
            "object_fit": null,
            "object_position": null,
            "order": null,
            "overflow": null,
            "overflow_x": null,
            "overflow_y": null,
            "padding": null,
            "right": null,
            "top": null,
            "visibility": null,
            "width": null
          }
        },
        "fa311e9ce20a440fa80f7fe208f92d4f": {
          "model_module": "@jupyter-widgets/controls",
          "model_name": "DescriptionStyleModel",
          "model_module_version": "1.5.0",
          "state": {
            "_model_module": "@jupyter-widgets/controls",
            "_model_module_version": "1.5.0",
            "_model_name": "DescriptionStyleModel",
            "_view_count": null,
            "_view_module": "@jupyter-widgets/base",
            "_view_module_version": "1.2.0",
            "_view_name": "StyleView",
            "description_width": ""
          }
        },
        "9d9b9b8cf14e4c89b79437f9c680c78f": {
          "model_module": "@jupyter-widgets/controls",
          "model_name": "HBoxModel",
          "model_module_version": "1.5.0",
          "state": {
            "_dom_classes": [],
            "_model_module": "@jupyter-widgets/controls",
            "_model_module_version": "1.5.0",
            "_model_name": "HBoxModel",
            "_view_count": null,
            "_view_module": "@jupyter-widgets/controls",
            "_view_module_version": "1.5.0",
            "_view_name": "HBoxView",
            "box_style": "",
            "children": [
              "IPY_MODEL_f386782c086a42538a81183b5bff7bf4",
              "IPY_MODEL_597ea1e732674a11816dc40804035f67",
              "IPY_MODEL_d5ea2c8a9c1b440eb2762cdea245b28b"
            ],
            "layout": "IPY_MODEL_55e818d2e0b3466da50a42297da74781"
          }
        },
        "f386782c086a42538a81183b5bff7bf4": {
          "model_module": "@jupyter-widgets/controls",
          "model_name": "HTMLModel",
          "model_module_version": "1.5.0",
          "state": {
            "_dom_classes": [],
            "_model_module": "@jupyter-widgets/controls",
            "_model_module_version": "1.5.0",
            "_model_name": "HTMLModel",
            "_view_count": null,
            "_view_module": "@jupyter-widgets/controls",
            "_view_module_version": "1.5.0",
            "_view_name": "HTMLView",
            "description": "",
            "description_tooltip": null,
            "layout": "IPY_MODEL_8ad8562a355a45aba13121a568b61399",
            "placeholder": "​",
            "style": "IPY_MODEL_d501d5d81cf946f2917b5e61fa326a28",
            "value": "Downloading: 100%"
          }
        },
        "597ea1e732674a11816dc40804035f67": {
          "model_module": "@jupyter-widgets/controls",
          "model_name": "FloatProgressModel",
          "model_module_version": "1.5.0",
          "state": {
            "_dom_classes": [],
            "_model_module": "@jupyter-widgets/controls",
            "_model_module_version": "1.5.0",
            "_model_name": "FloatProgressModel",
            "_view_count": null,
            "_view_module": "@jupyter-widgets/controls",
            "_view_module_version": "1.5.0",
            "_view_name": "ProgressView",
            "bar_style": "success",
            "description": "",
            "description_tooltip": null,
            "layout": "IPY_MODEL_f11d5eccb34d428598d3d3c53032b169",
            "max": 871891,
            "min": 0,
            "orientation": "horizontal",
            "style": "IPY_MODEL_a7c6a665b5f74c9d90afee307d5dd304",
            "value": 871891
          }
        },
        "d5ea2c8a9c1b440eb2762cdea245b28b": {
          "model_module": "@jupyter-widgets/controls",
          "model_name": "HTMLModel",
          "model_module_version": "1.5.0",
          "state": {
            "_dom_classes": [],
            "_model_module": "@jupyter-widgets/controls",
            "_model_module_version": "1.5.0",
            "_model_name": "HTMLModel",
            "_view_count": null,
            "_view_module": "@jupyter-widgets/controls",
            "_view_module_version": "1.5.0",
            "_view_name": "HTMLView",
            "description": "",
            "description_tooltip": null,
            "layout": "IPY_MODEL_85d0c3e5b39b454a8ba466e52003329e",
            "placeholder": "​",
            "style": "IPY_MODEL_7d4d426bb7784eeda032bccce9371c65",
            "value": " 851k/851k [00:01&lt;00:00, 1.13MB/s]"
          }
        },
        "55e818d2e0b3466da50a42297da74781": {
          "model_module": "@jupyter-widgets/base",
          "model_name": "LayoutModel",
          "model_module_version": "1.2.0",
          "state": {
            "_model_module": "@jupyter-widgets/base",
            "_model_module_version": "1.2.0",
            "_model_name": "LayoutModel",
            "_view_count": null,
            "_view_module": "@jupyter-widgets/base",
            "_view_module_version": "1.2.0",
            "_view_name": "LayoutView",
            "align_content": null,
            "align_items": null,
            "align_self": null,
            "border": null,
            "bottom": null,
            "display": null,
            "flex": null,
            "flex_flow": null,
            "grid_area": null,
            "grid_auto_columns": null,
            "grid_auto_flow": null,
            "grid_auto_rows": null,
            "grid_column": null,
            "grid_gap": null,
            "grid_row": null,
            "grid_template_areas": null,
            "grid_template_columns": null,
            "grid_template_rows": null,
            "height": null,
            "justify_content": null,
            "justify_items": null,
            "left": null,
            "margin": null,
            "max_height": null,
            "max_width": null,
            "min_height": null,
            "min_width": null,
            "object_fit": null,
            "object_position": null,
            "order": null,
            "overflow": null,
            "overflow_x": null,
            "overflow_y": null,
            "padding": null,
            "right": null,
            "top": null,
            "visibility": null,
            "width": null
          }
        },
        "8ad8562a355a45aba13121a568b61399": {
          "model_module": "@jupyter-widgets/base",
          "model_name": "LayoutModel",
          "model_module_version": "1.2.0",
          "state": {
            "_model_module": "@jupyter-widgets/base",
            "_model_module_version": "1.2.0",
            "_model_name": "LayoutModel",
            "_view_count": null,
            "_view_module": "@jupyter-widgets/base",
            "_view_module_version": "1.2.0",
            "_view_name": "LayoutView",
            "align_content": null,
            "align_items": null,
            "align_self": null,
            "border": null,
            "bottom": null,
            "display": null,
            "flex": null,
            "flex_flow": null,
            "grid_area": null,
            "grid_auto_columns": null,
            "grid_auto_flow": null,
            "grid_auto_rows": null,
            "grid_column": null,
            "grid_gap": null,
            "grid_row": null,
            "grid_template_areas": null,
            "grid_template_columns": null,
            "grid_template_rows": null,
            "height": null,
            "justify_content": null,
            "justify_items": null,
            "left": null,
            "margin": null,
            "max_height": null,
            "max_width": null,
            "min_height": null,
            "min_width": null,
            "object_fit": null,
            "object_position": null,
            "order": null,
            "overflow": null,
            "overflow_x": null,
            "overflow_y": null,
            "padding": null,
            "right": null,
            "top": null,
            "visibility": null,
            "width": null
          }
        },
        "d501d5d81cf946f2917b5e61fa326a28": {
          "model_module": "@jupyter-widgets/controls",
          "model_name": "DescriptionStyleModel",
          "model_module_version": "1.5.0",
          "state": {
            "_model_module": "@jupyter-widgets/controls",
            "_model_module_version": "1.5.0",
            "_model_name": "DescriptionStyleModel",
            "_view_count": null,
            "_view_module": "@jupyter-widgets/base",
            "_view_module_version": "1.2.0",
            "_view_name": "StyleView",
            "description_width": ""
          }
        },
        "f11d5eccb34d428598d3d3c53032b169": {
          "model_module": "@jupyter-widgets/base",
          "model_name": "LayoutModel",
          "model_module_version": "1.2.0",
          "state": {
            "_model_module": "@jupyter-widgets/base",
            "_model_module_version": "1.2.0",
            "_model_name": "LayoutModel",
            "_view_count": null,
            "_view_module": "@jupyter-widgets/base",
            "_view_module_version": "1.2.0",
            "_view_name": "LayoutView",
            "align_content": null,
            "align_items": null,
            "align_self": null,
            "border": null,
            "bottom": null,
            "display": null,
            "flex": null,
            "flex_flow": null,
            "grid_area": null,
            "grid_auto_columns": null,
            "grid_auto_flow": null,
            "grid_auto_rows": null,
            "grid_column": null,
            "grid_gap": null,
            "grid_row": null,
            "grid_template_areas": null,
            "grid_template_columns": null,
            "grid_template_rows": null,
            "height": null,
            "justify_content": null,
            "justify_items": null,
            "left": null,
            "margin": null,
            "max_height": null,
            "max_width": null,
            "min_height": null,
            "min_width": null,
            "object_fit": null,
            "object_position": null,
            "order": null,
            "overflow": null,
            "overflow_x": null,
            "overflow_y": null,
            "padding": null,
            "right": null,
            "top": null,
            "visibility": null,
            "width": null
          }
        },
        "a7c6a665b5f74c9d90afee307d5dd304": {
          "model_module": "@jupyter-widgets/controls",
          "model_name": "ProgressStyleModel",
          "model_module_version": "1.5.0",
          "state": {
            "_model_module": "@jupyter-widgets/controls",
            "_model_module_version": "1.5.0",
            "_model_name": "ProgressStyleModel",
            "_view_count": null,
            "_view_module": "@jupyter-widgets/base",
            "_view_module_version": "1.2.0",
            "_view_name": "StyleView",
            "bar_color": null,
            "description_width": ""
          }
        },
        "85d0c3e5b39b454a8ba466e52003329e": {
          "model_module": "@jupyter-widgets/base",
          "model_name": "LayoutModel",
          "model_module_version": "1.2.0",
          "state": {
            "_model_module": "@jupyter-widgets/base",
            "_model_module_version": "1.2.0",
            "_model_name": "LayoutModel",
            "_view_count": null,
            "_view_module": "@jupyter-widgets/base",
            "_view_module_version": "1.2.0",
            "_view_name": "LayoutView",
            "align_content": null,
            "align_items": null,
            "align_self": null,
            "border": null,
            "bottom": null,
            "display": null,
            "flex": null,
            "flex_flow": null,
            "grid_area": null,
            "grid_auto_columns": null,
            "grid_auto_flow": null,
            "grid_auto_rows": null,
            "grid_column": null,
            "grid_gap": null,
            "grid_row": null,
            "grid_template_areas": null,
            "grid_template_columns": null,
            "grid_template_rows": null,
            "height": null,
            "justify_content": null,
            "justify_items": null,
            "left": null,
            "margin": null,
            "max_height": null,
            "max_width": null,
            "min_height": null,
            "min_width": null,
            "object_fit": null,
            "object_position": null,
            "order": null,
            "overflow": null,
            "overflow_x": null,
            "overflow_y": null,
            "padding": null,
            "right": null,
            "top": null,
            "visibility": null,
            "width": null
          }
        },
        "7d4d426bb7784eeda032bccce9371c65": {
          "model_module": "@jupyter-widgets/controls",
          "model_name": "DescriptionStyleModel",
          "model_module_version": "1.5.0",
          "state": {
            "_model_module": "@jupyter-widgets/controls",
            "_model_module_version": "1.5.0",
            "_model_name": "DescriptionStyleModel",
            "_view_count": null,
            "_view_module": "@jupyter-widgets/base",
            "_view_module_version": "1.2.0",
            "_view_name": "StyleView",
            "description_width": ""
          }
        },
        "ab878659eee7457a83d45075059f0f77": {
          "model_module": "@jupyter-widgets/controls",
          "model_name": "HBoxModel",
          "model_module_version": "1.5.0",
          "state": {
            "_dom_classes": [],
            "_model_module": "@jupyter-widgets/controls",
            "_model_module_version": "1.5.0",
            "_model_name": "HBoxModel",
            "_view_count": null,
            "_view_module": "@jupyter-widgets/controls",
            "_view_module_version": "1.5.0",
            "_view_name": "HBoxView",
            "box_style": "",
            "children": [
              "IPY_MODEL_fd662315f76045aea80f1d862ac9e72d",
              "IPY_MODEL_843b7e9773fc47b8b3cc7db5475c6cbb",
              "IPY_MODEL_83134ecd3d2a42a5beb51577d6083ed5"
            ],
            "layout": "IPY_MODEL_4b5bde2fba674a879ff0a0a272872d47"
          }
        },
        "fd662315f76045aea80f1d862ac9e72d": {
          "model_module": "@jupyter-widgets/controls",
          "model_name": "HTMLModel",
          "model_module_version": "1.5.0",
          "state": {
            "_dom_classes": [],
            "_model_module": "@jupyter-widgets/controls",
            "_model_module_version": "1.5.0",
            "_model_name": "HTMLModel",
            "_view_count": null,
            "_view_module": "@jupyter-widgets/controls",
            "_view_module_version": "1.5.0",
            "_view_name": "HTMLView",
            "description": "",
            "description_tooltip": null,
            "layout": "IPY_MODEL_0a23388ebe3f4e52b3535d4b364d9e70",
            "placeholder": "​",
            "style": "IPY_MODEL_b2b13183a5084941aad94133cc4f0eb5",
            "value": "Downloading: 100%"
          }
        },
        "843b7e9773fc47b8b3cc7db5475c6cbb": {
          "model_module": "@jupyter-widgets/controls",
          "model_name": "FloatProgressModel",
          "model_module_version": "1.5.0",
          "state": {
            "_dom_classes": [],
            "_model_module": "@jupyter-widgets/controls",
            "_model_module_version": "1.5.0",
            "_model_name": "FloatProgressModel",
            "_view_count": null,
            "_view_module": "@jupyter-widgets/controls",
            "_view_module_version": "1.5.0",
            "_view_name": "ProgressView",
            "bar_style": "success",
            "description": "",
            "description_tooltip": null,
            "layout": "IPY_MODEL_c8a174d8e91e49daad6456642f62f1a4",
            "max": 672271273,
            "min": 0,
            "orientation": "horizontal",
            "style": "IPY_MODEL_677b206c49cb41b181db87c831d120f4",
            "value": 672271273
          }
        },
        "83134ecd3d2a42a5beb51577d6083ed5": {
          "model_module": "@jupyter-widgets/controls",
          "model_name": "HTMLModel",
          "model_module_version": "1.5.0",
          "state": {
            "_dom_classes": [],
            "_model_module": "@jupyter-widgets/controls",
            "_model_module_version": "1.5.0",
            "_model_name": "HTMLModel",
            "_view_count": null,
            "_view_module": "@jupyter-widgets/controls",
            "_view_module_version": "1.5.0",
            "_view_name": "HTMLView",
            "description": "",
            "description_tooltip": null,
            "layout": "IPY_MODEL_66992e2215f144fea6e5ba51a0012f63",
            "placeholder": "​",
            "style": "IPY_MODEL_e0850c678ed84b41903e24de08af6bcf",
            "value": " 641M/641M [00:18&lt;00:00, 34.1MB/s]"
          }
        },
        "4b5bde2fba674a879ff0a0a272872d47": {
          "model_module": "@jupyter-widgets/base",
          "model_name": "LayoutModel",
          "model_module_version": "1.2.0",
          "state": {
            "_model_module": "@jupyter-widgets/base",
            "_model_module_version": "1.2.0",
            "_model_name": "LayoutModel",
            "_view_count": null,
            "_view_module": "@jupyter-widgets/base",
            "_view_module_version": "1.2.0",
            "_view_name": "LayoutView",
            "align_content": null,
            "align_items": null,
            "align_self": null,
            "border": null,
            "bottom": null,
            "display": null,
            "flex": null,
            "flex_flow": null,
            "grid_area": null,
            "grid_auto_columns": null,
            "grid_auto_flow": null,
            "grid_auto_rows": null,
            "grid_column": null,
            "grid_gap": null,
            "grid_row": null,
            "grid_template_areas": null,
            "grid_template_columns": null,
            "grid_template_rows": null,
            "height": null,
            "justify_content": null,
            "justify_items": null,
            "left": null,
            "margin": null,
            "max_height": null,
            "max_width": null,
            "min_height": null,
            "min_width": null,
            "object_fit": null,
            "object_position": null,
            "order": null,
            "overflow": null,
            "overflow_x": null,
            "overflow_y": null,
            "padding": null,
            "right": null,
            "top": null,
            "visibility": null,
            "width": null
          }
        },
        "0a23388ebe3f4e52b3535d4b364d9e70": {
          "model_module": "@jupyter-widgets/base",
          "model_name": "LayoutModel",
          "model_module_version": "1.2.0",
          "state": {
            "_model_module": "@jupyter-widgets/base",
            "_model_module_version": "1.2.0",
            "_model_name": "LayoutModel",
            "_view_count": null,
            "_view_module": "@jupyter-widgets/base",
            "_view_module_version": "1.2.0",
            "_view_name": "LayoutView",
            "align_content": null,
            "align_items": null,
            "align_self": null,
            "border": null,
            "bottom": null,
            "display": null,
            "flex": null,
            "flex_flow": null,
            "grid_area": null,
            "grid_auto_columns": null,
            "grid_auto_flow": null,
            "grid_auto_rows": null,
            "grid_column": null,
            "grid_gap": null,
            "grid_row": null,
            "grid_template_areas": null,
            "grid_template_columns": null,
            "grid_template_rows": null,
            "height": null,
            "justify_content": null,
            "justify_items": null,
            "left": null,
            "margin": null,
            "max_height": null,
            "max_width": null,
            "min_height": null,
            "min_width": null,
            "object_fit": null,
            "object_position": null,
            "order": null,
            "overflow": null,
            "overflow_x": null,
            "overflow_y": null,
            "padding": null,
            "right": null,
            "top": null,
            "visibility": null,
            "width": null
          }
        },
        "b2b13183a5084941aad94133cc4f0eb5": {
          "model_module": "@jupyter-widgets/controls",
          "model_name": "DescriptionStyleModel",
          "model_module_version": "1.5.0",
          "state": {
            "_model_module": "@jupyter-widgets/controls",
            "_model_module_version": "1.5.0",
            "_model_name": "DescriptionStyleModel",
            "_view_count": null,
            "_view_module": "@jupyter-widgets/base",
            "_view_module_version": "1.2.0",
            "_view_name": "StyleView",
            "description_width": ""
          }
        },
        "c8a174d8e91e49daad6456642f62f1a4": {
          "model_module": "@jupyter-widgets/base",
          "model_name": "LayoutModel",
          "model_module_version": "1.2.0",
          "state": {
            "_model_module": "@jupyter-widgets/base",
            "_model_module_version": "1.2.0",
            "_model_name": "LayoutModel",
            "_view_count": null,
            "_view_module": "@jupyter-widgets/base",
            "_view_module_version": "1.2.0",
            "_view_name": "LayoutView",
            "align_content": null,
            "align_items": null,
            "align_self": null,
            "border": null,
            "bottom": null,
            "display": null,
            "flex": null,
            "flex_flow": null,
            "grid_area": null,
            "grid_auto_columns": null,
            "grid_auto_flow": null,
            "grid_auto_rows": null,
            "grid_column": null,
            "grid_gap": null,
            "grid_row": null,
            "grid_template_areas": null,
            "grid_template_columns": null,
            "grid_template_rows": null,
            "height": null,
            "justify_content": null,
            "justify_items": null,
            "left": null,
            "margin": null,
            "max_height": null,
            "max_width": null,
            "min_height": null,
            "min_width": null,
            "object_fit": null,
            "object_position": null,
            "order": null,
            "overflow": null,
            "overflow_x": null,
            "overflow_y": null,
            "padding": null,
            "right": null,
            "top": null,
            "visibility": null,
            "width": null
          }
        },
        "677b206c49cb41b181db87c831d120f4": {
          "model_module": "@jupyter-widgets/controls",
          "model_name": "ProgressStyleModel",
          "model_module_version": "1.5.0",
          "state": {
            "_model_module": "@jupyter-widgets/controls",
            "_model_module_version": "1.5.0",
            "_model_name": "ProgressStyleModel",
            "_view_count": null,
            "_view_module": "@jupyter-widgets/base",
            "_view_module_version": "1.2.0",
            "_view_name": "StyleView",
            "bar_color": null,
            "description_width": ""
          }
        },
        "66992e2215f144fea6e5ba51a0012f63": {
          "model_module": "@jupyter-widgets/base",
          "model_name": "LayoutModel",
          "model_module_version": "1.2.0",
          "state": {
            "_model_module": "@jupyter-widgets/base",
            "_model_module_version": "1.2.0",
            "_model_name": "LayoutModel",
            "_view_count": null,
            "_view_module": "@jupyter-widgets/base",
            "_view_module_version": "1.2.0",
            "_view_name": "LayoutView",
            "align_content": null,
            "align_items": null,
            "align_self": null,
            "border": null,
            "bottom": null,
            "display": null,
            "flex": null,
            "flex_flow": null,
            "grid_area": null,
            "grid_auto_columns": null,
            "grid_auto_flow": null,
            "grid_auto_rows": null,
            "grid_column": null,
            "grid_gap": null,
            "grid_row": null,
            "grid_template_areas": null,
            "grid_template_columns": null,
            "grid_template_rows": null,
            "height": null,
            "justify_content": null,
            "justify_items": null,
            "left": null,
            "margin": null,
            "max_height": null,
            "max_width": null,
            "min_height": null,
            "min_width": null,
            "object_fit": null,
            "object_position": null,
            "order": null,
            "overflow": null,
            "overflow_x": null,
            "overflow_y": null,
            "padding": null,
            "right": null,
            "top": null,
            "visibility": null,
            "width": null
          }
        },
        "e0850c678ed84b41903e24de08af6bcf": {
          "model_module": "@jupyter-widgets/controls",
          "model_name": "DescriptionStyleModel",
          "model_module_version": "1.5.0",
          "state": {
            "_model_module": "@jupyter-widgets/controls",
            "_model_module_version": "1.5.0",
            "_model_name": "DescriptionStyleModel",
            "_view_count": null,
            "_view_module": "@jupyter-widgets/base",
            "_view_module_version": "1.2.0",
            "_view_name": "StyleView",
            "description_width": ""
          }
        },
        "66791b57417d4cbe8463d03e377cc6e5": {
          "model_module": "@jupyter-widgets/controls",
          "model_name": "HBoxModel",
          "model_module_version": "1.5.0",
          "state": {
            "_dom_classes": [],
            "_model_module": "@jupyter-widgets/controls",
            "_model_module_version": "1.5.0",
            "_model_name": "HBoxModel",
            "_view_count": null,
            "_view_module": "@jupyter-widgets/controls",
            "_view_module_version": "1.5.0",
            "_view_name": "HBoxView",
            "box_style": "",
            "children": [
              "IPY_MODEL_e93358e04d504899972c9b3137b0d419",
              "IPY_MODEL_2aeb09eff6344e48878b520bf90d503a",
              "IPY_MODEL_81859bc8632943f49d28b50a85e97383"
            ],
            "layout": "IPY_MODEL_4b89515dbc09448f863c0e09eb1c5e81"
          }
        },
        "e93358e04d504899972c9b3137b0d419": {
          "model_module": "@jupyter-widgets/controls",
          "model_name": "HTMLModel",
          "model_module_version": "1.5.0",
          "state": {
            "_dom_classes": [],
            "_model_module": "@jupyter-widgets/controls",
            "_model_module_version": "1.5.0",
            "_model_name": "HTMLModel",
            "_view_count": null,
            "_view_module": "@jupyter-widgets/controls",
            "_view_module_version": "1.5.0",
            "_view_name": "HTMLView",
            "description": "",
            "description_tooltip": null,
            "layout": "IPY_MODEL_607ab8ae48114b1491a9da29b88c0c5b",
            "placeholder": "​",
            "style": "IPY_MODEL_e3e82850334b4da191ca2ba1960a5b0b",
            "value": "Sanity Checking DataLoader 0: 100%"
          }
        },
        "2aeb09eff6344e48878b520bf90d503a": {
          "model_module": "@jupyter-widgets/controls",
          "model_name": "FloatProgressModel",
          "model_module_version": "1.5.0",
          "state": {
            "_dom_classes": [],
            "_model_module": "@jupyter-widgets/controls",
            "_model_module_version": "1.5.0",
            "_model_name": "FloatProgressModel",
            "_view_count": null,
            "_view_module": "@jupyter-widgets/controls",
            "_view_module_version": "1.5.0",
            "_view_name": "ProgressView",
            "bar_style": "info",
            "description": "",
            "description_tooltip": null,
            "layout": "IPY_MODEL_07b03c133004488dbd0450c225559319",
            "max": 1,
            "min": 0,
            "orientation": "horizontal",
            "style": "IPY_MODEL_75a33ae661a14f9ba2ea653b88718def",
            "value": 1
          }
        },
        "81859bc8632943f49d28b50a85e97383": {
          "model_module": "@jupyter-widgets/controls",
          "model_name": "HTMLModel",
          "model_module_version": "1.5.0",
          "state": {
            "_dom_classes": [],
            "_model_module": "@jupyter-widgets/controls",
            "_model_module_version": "1.5.0",
            "_model_name": "HTMLModel",
            "_view_count": null,
            "_view_module": "@jupyter-widgets/controls",
            "_view_module_version": "1.5.0",
            "_view_name": "HTMLView",
            "description": "",
            "description_tooltip": null,
            "layout": "IPY_MODEL_d49c6a1cc7204c08a23a8cd4b2d017fe",
            "placeholder": "​",
            "style": "IPY_MODEL_1d0d9ff46cb948628b8388cbdf84218a",
            "value": " 2/2 [00:01&lt;00:00,  1.25it/s]"
          }
        },
        "4b89515dbc09448f863c0e09eb1c5e81": {
          "model_module": "@jupyter-widgets/base",
          "model_name": "LayoutModel",
          "model_module_version": "1.2.0",
          "state": {
            "_model_module": "@jupyter-widgets/base",
            "_model_module_version": "1.2.0",
            "_model_name": "LayoutModel",
            "_view_count": null,
            "_view_module": "@jupyter-widgets/base",
            "_view_module_version": "1.2.0",
            "_view_name": "LayoutView",
            "align_content": null,
            "align_items": null,
            "align_self": null,
            "border": null,
            "bottom": null,
            "display": "inline-flex",
            "flex": null,
            "flex_flow": "row wrap",
            "grid_area": null,
            "grid_auto_columns": null,
            "grid_auto_flow": null,
            "grid_auto_rows": null,
            "grid_column": null,
            "grid_gap": null,
            "grid_row": null,
            "grid_template_areas": null,
            "grid_template_columns": null,
            "grid_template_rows": null,
            "height": null,
            "justify_content": null,
            "justify_items": null,
            "left": null,
            "margin": null,
            "max_height": null,
            "max_width": null,
            "min_height": null,
            "min_width": null,
            "object_fit": null,
            "object_position": null,
            "order": null,
            "overflow": null,
            "overflow_x": null,
            "overflow_y": null,
            "padding": null,
            "right": null,
            "top": null,
            "visibility": null,
            "width": "100%"
          }
        },
        "607ab8ae48114b1491a9da29b88c0c5b": {
          "model_module": "@jupyter-widgets/base",
          "model_name": "LayoutModel",
          "model_module_version": "1.2.0",
          "state": {
            "_model_module": "@jupyter-widgets/base",
            "_model_module_version": "1.2.0",
            "_model_name": "LayoutModel",
            "_view_count": null,
            "_view_module": "@jupyter-widgets/base",
            "_view_module_version": "1.2.0",
            "_view_name": "LayoutView",
            "align_content": null,
            "align_items": null,
            "align_self": null,
            "border": null,
            "bottom": null,
            "display": null,
            "flex": null,
            "flex_flow": null,
            "grid_area": null,
            "grid_auto_columns": null,
            "grid_auto_flow": null,
            "grid_auto_rows": null,
            "grid_column": null,
            "grid_gap": null,
            "grid_row": null,
            "grid_template_areas": null,
            "grid_template_columns": null,
            "grid_template_rows": null,
            "height": null,
            "justify_content": null,
            "justify_items": null,
            "left": null,
            "margin": null,
            "max_height": null,
            "max_width": null,
            "min_height": null,
            "min_width": null,
            "object_fit": null,
            "object_position": null,
            "order": null,
            "overflow": null,
            "overflow_x": null,
            "overflow_y": null,
            "padding": null,
            "right": null,
            "top": null,
            "visibility": null,
            "width": null
          }
        },
        "e3e82850334b4da191ca2ba1960a5b0b": {
          "model_module": "@jupyter-widgets/controls",
          "model_name": "DescriptionStyleModel",
          "model_module_version": "1.5.0",
          "state": {
            "_model_module": "@jupyter-widgets/controls",
            "_model_module_version": "1.5.0",
            "_model_name": "DescriptionStyleModel",
            "_view_count": null,
            "_view_module": "@jupyter-widgets/base",
            "_view_module_version": "1.2.0",
            "_view_name": "StyleView",
            "description_width": ""
          }
        },
        "07b03c133004488dbd0450c225559319": {
          "model_module": "@jupyter-widgets/base",
          "model_name": "LayoutModel",
          "model_module_version": "1.2.0",
          "state": {
            "_model_module": "@jupyter-widgets/base",
            "_model_module_version": "1.2.0",
            "_model_name": "LayoutModel",
            "_view_count": null,
            "_view_module": "@jupyter-widgets/base",
            "_view_module_version": "1.2.0",
            "_view_name": "LayoutView",
            "align_content": null,
            "align_items": null,
            "align_self": null,
            "border": null,
            "bottom": null,
            "display": null,
            "flex": "2",
            "flex_flow": null,
            "grid_area": null,
            "grid_auto_columns": null,
            "grid_auto_flow": null,
            "grid_auto_rows": null,
            "grid_column": null,
            "grid_gap": null,
            "grid_row": null,
            "grid_template_areas": null,
            "grid_template_columns": null,
            "grid_template_rows": null,
            "height": null,
            "justify_content": null,
            "justify_items": null,
            "left": null,
            "margin": null,
            "max_height": null,
            "max_width": null,
            "min_height": null,
            "min_width": null,
            "object_fit": null,
            "object_position": null,
            "order": null,
            "overflow": null,
            "overflow_x": null,
            "overflow_y": null,
            "padding": null,
            "right": null,
            "top": null,
            "visibility": null,
            "width": null
          }
        },
        "75a33ae661a14f9ba2ea653b88718def": {
          "model_module": "@jupyter-widgets/controls",
          "model_name": "ProgressStyleModel",
          "model_module_version": "1.5.0",
          "state": {
            "_model_module": "@jupyter-widgets/controls",
            "_model_module_version": "1.5.0",
            "_model_name": "ProgressStyleModel",
            "_view_count": null,
            "_view_module": "@jupyter-widgets/base",
            "_view_module_version": "1.2.0",
            "_view_name": "StyleView",
            "bar_color": null,
            "description_width": ""
          }
        },
        "d49c6a1cc7204c08a23a8cd4b2d017fe": {
          "model_module": "@jupyter-widgets/base",
          "model_name": "LayoutModel",
          "model_module_version": "1.2.0",
          "state": {
            "_model_module": "@jupyter-widgets/base",
            "_model_module_version": "1.2.0",
            "_model_name": "LayoutModel",
            "_view_count": null,
            "_view_module": "@jupyter-widgets/base",
            "_view_module_version": "1.2.0",
            "_view_name": "LayoutView",
            "align_content": null,
            "align_items": null,
            "align_self": null,
            "border": null,
            "bottom": null,
            "display": null,
            "flex": null,
            "flex_flow": null,
            "grid_area": null,
            "grid_auto_columns": null,
            "grid_auto_flow": null,
            "grid_auto_rows": null,
            "grid_column": null,
            "grid_gap": null,
            "grid_row": null,
            "grid_template_areas": null,
            "grid_template_columns": null,
            "grid_template_rows": null,
            "height": null,
            "justify_content": null,
            "justify_items": null,
            "left": null,
            "margin": null,
            "max_height": null,
            "max_width": null,
            "min_height": null,
            "min_width": null,
            "object_fit": null,
            "object_position": null,
            "order": null,
            "overflow": null,
            "overflow_x": null,
            "overflow_y": null,
            "padding": null,
            "right": null,
            "top": null,
            "visibility": null,
            "width": null
          }
        },
        "1d0d9ff46cb948628b8388cbdf84218a": {
          "model_module": "@jupyter-widgets/controls",
          "model_name": "DescriptionStyleModel",
          "model_module_version": "1.5.0",
          "state": {
            "_model_module": "@jupyter-widgets/controls",
            "_model_module_version": "1.5.0",
            "_model_name": "DescriptionStyleModel",
            "_view_count": null,
            "_view_module": "@jupyter-widgets/base",
            "_view_module_version": "1.2.0",
            "_view_name": "StyleView",
            "description_width": ""
          }
        },
        "9e0c004dfe9e4103aa67affe05e66773": {
          "model_module": "@jupyter-widgets/controls",
          "model_name": "HBoxModel",
          "model_module_version": "1.5.0",
          "state": {
            "_dom_classes": [],
            "_model_module": "@jupyter-widgets/controls",
            "_model_module_version": "1.5.0",
            "_model_name": "HBoxModel",
            "_view_count": null,
            "_view_module": "@jupyter-widgets/controls",
            "_view_module_version": "1.5.0",
            "_view_name": "HBoxView",
            "box_style": "",
            "children": [
              "IPY_MODEL_d5cb8004bfde4de2a225bfa41b06947c",
              "IPY_MODEL_d64d932cfcb24186b8490ee07e35170a",
              "IPY_MODEL_2103804765174a02838a3e2169f80b0b"
            ],
            "layout": "IPY_MODEL_0852ef040c1645acb591ad86c36445c9"
          }
        },
        "d5cb8004bfde4de2a225bfa41b06947c": {
          "model_module": "@jupyter-widgets/controls",
          "model_name": "HTMLModel",
          "model_module_version": "1.5.0",
          "state": {
            "_dom_classes": [],
            "_model_module": "@jupyter-widgets/controls",
            "_model_module_version": "1.5.0",
            "_model_name": "HTMLModel",
            "_view_count": null,
            "_view_module": "@jupyter-widgets/controls",
            "_view_module_version": "1.5.0",
            "_view_name": "HTMLView",
            "description": "",
            "description_tooltip": null,
            "layout": "IPY_MODEL_4ccfe42532f846b390332ba4e600bd19",
            "placeholder": "​",
            "style": "IPY_MODEL_dbc105ca89c54598a398ce50ab6ae00d",
            "value": "Epoch 2: 100%"
          }
        },
        "d64d932cfcb24186b8490ee07e35170a": {
          "model_module": "@jupyter-widgets/controls",
          "model_name": "FloatProgressModel",
          "model_module_version": "1.5.0",
          "state": {
            "_dom_classes": [],
            "_model_module": "@jupyter-widgets/controls",
            "_model_module_version": "1.5.0",
            "_model_name": "FloatProgressModel",
            "_view_count": null,
            "_view_module": "@jupyter-widgets/controls",
            "_view_module_version": "1.5.0",
            "_view_name": "ProgressView",
            "bar_style": "success",
            "description": "",
            "description_tooltip": null,
            "layout": "IPY_MODEL_bc59d8a7cdac4a2c88ac355ba9aa1ba4",
            "max": 1,
            "min": 0,
            "orientation": "horizontal",
            "style": "IPY_MODEL_e971b41ec0184822874c08056b71c7d6",
            "value": 1
          }
        },
        "2103804765174a02838a3e2169f80b0b": {
          "model_module": "@jupyter-widgets/controls",
          "model_name": "HTMLModel",
          "model_module_version": "1.5.0",
          "state": {
            "_dom_classes": [],
            "_model_module": "@jupyter-widgets/controls",
            "_model_module_version": "1.5.0",
            "_model_name": "HTMLModel",
            "_view_count": null,
            "_view_module": "@jupyter-widgets/controls",
            "_view_module_version": "1.5.0",
            "_view_name": "HTMLView",
            "description": "",
            "description_tooltip": null,
            "layout": "IPY_MODEL_049b862868ea428e888bbfde7dc3ab8a",
            "placeholder": "​",
            "style": "IPY_MODEL_536b0046caba4a87ac7565def23da7e5",
            "value": " 4532/4532 [4:56:41&lt;00:00,  3.93s/it, loss=0.0657, v_num=6-25, lr=1.72e-9]"
          }
        },
        "0852ef040c1645acb591ad86c36445c9": {
          "model_module": "@jupyter-widgets/base",
          "model_name": "LayoutModel",
          "model_module_version": "1.2.0",
          "state": {
            "_model_module": "@jupyter-widgets/base",
            "_model_module_version": "1.2.0",
            "_model_name": "LayoutModel",
            "_view_count": null,
            "_view_module": "@jupyter-widgets/base",
            "_view_module_version": "1.2.0",
            "_view_name": "LayoutView",
            "align_content": null,
            "align_items": null,
            "align_self": null,
            "border": null,
            "bottom": null,
            "display": "inline-flex",
            "flex": null,
            "flex_flow": "row wrap",
            "grid_area": null,
            "grid_auto_columns": null,
            "grid_auto_flow": null,
            "grid_auto_rows": null,
            "grid_column": null,
            "grid_gap": null,
            "grid_row": null,
            "grid_template_areas": null,
            "grid_template_columns": null,
            "grid_template_rows": null,
            "height": null,
            "justify_content": null,
            "justify_items": null,
            "left": null,
            "margin": null,
            "max_height": null,
            "max_width": null,
            "min_height": null,
            "min_width": null,
            "object_fit": null,
            "object_position": null,
            "order": null,
            "overflow": null,
            "overflow_x": null,
            "overflow_y": null,
            "padding": null,
            "right": null,
            "top": null,
            "visibility": null,
            "width": "100%"
          }
        },
        "4ccfe42532f846b390332ba4e600bd19": {
          "model_module": "@jupyter-widgets/base",
          "model_name": "LayoutModel",
          "model_module_version": "1.2.0",
          "state": {
            "_model_module": "@jupyter-widgets/base",
            "_model_module_version": "1.2.0",
            "_model_name": "LayoutModel",
            "_view_count": null,
            "_view_module": "@jupyter-widgets/base",
            "_view_module_version": "1.2.0",
            "_view_name": "LayoutView",
            "align_content": null,
            "align_items": null,
            "align_self": null,
            "border": null,
            "bottom": null,
            "display": null,
            "flex": null,
            "flex_flow": null,
            "grid_area": null,
            "grid_auto_columns": null,
            "grid_auto_flow": null,
            "grid_auto_rows": null,
            "grid_column": null,
            "grid_gap": null,
            "grid_row": null,
            "grid_template_areas": null,
            "grid_template_columns": null,
            "grid_template_rows": null,
            "height": null,
            "justify_content": null,
            "justify_items": null,
            "left": null,
            "margin": null,
            "max_height": null,
            "max_width": null,
            "min_height": null,
            "min_width": null,
            "object_fit": null,
            "object_position": null,
            "order": null,
            "overflow": null,
            "overflow_x": null,
            "overflow_y": null,
            "padding": null,
            "right": null,
            "top": null,
            "visibility": null,
            "width": null
          }
        },
        "dbc105ca89c54598a398ce50ab6ae00d": {
          "model_module": "@jupyter-widgets/controls",
          "model_name": "DescriptionStyleModel",
          "model_module_version": "1.5.0",
          "state": {
            "_model_module": "@jupyter-widgets/controls",
            "_model_module_version": "1.5.0",
            "_model_name": "DescriptionStyleModel",
            "_view_count": null,
            "_view_module": "@jupyter-widgets/base",
            "_view_module_version": "1.2.0",
            "_view_name": "StyleView",
            "description_width": ""
          }
        },
        "bc59d8a7cdac4a2c88ac355ba9aa1ba4": {
          "model_module": "@jupyter-widgets/base",
          "model_name": "LayoutModel",
          "model_module_version": "1.2.0",
          "state": {
            "_model_module": "@jupyter-widgets/base",
            "_model_module_version": "1.2.0",
            "_model_name": "LayoutModel",
            "_view_count": null,
            "_view_module": "@jupyter-widgets/base",
            "_view_module_version": "1.2.0",
            "_view_name": "LayoutView",
            "align_content": null,
            "align_items": null,
            "align_self": null,
            "border": null,
            "bottom": null,
            "display": null,
            "flex": "2",
            "flex_flow": null,
            "grid_area": null,
            "grid_auto_columns": null,
            "grid_auto_flow": null,
            "grid_auto_rows": null,
            "grid_column": null,
            "grid_gap": null,
            "grid_row": null,
            "grid_template_areas": null,
            "grid_template_columns": null,
            "grid_template_rows": null,
            "height": null,
            "justify_content": null,
            "justify_items": null,
            "left": null,
            "margin": null,
            "max_height": null,
            "max_width": null,
            "min_height": null,
            "min_width": null,
            "object_fit": null,
            "object_position": null,
            "order": null,
            "overflow": null,
            "overflow_x": null,
            "overflow_y": null,
            "padding": null,
            "right": null,
            "top": null,
            "visibility": null,
            "width": null
          }
        },
        "e971b41ec0184822874c08056b71c7d6": {
          "model_module": "@jupyter-widgets/controls",
          "model_name": "ProgressStyleModel",
          "model_module_version": "1.5.0",
          "state": {
            "_model_module": "@jupyter-widgets/controls",
            "_model_module_version": "1.5.0",
            "_model_name": "ProgressStyleModel",
            "_view_count": null,
            "_view_module": "@jupyter-widgets/base",
            "_view_module_version": "1.2.0",
            "_view_name": "StyleView",
            "bar_color": null,
            "description_width": ""
          }
        },
        "049b862868ea428e888bbfde7dc3ab8a": {
          "model_module": "@jupyter-widgets/base",
          "model_name": "LayoutModel",
          "model_module_version": "1.2.0",
          "state": {
            "_model_module": "@jupyter-widgets/base",
            "_model_module_version": "1.2.0",
            "_model_name": "LayoutModel",
            "_view_count": null,
            "_view_module": "@jupyter-widgets/base",
            "_view_module_version": "1.2.0",
            "_view_name": "LayoutView",
            "align_content": null,
            "align_items": null,
            "align_self": null,
            "border": null,
            "bottom": null,
            "display": null,
            "flex": null,
            "flex_flow": null,
            "grid_area": null,
            "grid_auto_columns": null,
            "grid_auto_flow": null,
            "grid_auto_rows": null,
            "grid_column": null,
            "grid_gap": null,
            "grid_row": null,
            "grid_template_areas": null,
            "grid_template_columns": null,
            "grid_template_rows": null,
            "height": null,
            "justify_content": null,
            "justify_items": null,
            "left": null,
            "margin": null,
            "max_height": null,
            "max_width": null,
            "min_height": null,
            "min_width": null,
            "object_fit": null,
            "object_position": null,
            "order": null,
            "overflow": null,
            "overflow_x": null,
            "overflow_y": null,
            "padding": null,
            "right": null,
            "top": null,
            "visibility": null,
            "width": null
          }
        },
        "536b0046caba4a87ac7565def23da7e5": {
          "model_module": "@jupyter-widgets/controls",
          "model_name": "DescriptionStyleModel",
          "model_module_version": "1.5.0",
          "state": {
            "_model_module": "@jupyter-widgets/controls",
            "_model_module_version": "1.5.0",
            "_model_name": "DescriptionStyleModel",
            "_view_count": null,
            "_view_module": "@jupyter-widgets/base",
            "_view_module_version": "1.2.0",
            "_view_name": "StyleView",
            "description_width": ""
          }
        },
        "56bde28edb7d487eb8c2f2aa8fbd5f5c": {
          "model_module": "@jupyter-widgets/controls",
          "model_name": "HBoxModel",
          "model_module_version": "1.5.0",
          "state": {
            "_dom_classes": [],
            "_model_module": "@jupyter-widgets/controls",
            "_model_module_version": "1.5.0",
            "_model_name": "HBoxModel",
            "_view_count": null,
            "_view_module": "@jupyter-widgets/controls",
            "_view_module_version": "1.5.0",
            "_view_name": "HBoxView",
            "box_style": "",
            "children": [
              "IPY_MODEL_c6b06f77ea524f5bb37282cbd0e7dd58",
              "IPY_MODEL_17227fc0c71743a9b4f6dca9ecd1451e",
              "IPY_MODEL_0a9644673ba54f3ba1182242a252ffd8"
            ],
            "layout": "IPY_MODEL_b0ca95db54404695886b622542d10cd1"
          }
        },
        "c6b06f77ea524f5bb37282cbd0e7dd58": {
          "model_module": "@jupyter-widgets/controls",
          "model_name": "HTMLModel",
          "model_module_version": "1.5.0",
          "state": {
            "_dom_classes": [],
            "_model_module": "@jupyter-widgets/controls",
            "_model_module_version": "1.5.0",
            "_model_name": "HTMLModel",
            "_view_count": null,
            "_view_module": "@jupyter-widgets/controls",
            "_view_module_version": "1.5.0",
            "_view_name": "HTMLView",
            "description": "",
            "description_tooltip": null,
            "layout": "IPY_MODEL_97ea38ebb19f488d866008fafd412732",
            "placeholder": "​",
            "style": "IPY_MODEL_60c795afb58b42179e661b6f47183276",
            "value": "Validation DataLoader 0: 100%"
          }
        },
        "17227fc0c71743a9b4f6dca9ecd1451e": {
          "model_module": "@jupyter-widgets/controls",
          "model_name": "FloatProgressModel",
          "model_module_version": "1.5.0",
          "state": {
            "_dom_classes": [],
            "_model_module": "@jupyter-widgets/controls",
            "_model_module_version": "1.5.0",
            "_model_name": "FloatProgressModel",
            "_view_count": null,
            "_view_module": "@jupyter-widgets/controls",
            "_view_module_version": "1.5.0",
            "_view_name": "ProgressView",
            "bar_style": "info",
            "description": "",
            "description_tooltip": null,
            "layout": "IPY_MODEL_70151354b0b64dd4bdc17040c4a02512",
            "max": 1,
            "min": 0,
            "orientation": "horizontal",
            "style": "IPY_MODEL_70095a9571b9405ea4abad2ab56b95d6",
            "value": 1
          }
        },
        "0a9644673ba54f3ba1182242a252ffd8": {
          "model_module": "@jupyter-widgets/controls",
          "model_name": "HTMLModel",
          "model_module_version": "1.5.0",
          "state": {
            "_dom_classes": [],
            "_model_module": "@jupyter-widgets/controls",
            "_model_module_version": "1.5.0",
            "_model_name": "HTMLModel",
            "_view_count": null,
            "_view_module": "@jupyter-widgets/controls",
            "_view_module_version": "1.5.0",
            "_view_name": "HTMLView",
            "description": "",
            "description_tooltip": null,
            "layout": "IPY_MODEL_1ec415c5a2a14e618218848dc4630b0e",
            "placeholder": "​",
            "style": "IPY_MODEL_372a30b03a974597a15b633ccf5d68fd",
            "value": " 218/218 [01:39&lt;00:00,  2.19it/s]"
          }
        },
        "b0ca95db54404695886b622542d10cd1": {
          "model_module": "@jupyter-widgets/base",
          "model_name": "LayoutModel",
          "model_module_version": "1.2.0",
          "state": {
            "_model_module": "@jupyter-widgets/base",
            "_model_module_version": "1.2.0",
            "_model_name": "LayoutModel",
            "_view_count": null,
            "_view_module": "@jupyter-widgets/base",
            "_view_module_version": "1.2.0",
            "_view_name": "LayoutView",
            "align_content": null,
            "align_items": null,
            "align_self": null,
            "border": null,
            "bottom": null,
            "display": "inline-flex",
            "flex": null,
            "flex_flow": "row wrap",
            "grid_area": null,
            "grid_auto_columns": null,
            "grid_auto_flow": null,
            "grid_auto_rows": null,
            "grid_column": null,
            "grid_gap": null,
            "grid_row": null,
            "grid_template_areas": null,
            "grid_template_columns": null,
            "grid_template_rows": null,
            "height": null,
            "justify_content": null,
            "justify_items": null,
            "left": null,
            "margin": null,
            "max_height": null,
            "max_width": null,
            "min_height": null,
            "min_width": null,
            "object_fit": null,
            "object_position": null,
            "order": null,
            "overflow": null,
            "overflow_x": null,
            "overflow_y": null,
            "padding": null,
            "right": null,
            "top": null,
            "visibility": null,
            "width": "100%"
          }
        },
        "97ea38ebb19f488d866008fafd412732": {
          "model_module": "@jupyter-widgets/base",
          "model_name": "LayoutModel",
          "model_module_version": "1.2.0",
          "state": {
            "_model_module": "@jupyter-widgets/base",
            "_model_module_version": "1.2.0",
            "_model_name": "LayoutModel",
            "_view_count": null,
            "_view_module": "@jupyter-widgets/base",
            "_view_module_version": "1.2.0",
            "_view_name": "LayoutView",
            "align_content": null,
            "align_items": null,
            "align_self": null,
            "border": null,
            "bottom": null,
            "display": null,
            "flex": null,
            "flex_flow": null,
            "grid_area": null,
            "grid_auto_columns": null,
            "grid_auto_flow": null,
            "grid_auto_rows": null,
            "grid_column": null,
            "grid_gap": null,
            "grid_row": null,
            "grid_template_areas": null,
            "grid_template_columns": null,
            "grid_template_rows": null,
            "height": null,
            "justify_content": null,
            "justify_items": null,
            "left": null,
            "margin": null,
            "max_height": null,
            "max_width": null,
            "min_height": null,
            "min_width": null,
            "object_fit": null,
            "object_position": null,
            "order": null,
            "overflow": null,
            "overflow_x": null,
            "overflow_y": null,
            "padding": null,
            "right": null,
            "top": null,
            "visibility": null,
            "width": null
          }
        },
        "60c795afb58b42179e661b6f47183276": {
          "model_module": "@jupyter-widgets/controls",
          "model_name": "DescriptionStyleModel",
          "model_module_version": "1.5.0",
          "state": {
            "_model_module": "@jupyter-widgets/controls",
            "_model_module_version": "1.5.0",
            "_model_name": "DescriptionStyleModel",
            "_view_count": null,
            "_view_module": "@jupyter-widgets/base",
            "_view_module_version": "1.2.0",
            "_view_name": "StyleView",
            "description_width": ""
          }
        },
        "70151354b0b64dd4bdc17040c4a02512": {
          "model_module": "@jupyter-widgets/base",
          "model_name": "LayoutModel",
          "model_module_version": "1.2.0",
          "state": {
            "_model_module": "@jupyter-widgets/base",
            "_model_module_version": "1.2.0",
            "_model_name": "LayoutModel",
            "_view_count": null,
            "_view_module": "@jupyter-widgets/base",
            "_view_module_version": "1.2.0",
            "_view_name": "LayoutView",
            "align_content": null,
            "align_items": null,
            "align_self": null,
            "border": null,
            "bottom": null,
            "display": null,
            "flex": "2",
            "flex_flow": null,
            "grid_area": null,
            "grid_auto_columns": null,
            "grid_auto_flow": null,
            "grid_auto_rows": null,
            "grid_column": null,
            "grid_gap": null,
            "grid_row": null,
            "grid_template_areas": null,
            "grid_template_columns": null,
            "grid_template_rows": null,
            "height": null,
            "justify_content": null,
            "justify_items": null,
            "left": null,
            "margin": null,
            "max_height": null,
            "max_width": null,
            "min_height": null,
            "min_width": null,
            "object_fit": null,
            "object_position": null,
            "order": null,
            "overflow": null,
            "overflow_x": null,
            "overflow_y": null,
            "padding": null,
            "right": null,
            "top": null,
            "visibility": null,
            "width": null
          }
        },
        "70095a9571b9405ea4abad2ab56b95d6": {
          "model_module": "@jupyter-widgets/controls",
          "model_name": "ProgressStyleModel",
          "model_module_version": "1.5.0",
          "state": {
            "_model_module": "@jupyter-widgets/controls",
            "_model_module_version": "1.5.0",
            "_model_name": "ProgressStyleModel",
            "_view_count": null,
            "_view_module": "@jupyter-widgets/base",
            "_view_module_version": "1.2.0",
            "_view_name": "StyleView",
            "bar_color": null,
            "description_width": ""
          }
        },
        "1ec415c5a2a14e618218848dc4630b0e": {
          "model_module": "@jupyter-widgets/base",
          "model_name": "LayoutModel",
          "model_module_version": "1.2.0",
          "state": {
            "_model_module": "@jupyter-widgets/base",
            "_model_module_version": "1.2.0",
            "_model_name": "LayoutModel",
            "_view_count": null,
            "_view_module": "@jupyter-widgets/base",
            "_view_module_version": "1.2.0",
            "_view_name": "LayoutView",
            "align_content": null,
            "align_items": null,
            "align_self": null,
            "border": null,
            "bottom": null,
            "display": null,
            "flex": null,
            "flex_flow": null,
            "grid_area": null,
            "grid_auto_columns": null,
            "grid_auto_flow": null,
            "grid_auto_rows": null,
            "grid_column": null,
            "grid_gap": null,
            "grid_row": null,
            "grid_template_areas": null,
            "grid_template_columns": null,
            "grid_template_rows": null,
            "height": null,
            "justify_content": null,
            "justify_items": null,
            "left": null,
            "margin": null,
            "max_height": null,
            "max_width": null,
            "min_height": null,
            "min_width": null,
            "object_fit": null,
            "object_position": null,
            "order": null,
            "overflow": null,
            "overflow_x": null,
            "overflow_y": null,
            "padding": null,
            "right": null,
            "top": null,
            "visibility": null,
            "width": null
          }
        },
        "372a30b03a974597a15b633ccf5d68fd": {
          "model_module": "@jupyter-widgets/controls",
          "model_name": "DescriptionStyleModel",
          "model_module_version": "1.5.0",
          "state": {
            "_model_module": "@jupyter-widgets/controls",
            "_model_module_version": "1.5.0",
            "_model_name": "DescriptionStyleModel",
            "_view_count": null,
            "_view_module": "@jupyter-widgets/base",
            "_view_module_version": "1.2.0",
            "_view_name": "StyleView",
            "description_width": ""
          }
        },
        "97d1d92a1d9a4597b460435d683e55fe": {
          "model_module": "@jupyter-widgets/controls",
          "model_name": "HBoxModel",
          "model_module_version": "1.5.0",
          "state": {
            "_dom_classes": [],
            "_model_module": "@jupyter-widgets/controls",
            "_model_module_version": "1.5.0",
            "_model_name": "HBoxModel",
            "_view_count": null,
            "_view_module": "@jupyter-widgets/controls",
            "_view_module_version": "1.5.0",
            "_view_name": "HBoxView",
            "box_style": "",
            "children": [
              "IPY_MODEL_4eaee352287b48288cedbf3ae16ce7b5",
              "IPY_MODEL_d0606ae764774f87b3bd8f96156058db",
              "IPY_MODEL_41c9841b4db641c28093fb148696b06b"
            ],
            "layout": "IPY_MODEL_27d1312a77e6411ca2a6f695a7c70642"
          }
        },
        "4eaee352287b48288cedbf3ae16ce7b5": {
          "model_module": "@jupyter-widgets/controls",
          "model_name": "HTMLModel",
          "model_module_version": "1.5.0",
          "state": {
            "_dom_classes": [],
            "_model_module": "@jupyter-widgets/controls",
            "_model_module_version": "1.5.0",
            "_model_name": "HTMLModel",
            "_view_count": null,
            "_view_module": "@jupyter-widgets/controls",
            "_view_module_version": "1.5.0",
            "_view_name": "HTMLView",
            "description": "",
            "description_tooltip": null,
            "layout": "IPY_MODEL_88650aaf26e24d96872576b2ae613b82",
            "placeholder": "​",
            "style": "IPY_MODEL_50e4c5f9081f41e39f044774c9a1bba0",
            "value": "Validation DataLoader 0: 100%"
          }
        },
        "d0606ae764774f87b3bd8f96156058db": {
          "model_module": "@jupyter-widgets/controls",
          "model_name": "FloatProgressModel",
          "model_module_version": "1.5.0",
          "state": {
            "_dom_classes": [],
            "_model_module": "@jupyter-widgets/controls",
            "_model_module_version": "1.5.0",
            "_model_name": "FloatProgressModel",
            "_view_count": null,
            "_view_module": "@jupyter-widgets/controls",
            "_view_module_version": "1.5.0",
            "_view_name": "ProgressView",
            "bar_style": "info",
            "description": "",
            "description_tooltip": null,
            "layout": "IPY_MODEL_e4679c423caa4248b51815b53b575396",
            "max": 1,
            "min": 0,
            "orientation": "horizontal",
            "style": "IPY_MODEL_e552a1f3e35840c8989dff494d2689fe",
            "value": 1
          }
        },
        "41c9841b4db641c28093fb148696b06b": {
          "model_module": "@jupyter-widgets/controls",
          "model_name": "HTMLModel",
          "model_module_version": "1.5.0",
          "state": {
            "_dom_classes": [],
            "_model_module": "@jupyter-widgets/controls",
            "_model_module_version": "1.5.0",
            "_model_name": "HTMLModel",
            "_view_count": null,
            "_view_module": "@jupyter-widgets/controls",
            "_view_module_version": "1.5.0",
            "_view_name": "HTMLView",
            "description": "",
            "description_tooltip": null,
            "layout": "IPY_MODEL_8d3a4f9a2ef847aabd78d30d378c65d7",
            "placeholder": "​",
            "style": "IPY_MODEL_5d0219036da2472c844f2aec52ad2ae4",
            "value": " 218/218 [01:39&lt;00:00,  2.18it/s]"
          }
        },
        "27d1312a77e6411ca2a6f695a7c70642": {
          "model_module": "@jupyter-widgets/base",
          "model_name": "LayoutModel",
          "model_module_version": "1.2.0",
          "state": {
            "_model_module": "@jupyter-widgets/base",
            "_model_module_version": "1.2.0",
            "_model_name": "LayoutModel",
            "_view_count": null,
            "_view_module": "@jupyter-widgets/base",
            "_view_module_version": "1.2.0",
            "_view_name": "LayoutView",
            "align_content": null,
            "align_items": null,
            "align_self": null,
            "border": null,
            "bottom": null,
            "display": "inline-flex",
            "flex": null,
            "flex_flow": "row wrap",
            "grid_area": null,
            "grid_auto_columns": null,
            "grid_auto_flow": null,
            "grid_auto_rows": null,
            "grid_column": null,
            "grid_gap": null,
            "grid_row": null,
            "grid_template_areas": null,
            "grid_template_columns": null,
            "grid_template_rows": null,
            "height": null,
            "justify_content": null,
            "justify_items": null,
            "left": null,
            "margin": null,
            "max_height": null,
            "max_width": null,
            "min_height": null,
            "min_width": null,
            "object_fit": null,
            "object_position": null,
            "order": null,
            "overflow": null,
            "overflow_x": null,
            "overflow_y": null,
            "padding": null,
            "right": null,
            "top": null,
            "visibility": null,
            "width": "100%"
          }
        },
        "88650aaf26e24d96872576b2ae613b82": {
          "model_module": "@jupyter-widgets/base",
          "model_name": "LayoutModel",
          "model_module_version": "1.2.0",
          "state": {
            "_model_module": "@jupyter-widgets/base",
            "_model_module_version": "1.2.0",
            "_model_name": "LayoutModel",
            "_view_count": null,
            "_view_module": "@jupyter-widgets/base",
            "_view_module_version": "1.2.0",
            "_view_name": "LayoutView",
            "align_content": null,
            "align_items": null,
            "align_self": null,
            "border": null,
            "bottom": null,
            "display": null,
            "flex": null,
            "flex_flow": null,
            "grid_area": null,
            "grid_auto_columns": null,
            "grid_auto_flow": null,
            "grid_auto_rows": null,
            "grid_column": null,
            "grid_gap": null,
            "grid_row": null,
            "grid_template_areas": null,
            "grid_template_columns": null,
            "grid_template_rows": null,
            "height": null,
            "justify_content": null,
            "justify_items": null,
            "left": null,
            "margin": null,
            "max_height": null,
            "max_width": null,
            "min_height": null,
            "min_width": null,
            "object_fit": null,
            "object_position": null,
            "order": null,
            "overflow": null,
            "overflow_x": null,
            "overflow_y": null,
            "padding": null,
            "right": null,
            "top": null,
            "visibility": null,
            "width": null
          }
        },
        "50e4c5f9081f41e39f044774c9a1bba0": {
          "model_module": "@jupyter-widgets/controls",
          "model_name": "DescriptionStyleModel",
          "model_module_version": "1.5.0",
          "state": {
            "_model_module": "@jupyter-widgets/controls",
            "_model_module_version": "1.5.0",
            "_model_name": "DescriptionStyleModel",
            "_view_count": null,
            "_view_module": "@jupyter-widgets/base",
            "_view_module_version": "1.2.0",
            "_view_name": "StyleView",
            "description_width": ""
          }
        },
        "e4679c423caa4248b51815b53b575396": {
          "model_module": "@jupyter-widgets/base",
          "model_name": "LayoutModel",
          "model_module_version": "1.2.0",
          "state": {
            "_model_module": "@jupyter-widgets/base",
            "_model_module_version": "1.2.0",
            "_model_name": "LayoutModel",
            "_view_count": null,
            "_view_module": "@jupyter-widgets/base",
            "_view_module_version": "1.2.0",
            "_view_name": "LayoutView",
            "align_content": null,
            "align_items": null,
            "align_self": null,
            "border": null,
            "bottom": null,
            "display": null,
            "flex": "2",
            "flex_flow": null,
            "grid_area": null,
            "grid_auto_columns": null,
            "grid_auto_flow": null,
            "grid_auto_rows": null,
            "grid_column": null,
            "grid_gap": null,
            "grid_row": null,
            "grid_template_areas": null,
            "grid_template_columns": null,
            "grid_template_rows": null,
            "height": null,
            "justify_content": null,
            "justify_items": null,
            "left": null,
            "margin": null,
            "max_height": null,
            "max_width": null,
            "min_height": null,
            "min_width": null,
            "object_fit": null,
            "object_position": null,
            "order": null,
            "overflow": null,
            "overflow_x": null,
            "overflow_y": null,
            "padding": null,
            "right": null,
            "top": null,
            "visibility": null,
            "width": null
          }
        },
        "e552a1f3e35840c8989dff494d2689fe": {
          "model_module": "@jupyter-widgets/controls",
          "model_name": "ProgressStyleModel",
          "model_module_version": "1.5.0",
          "state": {
            "_model_module": "@jupyter-widgets/controls",
            "_model_module_version": "1.5.0",
            "_model_name": "ProgressStyleModel",
            "_view_count": null,
            "_view_module": "@jupyter-widgets/base",
            "_view_module_version": "1.2.0",
            "_view_name": "StyleView",
            "bar_color": null,
            "description_width": ""
          }
        },
        "8d3a4f9a2ef847aabd78d30d378c65d7": {
          "model_module": "@jupyter-widgets/base",
          "model_name": "LayoutModel",
          "model_module_version": "1.2.0",
          "state": {
            "_model_module": "@jupyter-widgets/base",
            "_model_module_version": "1.2.0",
            "_model_name": "LayoutModel",
            "_view_count": null,
            "_view_module": "@jupyter-widgets/base",
            "_view_module_version": "1.2.0",
            "_view_name": "LayoutView",
            "align_content": null,
            "align_items": null,
            "align_self": null,
            "border": null,
            "bottom": null,
            "display": null,
            "flex": null,
            "flex_flow": null,
            "grid_area": null,
            "grid_auto_columns": null,
            "grid_auto_flow": null,
            "grid_auto_rows": null,
            "grid_column": null,
            "grid_gap": null,
            "grid_row": null,
            "grid_template_areas": null,
            "grid_template_columns": null,
            "grid_template_rows": null,
            "height": null,
            "justify_content": null,
            "justify_items": null,
            "left": null,
            "margin": null,
            "max_height": null,
            "max_width": null,
            "min_height": null,
            "min_width": null,
            "object_fit": null,
            "object_position": null,
            "order": null,
            "overflow": null,
            "overflow_x": null,
            "overflow_y": null,
            "padding": null,
            "right": null,
            "top": null,
            "visibility": null,
            "width": null
          }
        },
        "5d0219036da2472c844f2aec52ad2ae4": {
          "model_module": "@jupyter-widgets/controls",
          "model_name": "DescriptionStyleModel",
          "model_module_version": "1.5.0",
          "state": {
            "_model_module": "@jupyter-widgets/controls",
            "_model_module_version": "1.5.0",
            "_model_name": "DescriptionStyleModel",
            "_view_count": null,
            "_view_module": "@jupyter-widgets/base",
            "_view_module_version": "1.2.0",
            "_view_name": "StyleView",
            "description_width": ""
          }
        },
        "5ccbd9a4ee694390984713d6d313103c": {
          "model_module": "@jupyter-widgets/controls",
          "model_name": "HBoxModel",
          "model_module_version": "1.5.0",
          "state": {
            "_dom_classes": [],
            "_model_module": "@jupyter-widgets/controls",
            "_model_module_version": "1.5.0",
            "_model_name": "HBoxModel",
            "_view_count": null,
            "_view_module": "@jupyter-widgets/controls",
            "_view_module_version": "1.5.0",
            "_view_name": "HBoxView",
            "box_style": "",
            "children": [
              "IPY_MODEL_f58c914904e94ad6901103050fb5438a",
              "IPY_MODEL_2f1fdb3489eb48b9965ed08da6258df0",
              "IPY_MODEL_500efbbd5b96498e9c62533a9a0d5e01"
            ],
            "layout": "IPY_MODEL_4039015467bc4fd19de72f000ce32353"
          }
        },
        "f58c914904e94ad6901103050fb5438a": {
          "model_module": "@jupyter-widgets/controls",
          "model_name": "HTMLModel",
          "model_module_version": "1.5.0",
          "state": {
            "_dom_classes": [],
            "_model_module": "@jupyter-widgets/controls",
            "_model_module_version": "1.5.0",
            "_model_name": "HTMLModel",
            "_view_count": null,
            "_view_module": "@jupyter-widgets/controls",
            "_view_module_version": "1.5.0",
            "_view_name": "HTMLView",
            "description": "",
            "description_tooltip": null,
            "layout": "IPY_MODEL_0f8318adb73b4c72b1096c0c90fb05ad",
            "placeholder": "​",
            "style": "IPY_MODEL_7b268ed373e443519033185a2098fb42",
            "value": "Validation DataLoader 0: 100%"
          }
        },
        "2f1fdb3489eb48b9965ed08da6258df0": {
          "model_module": "@jupyter-widgets/controls",
          "model_name": "FloatProgressModel",
          "model_module_version": "1.5.0",
          "state": {
            "_dom_classes": [],
            "_model_module": "@jupyter-widgets/controls",
            "_model_module_version": "1.5.0",
            "_model_name": "FloatProgressModel",
            "_view_count": null,
            "_view_module": "@jupyter-widgets/controls",
            "_view_module_version": "1.5.0",
            "_view_name": "ProgressView",
            "bar_style": "info",
            "description": "",
            "description_tooltip": null,
            "layout": "IPY_MODEL_5d325473f96e43ff8781088e58f6392f",
            "max": 1,
            "min": 0,
            "orientation": "horizontal",
            "style": "IPY_MODEL_8cdf52674e644d068ccb4368d938a8fc",
            "value": 1
          }
        },
        "500efbbd5b96498e9c62533a9a0d5e01": {
          "model_module": "@jupyter-widgets/controls",
          "model_name": "HTMLModel",
          "model_module_version": "1.5.0",
          "state": {
            "_dom_classes": [],
            "_model_module": "@jupyter-widgets/controls",
            "_model_module_version": "1.5.0",
            "_model_name": "HTMLModel",
            "_view_count": null,
            "_view_module": "@jupyter-widgets/controls",
            "_view_module_version": "1.5.0",
            "_view_name": "HTMLView",
            "description": "",
            "description_tooltip": null,
            "layout": "IPY_MODEL_edcde8a8e9b84e36b53bcf774d42aaab",
            "placeholder": "​",
            "style": "IPY_MODEL_d12c61d8e86e4574aa2ba169699def16",
            "value": " 218/218 [01:39&lt;00:00,  2.19it/s]"
          }
        },
        "4039015467bc4fd19de72f000ce32353": {
          "model_module": "@jupyter-widgets/base",
          "model_name": "LayoutModel",
          "model_module_version": "1.2.0",
          "state": {
            "_model_module": "@jupyter-widgets/base",
            "_model_module_version": "1.2.0",
            "_model_name": "LayoutModel",
            "_view_count": null,
            "_view_module": "@jupyter-widgets/base",
            "_view_module_version": "1.2.0",
            "_view_name": "LayoutView",
            "align_content": null,
            "align_items": null,
            "align_self": null,
            "border": null,
            "bottom": null,
            "display": "inline-flex",
            "flex": null,
            "flex_flow": "row wrap",
            "grid_area": null,
            "grid_auto_columns": null,
            "grid_auto_flow": null,
            "grid_auto_rows": null,
            "grid_column": null,
            "grid_gap": null,
            "grid_row": null,
            "grid_template_areas": null,
            "grid_template_columns": null,
            "grid_template_rows": null,
            "height": null,
            "justify_content": null,
            "justify_items": null,
            "left": null,
            "margin": null,
            "max_height": null,
            "max_width": null,
            "min_height": null,
            "min_width": null,
            "object_fit": null,
            "object_position": null,
            "order": null,
            "overflow": null,
            "overflow_x": null,
            "overflow_y": null,
            "padding": null,
            "right": null,
            "top": null,
            "visibility": null,
            "width": "100%"
          }
        },
        "0f8318adb73b4c72b1096c0c90fb05ad": {
          "model_module": "@jupyter-widgets/base",
          "model_name": "LayoutModel",
          "model_module_version": "1.2.0",
          "state": {
            "_model_module": "@jupyter-widgets/base",
            "_model_module_version": "1.2.0",
            "_model_name": "LayoutModel",
            "_view_count": null,
            "_view_module": "@jupyter-widgets/base",
            "_view_module_version": "1.2.0",
            "_view_name": "LayoutView",
            "align_content": null,
            "align_items": null,
            "align_self": null,
            "border": null,
            "bottom": null,
            "display": null,
            "flex": null,
            "flex_flow": null,
            "grid_area": null,
            "grid_auto_columns": null,
            "grid_auto_flow": null,
            "grid_auto_rows": null,
            "grid_column": null,
            "grid_gap": null,
            "grid_row": null,
            "grid_template_areas": null,
            "grid_template_columns": null,
            "grid_template_rows": null,
            "height": null,
            "justify_content": null,
            "justify_items": null,
            "left": null,
            "margin": null,
            "max_height": null,
            "max_width": null,
            "min_height": null,
            "min_width": null,
            "object_fit": null,
            "object_position": null,
            "order": null,
            "overflow": null,
            "overflow_x": null,
            "overflow_y": null,
            "padding": null,
            "right": null,
            "top": null,
            "visibility": null,
            "width": null
          }
        },
        "7b268ed373e443519033185a2098fb42": {
          "model_module": "@jupyter-widgets/controls",
          "model_name": "DescriptionStyleModel",
          "model_module_version": "1.5.0",
          "state": {
            "_model_module": "@jupyter-widgets/controls",
            "_model_module_version": "1.5.0",
            "_model_name": "DescriptionStyleModel",
            "_view_count": null,
            "_view_module": "@jupyter-widgets/base",
            "_view_module_version": "1.2.0",
            "_view_name": "StyleView",
            "description_width": ""
          }
        },
        "5d325473f96e43ff8781088e58f6392f": {
          "model_module": "@jupyter-widgets/base",
          "model_name": "LayoutModel",
          "model_module_version": "1.2.0",
          "state": {
            "_model_module": "@jupyter-widgets/base",
            "_model_module_version": "1.2.0",
            "_model_name": "LayoutModel",
            "_view_count": null,
            "_view_module": "@jupyter-widgets/base",
            "_view_module_version": "1.2.0",
            "_view_name": "LayoutView",
            "align_content": null,
            "align_items": null,
            "align_self": null,
            "border": null,
            "bottom": null,
            "display": null,
            "flex": "2",
            "flex_flow": null,
            "grid_area": null,
            "grid_auto_columns": null,
            "grid_auto_flow": null,
            "grid_auto_rows": null,
            "grid_column": null,
            "grid_gap": null,
            "grid_row": null,
            "grid_template_areas": null,
            "grid_template_columns": null,
            "grid_template_rows": null,
            "height": null,
            "justify_content": null,
            "justify_items": null,
            "left": null,
            "margin": null,
            "max_height": null,
            "max_width": null,
            "min_height": null,
            "min_width": null,
            "object_fit": null,
            "object_position": null,
            "order": null,
            "overflow": null,
            "overflow_x": null,
            "overflow_y": null,
            "padding": null,
            "right": null,
            "top": null,
            "visibility": null,
            "width": null
          }
        },
        "8cdf52674e644d068ccb4368d938a8fc": {
          "model_module": "@jupyter-widgets/controls",
          "model_name": "ProgressStyleModel",
          "model_module_version": "1.5.0",
          "state": {
            "_model_module": "@jupyter-widgets/controls",
            "_model_module_version": "1.5.0",
            "_model_name": "ProgressStyleModel",
            "_view_count": null,
            "_view_module": "@jupyter-widgets/base",
            "_view_module_version": "1.2.0",
            "_view_name": "StyleView",
            "bar_color": null,
            "description_width": ""
          }
        },
        "edcde8a8e9b84e36b53bcf774d42aaab": {
          "model_module": "@jupyter-widgets/base",
          "model_name": "LayoutModel",
          "model_module_version": "1.2.0",
          "state": {
            "_model_module": "@jupyter-widgets/base",
            "_model_module_version": "1.2.0",
            "_model_name": "LayoutModel",
            "_view_count": null,
            "_view_module": "@jupyter-widgets/base",
            "_view_module_version": "1.2.0",
            "_view_name": "LayoutView",
            "align_content": null,
            "align_items": null,
            "align_self": null,
            "border": null,
            "bottom": null,
            "display": null,
            "flex": null,
            "flex_flow": null,
            "grid_area": null,
            "grid_auto_columns": null,
            "grid_auto_flow": null,
            "grid_auto_rows": null,
            "grid_column": null,
            "grid_gap": null,
            "grid_row": null,
            "grid_template_areas": null,
            "grid_template_columns": null,
            "grid_template_rows": null,
            "height": null,
            "justify_content": null,
            "justify_items": null,
            "left": null,
            "margin": null,
            "max_height": null,
            "max_width": null,
            "min_height": null,
            "min_width": null,
            "object_fit": null,
            "object_position": null,
            "order": null,
            "overflow": null,
            "overflow_x": null,
            "overflow_y": null,
            "padding": null,
            "right": null,
            "top": null,
            "visibility": null,
            "width": null
          }
        },
        "d12c61d8e86e4574aa2ba169699def16": {
          "model_module": "@jupyter-widgets/controls",
          "model_name": "DescriptionStyleModel",
          "model_module_version": "1.5.0",
          "state": {
            "_model_module": "@jupyter-widgets/controls",
            "_model_module_version": "1.5.0",
            "_model_name": "DescriptionStyleModel",
            "_view_count": null,
            "_view_module": "@jupyter-widgets/base",
            "_view_module_version": "1.2.0",
            "_view_name": "StyleView",
            "description_width": ""
          }
        }
      }
    }
  },
  "cells": [
    {
      "cell_type": "code",
      "source": [
        "!nvidia-smi"
      ],
      "metadata": {
        "colab": {
          "base_uri": "https://localhost:8080/"
        },
        "id": "ehEBWkmCU9qh",
        "outputId": "60239dd8-cbf1-4089-854b-0f041f6e06a2"
      },
      "execution_count": 1,
      "outputs": [
        {
          "output_type": "stream",
          "name": "stdout",
          "text": [
            "Wed Apr 27 14:02:00 2022       \n",
            "+-----------------------------------------------------------------------------+\n",
            "| NVIDIA-SMI 460.32.03    Driver Version: 460.32.03    CUDA Version: 11.2     |\n",
            "|-------------------------------+----------------------+----------------------+\n",
            "| GPU  Name        Persistence-M| Bus-Id        Disp.A | Volatile Uncorr. ECC |\n",
            "| Fan  Temp  Perf  Pwr:Usage/Cap|         Memory-Usage | GPU-Util  Compute M. |\n",
            "|                               |                      |               MIG M. |\n",
            "|===============================+======================+======================|\n",
            "|   0  Tesla K80           Off  | 00000000:00:04.0 Off |                    0 |\n",
            "| N/A   52C    P8    30W / 149W |      0MiB / 11441MiB |      0%      Default |\n",
            "|                               |                      |                  N/A |\n",
            "+-------------------------------+----------------------+----------------------+\n",
            "                                                                               \n",
            "+-----------------------------------------------------------------------------+\n",
            "| Processes:                                                                  |\n",
            "|  GPU   GI   CI        PID   Type   Process name                  GPU Memory |\n",
            "|        ID   ID                                                   Usage      |\n",
            "|=============================================================================|\n",
            "|  No running processes found                                                 |\n",
            "+-----------------------------------------------------------------------------+\n"
          ]
        }
      ]
    },
    {
      "cell_type": "code",
      "source": [
        "!git clone https://github.com/Softcatala/ca-text-corpus.git"
      ],
      "metadata": {
        "id": "aaypeNMYv4rr",
        "colab": {
          "base_uri": "https://localhost:8080/"
        },
        "outputId": "078f7d6f-de2b-469d-e11a-6edf9a08b0e4"
      },
      "execution_count": 2,
      "outputs": [
        {
          "output_type": "stream",
          "name": "stdout",
          "text": [
            "Cloning into 'ca-text-corpus'...\n",
            "remote: Enumerating objects: 636, done.\u001b[K\n",
            "remote: Counting objects: 100% (7/7), done.\u001b[K\n",
            "remote: Compressing objects: 100% (7/7), done.\u001b[K\n",
            "remote: Total 636 (delta 2), reused 1 (delta 0), pack-reused 629\u001b[K\n",
            "Receiving objects: 100% (636/636), 33.91 MiB | 11.89 MiB/s, done.\n",
            "Resolving deltas: 100% (338/338), done.\n"
          ]
        }
      ]
    },
    {
      "cell_type": "code",
      "source": [
        "import shutil\n",
        "\n",
        "with open('output_file.txt','wb') as wfd:\n",
        "    for f in ['/content/ca-text-corpus/data/common-voice-sentences.txt',\n",
        "              '/content/ca-text-corpus/data/dogc.txt',\n",
        "              '/content/ca-text-corpus/data/dogv.txt',\n",
        "              '/content/ca-text-corpus/data/riuraueditors.txt',\n",
        "              '/content/ca-text-corpus/data/softcatala.txt',\n",
        "              '/content/ca-text-corpus/data/wiki.ca.txt',\n",
        "              '/content/ca-text-corpus/data/wiki.ca-mozilla_script.txt']:\n",
        "        with open(f,'rb') as fd:\n",
        "            shutil.copyfileobj(fd, wfd)"
      ],
      "metadata": {
        "id": "cWBpRHD3wjcr"
      },
      "execution_count": 3,
      "outputs": []
    },
    {
      "cell_type": "code",
      "source": [
        "cd /content"
      ],
      "metadata": {
        "colab": {
          "base_uri": "https://localhost:8080/"
        },
        "id": "FVEqZEwu_54C",
        "outputId": "d7622d34-815d-4b1a-d22c-5a26eca85a22"
      },
      "execution_count": 4,
      "outputs": [
        {
          "output_type": "stream",
          "name": "stdout",
          "text": [
            "/content\n"
          ]
        }
      ]
    },
    {
      "cell_type": "code",
      "source": [
        "import string\n",
        "import random\n",
        "# my_file = open(\"/content/text.txt\", \"r\")\n",
        "\n",
        "# reading the file\n",
        "# data = my_file.read()\n",
        "\n",
        "# replacing end of line('/n') with ' ' and\n",
        "# splitting the text it further when '.' is seen.\n",
        "# data_into_list = data.replace('\\n', ' ').split(\".\")\n",
        "\n",
        "\n",
        "data_into_list=[line.strip() for line in open('/content/output_file.txt')]\n",
        "# data_into_list=[line.strip() for line in open('/content/text.txt')]\n",
        "\n",
        "\n",
        "text_train = open(\"text_train.txt\", \"a\")  # append modea\n",
        "labels_train = open(\"labels_train.txt\", \"a\")  # append modea\n",
        "\n",
        "text_dev = open(\"text_dev.txt\", \"a\")  # append modea\n",
        "labels_dev = open(\"labels_dev.txt\", \"a\")  # append modea\n",
        "\n",
        "\n",
        "for j in data_into_list:\n",
        "  if len(j)< 100:\n",
        "    label = \"\"\n",
        "    text = \"\"\n",
        "    for i in j.split(\" \"):\n",
        "      try:\n",
        "          if i[-1] in string.punctuation and i[0].isupper():\n",
        "            label = label + f\"{i[-1]}U \"\n",
        "            text = text + f\"{i[:-1].lower()} \"\n",
        "\n",
        "          elif (i[-1] not in string.punctuation and i[0].isupper()):\n",
        "            label+=\"OU \" \n",
        "            text = text + f\"{i.lower()} \" \n",
        "\n",
        "          elif (i[-1] in string.punctuation and i[0].islower()):  \n",
        "            label+=f\"{i[-1]}O \"\n",
        "            text = text + f\"{i[:-1].lower()} \"\n",
        "\n",
        "          elif (i[-1] not in string.punctuation and i[0].islower()):  \n",
        "            label+=\"OO \"\n",
        "            text = text + f\"{i.lower()} \"\n",
        "      except:\n",
        "        pass\n",
        "    if len(text.split())== len(label.split()) and len(text)>0:\n",
        "        if random.random() < .15:       \n",
        "            text_dev.write(text+\"\\n\")\n",
        "            labels_dev.write(label+\"\\n\")  \n",
        "        else:\n",
        "            text_train.write(text+\"\\n\")\n",
        "            labels_train.write(label+\"\\n\")   \n",
        "    else:\n",
        "      pass                \n",
        "    # print(label, \"\\n\", j,\"\\n\", text, \"\\n\\n\")       \n",
        "text_dev.close()\n",
        "labels_dev.close()\n",
        "text_train.close()\n",
        "labels_train.close()"
      ],
      "metadata": {
        "id": "0pSzyCA6htcO"
      },
      "execution_count": 5,
      "outputs": []
    },
    {
      "cell_type": "code",
      "source": [
        "pwd"
      ],
      "metadata": {
        "colab": {
          "base_uri": "https://localhost:8080/",
          "height": 36
        },
        "id": "vjdTWb5u_zDH",
        "outputId": "a0c29549-e330-49ad-e974-69455f5528b2"
      },
      "execution_count": 6,
      "outputs": [
        {
          "output_type": "execute_result",
          "data": {
            "text/plain": [
              "'/content'"
            ],
            "application/vnd.google.colaboratory.intrinsic+json": {
              "type": "string"
            }
          },
          "metadata": {},
          "execution_count": 6
        }
      ]
    },
    {
      "cell_type": "code",
      "source": [
        "mkdir data"
      ],
      "metadata": {
        "id": "v5FO9UGN8iDf"
      },
      "execution_count": 7,
      "outputs": []
    },
    {
      "cell_type": "code",
      "source": [
        "!mv /content/labels_dev.txt    /content/data\n",
        "!mv /content/labels_train.txt  /content/data\n",
        "!mv /content/text_dev.txt      /content/data\n",
        "!mv /content/text_train.txt    /content/data"
      ],
      "metadata": {
        "id": "bGyRKxYL8ksz"
      },
      "execution_count": 8,
      "outputs": []
    },
    {
      "cell_type": "code",
      "source": [
        "# let's take a look at the data \n",
        "print('Text:')\n",
        "! head -n 20 /content/data/text_train.txt\n",
        "\n",
        "print('\\nLabels:')\n",
        "! head -n 20 /content/data/labels_train.txt"
      ],
      "metadata": {
        "colab": {
          "base_uri": "https://localhost:8080/"
        },
        "id": "EnEwAfSCwUS8",
        "outputId": "ed7f03be-b906-43ad-d15e-7d2891f8e188"
      },
      "execution_count": 9,
      "outputs": [
        {
          "output_type": "stream",
          "name": "stdout",
          "text": [
            "Text:\n",
            "bona setmana \n",
            "a quina hora comença el concert \n",
            "no tenim res per sopar \n",
            "a veure si quedem un dia per dinar \n",
            "fa molt de temps que no ens veiem \n",
            "quina calor \n",
            "no sabem per què avui no ha vingut a treballar \n",
            "engega el ventilador \n",
            "aquest partit no s'acaba mai \n",
            "quedem a les vuit a l'estació \n",
            "si acabo d'hora aniré a mirar roba \n",
            "necessitem vacances \n",
            "la setmana que ve anem a viure al pis nou \n",
            "volia fer molta feina i entre una cosa i l'altra no vaig fer res de bo \n",
            "sempre vol tenir raó \n",
            "ets una mica sòmines però em fas riure \n",
            "m'agrada quan fas el pi pont a la gespa \n",
            "és un cas anem a la platja i es deixa el banyador \n",
            "t'agraden totes \n",
            "la raquel porta una brusa de niló \n",
            "\n",
            "Labels:\n",
            "OU .O \n",
            "OU OO OO OO OO ?O \n",
            "OU OO OO OO .O \n",
            "OU OO OO OO OO OO OO .O \n",
            "OU OO OO OO OO OO OO .O \n",
            "OU .O \n",
            "OU OO OO OO OO OO OO OO OO .O \n",
            "OU OO .O \n",
            "OU OO OO OO .O \n",
            "OU OO OO OO OO .O \n",
            "OU OO ,O OO OO OO .O \n",
            "OU .O \n",
            "OU OO OO OO OO OO OO OO OO .O \n",
            "OU OO OO OO OO OO OO OO OO OO OO OO OO OO OO .O \n",
            "OU OO OO .O \n",
            "OU OO OO ,O OO OO OO .O \n",
            "OU OO OO OO OO OO OO OO .O \n",
            "OU OO ,O OO OO OO OO OO OO OO OO .O \n",
            "OU ?O \n",
            "OU OU OO OO OO OO .O \n"
          ]
        }
      ]
    },
    {
      "cell_type": "code",
      "execution_count": 10,
      "metadata": {
        "id": "o_0K1lsW1dj9"
      },
      "outputs": [],
      "source": [
        "%%capture\n",
        "\n",
        "BRANCH = 'main'\n",
        "!python -m pip install git+https://github.com/NVIDIA/NeMo.git@$BRANCH#egg=nemo_toolkit[nlp]"
      ]
    },
    {
      "cell_type": "code",
      "source": [
        "%%capture\n",
        "#can take up to 10 minutes\n",
        "\n",
        "!git clone https://github.com/NVIDIA/apex\n",
        "%cd apex\n",
        "\n",
        "!pip install -v --disable-pip-version-check --no-cache-dir --global-option=\"--cpp_ext\" --global-option=\"--cuda_ext\" --global-option=\"--fast_layer_norm\" ./"
      ],
      "metadata": {
        "id": "OE2DqqNRFh3a"
      },
      "execution_count": 11,
      "outputs": []
    },
    {
      "cell_type": "code",
      "execution_count": 12,
      "metadata": {
        "id": "dzqD2WDFOIN-",
        "colab": {
          "base_uri": "https://localhost:8080/"
        },
        "outputId": "175e4d26-922b-4eb8-8f22-f3849d9f45ee"
      },
      "outputs": [
        {
          "output_type": "stream",
          "name": "stderr",
          "text": [
            "[NeMo W 2022-04-27 14:05:34 nemo_logging:349] /content/apex/apex/pyprof/__init__.py:5: FutureWarning: pyprof will be removed by the end of June, 2022\n",
            "      warnings.warn(\"pyprof will be removed by the end of June, 2022\", FutureWarning)\n",
            "    \n",
            "[NeMo W 2022-04-27 14:05:39 experimental:28] Module <class 'nemo.collections.nlp.data.language_modeling.megatron.megatron_batch_samplers.MegatronPretrainingRandomBatchSampler'> is experimental, not ready for production and is not fully supported. Use at your own risk.\n"
          ]
        }
      ],
      "source": [
        "from nemo.utils.exp_manager import exp_manager\n",
        "from nemo.collections import nlp as nemo_nlp\n",
        "\n",
        "import os\n",
        "import wget \n",
        "import torch\n",
        "import pytorch_lightning as pl\n",
        "from omegaconf import OmegaConf"
      ]
    },
    {
      "cell_type": "markdown",
      "metadata": {
        "id": "SL58EWkd2ZVb"
      },
      "source": [
        "## Download the data\n",
        "\n",
        "To prepare the data please refer to the Habr article (in Russian) or to the official NeMo's documentation.\n",
        "\n",
        "Adopted Python scripts can be found in the averkij's github repo.\n",
        "\n",
        "We'll download the previously prepared training data."
      ]
    },
    {
      "cell_type": "code",
      "execution_count": 13,
      "metadata": {
        "id": "n8HZrDmr12_-"
      },
      "outputs": [],
      "source": [
        "DATA_DIR = \"/content/data\"\n",
        "WORK_DIR = \"/content/work\""
      ]
    },
    {
      "cell_type": "code",
      "execution_count": 14,
      "metadata": {
        "id": "KKwxXXezPvXF",
        "colab": {
          "base_uri": "https://localhost:8080/"
        },
        "outputId": "bce655fd-43ee-4c44-9eb7-9de4baecd819"
      },
      "outputs": [
        {
          "output_type": "stream",
          "name": "stdout",
          "text": [
            "total 93052\n",
            "-rw-r--r-- 1 root root  4775882 Apr 27 14:02 labels_dev.txt\n",
            "-rw-r--r-- 1 root root 27056175 Apr 27 14:02 labels_train.txt\n",
            "-rw-r--r-- 1 root root  9518613 Apr 27 14:02 text_dev.txt\n",
            "-rw-r--r-- 1 root root 53930258 Apr 27 14:02 text_train.txt\n"
          ]
        }
      ],
      "source": [
        "! ls -l $DATA_DIR"
      ]
    },
    {
      "cell_type": "code",
      "execution_count": 15,
      "metadata": {
        "id": "6UDPgadLN6SG",
        "colab": {
          "base_uri": "https://localhost:8080/"
        },
        "outputId": "a1c09935-2430-4d51-8c09-a9ac0688635b"
      },
      "outputs": [
        {
          "output_type": "stream",
          "name": "stdout",
          "text": [
            "Text:\n",
            "bona setmana \n",
            "a quina hora comença el concert \n",
            "no tenim res per sopar \n",
            "a veure si quedem un dia per dinar \n",
            "fa molt de temps que no ens veiem \n",
            "quina calor \n",
            "no sabem per què avui no ha vingut a treballar \n",
            "engega el ventilador \n",
            "aquest partit no s'acaba mai \n",
            "quedem a les vuit a l'estació \n",
            "\n",
            "Labels:\n",
            "OU .O \n",
            "OU OO OO OO OO ?O \n",
            "OU OO OO OO .O \n",
            "OU OO OO OO OO OO OO .O \n",
            "OU OO OO OO OO OO OO .O \n",
            "OU .O \n",
            "OU OO OO OO OO OO OO OO OO .O \n",
            "OU OO .O \n",
            "OU OO OO OO .O \n",
            "OU OO OO OO OO .O \n"
          ]
        }
      ],
      "source": [
        "# let's take a look at the data \n",
        "print('Text:')\n",
        "! head -n 10 $DATA_DIR/text_train.txt\n",
        "\n",
        "print('\\nLabels:')\n",
        "! head -n 10 $DATA_DIR/labels_train.txt"
      ]
    },
    {
      "cell_type": "markdown",
      "metadata": {
        "id": "daludzzL2Jba"
      },
      "source": [
        "# Model Configuration"
      ]
    },
    {
      "cell_type": "markdown",
      "metadata": {
        "id": "_whKCxfTMo6Y"
      },
      "source": [
        "In the Punctuation and Capitalization Model, we are jointly training two token-level classifiers on top of the pretrained [BERT](https://arxiv.org/pdf/1810.04805.pdf) model: \n",
        "- one classifier to predict punctuation and\n",
        "- the other one - capitalization.\n",
        "\n",
        "The model is defined in a config file which declares multiple important sections. They are:\n",
        "- **model**: All arguments that are related to the Model - language model, token classifiers, optimizer and schedulers, dataset and any other related information\n",
        "\n",
        "- **trainer**: Any argument to be passed to PyTorch Lightning\n",
        "\n",
        "See [docs](https://docs.nvidia.com/deeplearning/nemo/user-guide/docs/en/main/nlp/punctuation_and_capitalization.html#training-punctuation-and-capitalization-model) for full config description."
      ]
    },
    {
      "cell_type": "code",
      "execution_count": 16,
      "metadata": {
        "id": "T1gA8PsJ13MJ",
        "colab": {
          "base_uri": "https://localhost:8080/"
        },
        "outputId": "fc8550cf-d5d0-4654-b832-a03ceab25a54"
      },
      "outputs": [
        {
          "output_type": "stream",
          "name": "stdout",
          "text": [
            "Downloading config file...\n"
          ]
        }
      ],
      "source": [
        "MODEL_CONFIG = \"punctuation_capitalization_config.yaml\"\n",
        "TOKENS_IN_BATCH = 1024\n",
        "MAX_SEQ_LENGTH = 64\n",
        "LEARNING_RATE = 0.00002\n",
        "NUM_SAMPLES = 200000\n",
        "\n",
        "config_dir = WORK_DIR + '/configs/'\n",
        "os.makedirs(config_dir, exist_ok=True)\n",
        "if not os.path.exists(config_dir + MODEL_CONFIG):\n",
        "    print('Downloading config file...')\n",
        "    wget.download(f'https://raw.githubusercontent.com/NVIDIA/NeMo/{BRANCH}/examples/nlp/token_classification/conf/' + MODEL_CONFIG, config_dir)\n",
        "else:\n",
        "    print ('config file is already exists')"
      ]
    },
    {
      "cell_type": "code",
      "execution_count": 17,
      "metadata": {
        "id": "mX3KmWMvSUQw"
      },
      "outputs": [],
      "source": [
        "config_path = f'{WORK_DIR}/configs/{MODEL_CONFIG}'\n",
        "config = OmegaConf.load(config_path)\n",
        "config.model.train_ds.ds_item = DATA_DIR\n",
        "config.model.validation_ds.ds_item=DATA_DIR\n",
        "\n",
        "del config.model.test_ds"
      ]
    },
    {
      "cell_type": "markdown",
      "metadata": {
        "id": "nB96-3sTc3yk"
      },
      "source": [
        "# Building the PyTorch Lightning Trainer\n",
        "\n",
        "NeMo models are primarily PyTorch Lightning modules - and therefore are entirely compatible with the PyTorch Lightning ecosystem!\n",
        "\n",
        "Let's first instantiate a Trainer object!"
      ]
    },
    {
      "cell_type": "code",
      "execution_count": 18,
      "metadata": {
        "id": "knF6QeQQdMrH",
        "colab": {
          "base_uri": "https://localhost:8080/"
        },
        "outputId": "8246a049-620c-404d-9574-235d8d991aa5"
      },
      "outputs": [
        {
          "output_type": "stream",
          "name": "stderr",
          "text": [
            "[NeMo W 2022-04-27 14:06:23 nemo_logging:349] /usr/local/lib/python3.7/dist-packages/pytorch_lightning/trainer/connectors/accelerator_connector.py:456: UserWarning: The flag `devices=1` will be ignored, instead the device specific number 1 will be used\n",
            "      f\"The flag `devices={devices}` will be ignored, \"\n",
            "    \n",
            "Using 16bit native Automatic Mixed Precision (AMP)\n",
            "[NeMo W 2022-04-27 14:06:23 nemo_logging:349] /usr/local/lib/python3.7/dist-packages/pytorch_lightning/loops/epoch/training_epoch_loop.py:53: LightningDeprecationWarning: Setting `max_steps = None` is deprecated in v1.5 and will no longer be supported in v1.7. Use `max_steps = -1` instead.\n",
            "      \"Setting `max_steps = None` is deprecated in v1.5 and will no longer be supported in v1.7.\"\n",
            "    \n",
            "GPU available: True, used: True\n",
            "TPU available: False, using: 0 TPU cores\n",
            "IPU available: False, using: 0 IPUs\n",
            "HPU available: False, using: 0 HPUs\n",
            "`Trainer(val_check_interval=1.0)` was configured so validation will run at the end of the training epoch..\n"
          ]
        }
      ],
      "source": [
        "cuda = 1 if torch.cuda.is_available() else 0\n",
        "config.trainer.gpus = cuda\n",
        "config.trainer.precision = 16 if torch.cuda.is_available() else 32\n",
        "config.trainer.strategy = 'dp'\n",
        "\n",
        "trainer = pl.Trainer(**config.trainer)"
      ]
    },
    {
      "cell_type": "markdown",
      "metadata": {
        "id": "8IlEMdVxdr6p"
      },
      "source": [
        "# Setting up a NeMo Experiment¶\n",
        "\n",
        "NeMo has an experiment manager that handles logging and checkpointing for us, so let's use it!"
      ]
    },
    {
      "cell_type": "code",
      "execution_count": 19,
      "metadata": {
        "id": "8uztqGAmdrYt",
        "colab": {
          "base_uri": "https://localhost:8080/"
        },
        "outputId": "1fc73172-9e3d-42a9-c2ca-e81a9ea971f2"
      },
      "outputs": [
        {
          "output_type": "stream",
          "name": "stdout",
          "text": [
            "[NeMo I 2022-04-27 14:06:25 exp_manager:287] Experiments will be logged at /content/apex/nemo_experiments/Punctuation_and_Capitalization/2022-04-27_14-06-25\n",
            "[NeMo I 2022-04-27 14:06:25 exp_manager:661] TensorboardLogger has been set up\n"
          ]
        },
        {
          "output_type": "stream",
          "name": "stderr",
          "text": [
            "[NeMo W 2022-04-27 14:06:25 nemo_logging:349] /usr/local/lib/python3.7/dist-packages/pytorch_lightning/trainer/trainer.py:2302: LightningDeprecationWarning: `Trainer.weights_save_path` has been deprecated in v1.6 and will be removed in v1.8.\n",
            "      rank_zero_deprecation(\"`Trainer.weights_save_path` has been deprecated in v1.6 and will be removed in v1.8.\")\n",
            "    \n",
            "[NeMo W 2022-04-27 14:06:25 exp_manager:896] The checkpoint callback was told to monitor a validation value and trainer's max_steps was set to -1. Please ensure that max_steps will run for at least 1 epochs to ensure that checkpointing will not error out.\n"
          ]
        }
      ],
      "source": [
        "exp_dir = exp_manager(trainer, config.get(\"exp_manager\", None))\n",
        "exp_dir = str(exp_dir)"
      ]
    },
    {
      "cell_type": "markdown",
      "metadata": {
        "id": "6FI_nQsJo_11"
      },
      "source": [
        "# Model Training"
      ]
    },
    {
      "cell_type": "markdown",
      "metadata": {
        "id": "8tjLhUvL_o7_"
      },
      "source": [
        "Before initializing the model, we might want to modify some of the model configs. For example, we might want to modify the pretrained BERT model."
      ]
    },
    {
      "cell_type": "code",
      "execution_count": 20,
      "metadata": {
        "id": "Xeuc2i7Y_nP5",
        "colab": {
          "base_uri": "https://localhost:8080/"
        },
        "outputId": "34eac22d-b8e5-4ab7-a44f-adac4584bf48"
      },
      "outputs": [
        {
          "output_type": "stream",
          "name": "stdout",
          "text": [
            "1\n",
            "['bert-base-uncased', 'bert-large-uncased', 'bert-base-cased', 'bert-large-cased', 'bert-base-multilingual-uncased', 'bert-base-multilingual-cased', 'bert-base-chinese', 'bert-base-german-cased', 'bert-large-uncased-whole-word-masking', 'bert-large-cased-whole-word-masking', 'bert-large-uncased-whole-word-masking-finetuned-squad', 'bert-large-cased-whole-word-masking-finetuned-squad', 'bert-base-cased-finetuned-mrpc', 'bert-base-german-dbmdz-cased', 'bert-base-german-dbmdz-uncased', 'cl-tohoku/bert-base-japanese', 'cl-tohoku/bert-base-japanese-whole-word-masking', 'cl-tohoku/bert-base-japanese-char', 'cl-tohoku/bert-base-japanese-char-whole-word-masking', 'TurkuNLP/bert-base-finnish-cased-v1', 'TurkuNLP/bert-base-finnish-uncased-v1', 'wietsedv/bert-base-dutch-cased', 'distilbert-base-uncased', 'distilbert-base-uncased-distilled-squad', 'distilbert-base-cased', 'distilbert-base-cased-distilled-squad', 'distilbert-base-german-cased', 'distilbert-base-multilingual-cased', 'distilbert-base-uncased-finetuned-sst-2-english', 'camembert-base', 'Musixmatch/umberto-commoncrawl-cased-v1', 'Musixmatch/umberto-wikipedia-uncased-v1', 'roberta-base', 'roberta-large', 'roberta-large-mnli', 'distilroberta-base', 'roberta-base-openai-detector', 'roberta-large-openai-detector', 'albert-base-v1', 'albert-large-v1', 'albert-xlarge-v1', 'albert-xxlarge-v1', 'albert-base-v2', 'albert-large-v2', 'albert-xlarge-v2', 'albert-xxlarge-v2', 'gpt2', 'gpt2-medium', 'gpt2-large', 'gpt2-xl', 'distilgpt2']\n"
          ]
        }
      ],
      "source": [
        "print(1)\n",
        "print(nemo_nlp.modules.get_pretrained_lm_models_list())\n",
        "\n",
        "#change for the appropriate model\n",
        "PRETRAINED_BERT_MODEL = \"bert-base-multilingual-uncased\""
      ]
    },
    {
      "cell_type": "code",
      "execution_count": 21,
      "metadata": {
        "id": "RK2xglXyAUOO"
      },
      "outputs": [],
      "source": [
        "NUM_SAMPLES = 200000\n",
        "\n",
        "config.trainer.max_epochs = 1\n",
        "config.model.language_model.pretrained_model_name = PRETRAINED_BERT_MODEL\n",
        "config.model.train_ds.tokens_in_batch = TOKENS_IN_BATCH\n",
        "config.model.validation_ds.tokens_in_batch = TOKENS_IN_BATCH\n",
        "config.model.optim.lr = LEARNING_RATE\n",
        "config.model.train_ds.num_samples = NUM_SAMPLES\n",
        "config.model.validation_ds.num_samples = 10000"
      ]
    },
    {
      "cell_type": "markdown",
      "metadata": {
        "id": "gYKcziSsiAAd"
      },
      "source": [
        "Now, we are ready to initialize our model. During the model initialization call, the dataset and data loaders we'll be prepared for training and evaluation.\n",
        "Also, the pretrained BERT model will be downloaded, note it can take up to a few minutes depending on the size of the chosen BERT model."
      ]
    },
    {
      "cell_type": "code",
      "execution_count": 22,
      "metadata": {
        "id": "Yk2hJssviAAe",
        "pycharm": {
          "name": "#%%\n"
        },
        "scrolled": false,
        "colab": {
          "base_uri": "https://localhost:8080/",
          "height": 1000,
          "referenced_widgets": [
            "d63764bdfcfc4f0cbde4d767beddb4e8",
            "d1fe1bd8e1724599b41b8d3c15ac9596",
            "c9d74eb759ca471b927546588d29f659",
            "8360fe0281bd4818ba12346ebd7e57b3",
            "cd0f23d973354d9d8b7086400f09750a",
            "10268297036b452cb4b98f1e1c8e08bc",
            "fd9dac35c72845abb3104bba3fb96ed8",
            "20f7c96bdb4649288053a1ae045f5e2c",
            "cd20abebed204efc93e4ffbb9dc68551",
            "82cc11a6bbdd453787c4943c2b1437f9",
            "e85fa99671cf41528ad5ba863cb92758",
            "b7661e3b62d545de8f85be82c8eadb64",
            "a6a2ad7cb8a84525869899d22d6fb0ad",
            "ebe00860bd8b498a8308d4f5eabb6040",
            "2bc93d251c2a4b288d2f8c54631c0692",
            "fe723206d6e4495e9c533482274c3976",
            "cdb10257914749a4a0a111d0222287ea",
            "a8358f745fff4f02a75c8adaf9ab7b2a",
            "57ddd8cfe0584dffaed97c57a2103d64",
            "b998f7bf948a4b25889658e12f8783bf",
            "08a8cf141be2446284016c18be5bb620",
            "fa311e9ce20a440fa80f7fe208f92d4f",
            "9d9b9b8cf14e4c89b79437f9c680c78f",
            "f386782c086a42538a81183b5bff7bf4",
            "597ea1e732674a11816dc40804035f67",
            "d5ea2c8a9c1b440eb2762cdea245b28b",
            "55e818d2e0b3466da50a42297da74781",
            "8ad8562a355a45aba13121a568b61399",
            "d501d5d81cf946f2917b5e61fa326a28",
            "f11d5eccb34d428598d3d3c53032b169",
            "a7c6a665b5f74c9d90afee307d5dd304",
            "85d0c3e5b39b454a8ba466e52003329e",
            "7d4d426bb7784eeda032bccce9371c65",
            "ab878659eee7457a83d45075059f0f77",
            "fd662315f76045aea80f1d862ac9e72d",
            "843b7e9773fc47b8b3cc7db5475c6cbb",
            "83134ecd3d2a42a5beb51577d6083ed5",
            "4b5bde2fba674a879ff0a0a272872d47",
            "0a23388ebe3f4e52b3535d4b364d9e70",
            "b2b13183a5084941aad94133cc4f0eb5",
            "c8a174d8e91e49daad6456642f62f1a4",
            "677b206c49cb41b181db87c831d120f4",
            "66992e2215f144fea6e5ba51a0012f63",
            "e0850c678ed84b41903e24de08af6bcf"
          ]
        },
        "outputId": "1a0a3490-19ef-484c-d062-17e647556095"
      },
      "outputs": [
        {
          "output_type": "stream",
          "name": "stdout",
          "text": [
            "[NeMo I 2022-04-27 14:06:45 tokenizer_utils:130] Getting HuggingFace AutoTokenizer with pretrained_model_name: bert-base-multilingual-uncased, vocab_file: None, merges_files: None, special_tokens_dict: {}, and use_fast: False\n"
          ]
        },
        {
          "output_type": "display_data",
          "data": {
            "text/plain": [
              "Downloading:   0%|          | 0.00/28.0 [00:00<?, ?B/s]"
            ],
            "application/vnd.jupyter.widget-view+json": {
              "version_major": 2,
              "version_minor": 0,
              "model_id": "d63764bdfcfc4f0cbde4d767beddb4e8"
            }
          },
          "metadata": {}
        },
        {
          "output_type": "display_data",
          "data": {
            "text/plain": [
              "Downloading:   0%|          | 0.00/625 [00:00<?, ?B/s]"
            ],
            "application/vnd.jupyter.widget-view+json": {
              "version_major": 2,
              "version_minor": 0,
              "model_id": "b7661e3b62d545de8f85be82c8eadb64"
            }
          },
          "metadata": {}
        },
        {
          "output_type": "display_data",
          "data": {
            "text/plain": [
              "Downloading:   0%|          | 0.00/851k [00:00<?, ?B/s]"
            ],
            "application/vnd.jupyter.widget-view+json": {
              "version_major": 2,
              "version_minor": 0,
              "model_id": "9d9b9b8cf14e4c89b79437f9c680c78f"
            }
          },
          "metadata": {}
        },
        {
          "output_type": "stream",
          "name": "stderr",
          "text": [
            "Using eos_token, but it is not set yet.\n",
            "Using bos_token, but it is not set yet.\n",
            "[NeMo W 2022-04-27 14:06:55 modelPT:216] You tried to register an artifact under config key=tokenizer.vocab_file but an artifact for it has already been registered.\n"
          ]
        },
        {
          "output_type": "stream",
          "name": "stdout",
          "text": [
            "[NeMo I 2022-04-27 14:06:55 punctuation_capitalization_dataset:950] Processing /content/data/text_train.txt\n",
            "[NeMo I 2022-04-27 14:07:01 punctuation_capitalization_dataset:555] Start initial tokenization.\n",
            "[NeMo I 2022-04-27 14:07:01 punctuation_capitalization_dataset:560] Running tokenization with 0 jobs.\n"
          ]
        },
        {
          "output_type": "stream",
          "name": "stderr",
          "text": [
            "Tokenization:   4%|▍         | 9.00k/200k [00:10<03:39, 872query/s]"
          ]
        },
        {
          "output_type": "stream",
          "name": "stdout",
          "text": [
            "[NeMo I 2022-04-27 14:07:13 punctuation_capitalization_dataset:503] Finished processing data split number 0\n"
          ]
        },
        {
          "output_type": "stream",
          "name": "stderr",
          "text": [
            "Tokenization:  10%|▉         | 19.0k/200k [00:22<03:33, 846query/s]"
          ]
        },
        {
          "output_type": "stream",
          "name": "stdout",
          "text": [
            "[NeMo I 2022-04-27 14:07:25 punctuation_capitalization_dataset:503] Finished processing data split number 1\n"
          ]
        },
        {
          "output_type": "stream",
          "name": "stderr",
          "text": [
            "Tokenization:  14%|█▍        | 29.0k/200k [00:34<03:22, 845query/s]"
          ]
        },
        {
          "output_type": "stream",
          "name": "stdout",
          "text": [
            "[NeMo I 2022-04-27 14:07:37 punctuation_capitalization_dataset:503] Finished processing data split number 2\n"
          ]
        },
        {
          "output_type": "stream",
          "name": "stderr",
          "text": [
            "Tokenization:  20%|█▉        | 39.0k/200k [00:46<03:14, 829query/s]"
          ]
        },
        {
          "output_type": "stream",
          "name": "stdout",
          "text": [
            "[NeMo I 2022-04-27 14:07:49 punctuation_capitalization_dataset:503] Finished processing data split number 3\n"
          ]
        },
        {
          "output_type": "stream",
          "name": "stderr",
          "text": [
            "Tokenization:  24%|██▍       | 49.0k/200k [00:58<02:58, 848query/s]"
          ]
        },
        {
          "output_type": "stream",
          "name": "stdout",
          "text": [
            "[NeMo I 2022-04-27 14:08:01 punctuation_capitalization_dataset:503] Finished processing data split number 4\n"
          ]
        },
        {
          "output_type": "stream",
          "name": "stderr",
          "text": [
            "Tokenization:  30%|██▉       | 59.0k/200k [01:10<02:49, 832query/s]"
          ]
        },
        {
          "output_type": "stream",
          "name": "stdout",
          "text": [
            "[NeMo I 2022-04-27 14:08:13 punctuation_capitalization_dataset:503] Finished processing data split number 5\n"
          ]
        },
        {
          "output_type": "stream",
          "name": "stderr",
          "text": [
            "Tokenization:  34%|███▍      | 69.0k/200k [01:21<02:31, 867query/s]"
          ]
        },
        {
          "output_type": "stream",
          "name": "stdout",
          "text": [
            "[NeMo I 2022-04-27 14:08:24 punctuation_capitalization_dataset:503] Finished processing data split number 6\n"
          ]
        },
        {
          "output_type": "stream",
          "name": "stderr",
          "text": [
            "Tokenization:  40%|███▉      | 79.0k/200k [01:33<02:20, 859query/s]"
          ]
        },
        {
          "output_type": "stream",
          "name": "stdout",
          "text": [
            "[NeMo I 2022-04-27 14:08:36 punctuation_capitalization_dataset:503] Finished processing data split number 7\n"
          ]
        },
        {
          "output_type": "stream",
          "name": "stderr",
          "text": [
            "Tokenization:  44%|████▍     | 89.0k/200k [01:44<02:07, 867query/s]"
          ]
        },
        {
          "output_type": "stream",
          "name": "stdout",
          "text": [
            "[NeMo I 2022-04-27 14:08:48 punctuation_capitalization_dataset:503] Finished processing data split number 8\n"
          ]
        },
        {
          "output_type": "stream",
          "name": "stderr",
          "text": [
            "Tokenization:  50%|████▉     | 99.0k/200k [01:56<01:59, 844query/s]"
          ]
        },
        {
          "output_type": "stream",
          "name": "stdout",
          "text": [
            "[NeMo I 2022-04-27 14:09:00 punctuation_capitalization_dataset:503] Finished processing data split number 9\n"
          ]
        },
        {
          "output_type": "stream",
          "name": "stderr",
          "text": [
            "Tokenization:  55%|█████▍    | 109k/200k [02:08<01:50, 826query/s]"
          ]
        },
        {
          "output_type": "stream",
          "name": "stdout",
          "text": [
            "[NeMo I 2022-04-27 14:09:11 punctuation_capitalization_dataset:503] Finished processing data split number 10\n"
          ]
        },
        {
          "output_type": "stream",
          "name": "stderr",
          "text": [
            "Tokenization:  60%|█████▉    | 119k/200k [02:20<01:35, 850query/s]"
          ]
        },
        {
          "output_type": "stream",
          "name": "stdout",
          "text": [
            "[NeMo I 2022-04-27 14:09:23 punctuation_capitalization_dataset:503] Finished processing data split number 11\n"
          ]
        },
        {
          "output_type": "stream",
          "name": "stderr",
          "text": [
            "Tokenization:  64%|██████▍   | 129k/200k [02:32<01:21, 873query/s]"
          ]
        },
        {
          "output_type": "stream",
          "name": "stdout",
          "text": [
            "[NeMo I 2022-04-27 14:09:35 punctuation_capitalization_dataset:503] Finished processing data split number 12\n"
          ]
        },
        {
          "output_type": "stream",
          "name": "stderr",
          "text": [
            "Tokenization:  70%|██████▉   | 139k/200k [02:43<01:09, 877query/s]"
          ]
        },
        {
          "output_type": "stream",
          "name": "stdout",
          "text": [
            "[NeMo I 2022-04-27 14:09:46 punctuation_capitalization_dataset:503] Finished processing data split number 13\n"
          ]
        },
        {
          "output_type": "stream",
          "name": "stderr",
          "text": [
            "Tokenization:  74%|███████▍  | 149k/200k [02:55<01:00, 849query/s]"
          ]
        },
        {
          "output_type": "stream",
          "name": "stdout",
          "text": [
            "[NeMo I 2022-04-27 14:09:58 punctuation_capitalization_dataset:503] Finished processing data split number 14\n"
          ]
        },
        {
          "output_type": "stream",
          "name": "stderr",
          "text": [
            "Tokenization:  80%|███████▉  | 159k/200k [03:06<00:47, 870query/s]"
          ]
        },
        {
          "output_type": "stream",
          "name": "stdout",
          "text": [
            "[NeMo I 2022-04-27 14:10:10 punctuation_capitalization_dataset:503] Finished processing data split number 15\n"
          ]
        },
        {
          "output_type": "stream",
          "name": "stderr",
          "text": [
            "Tokenization:  84%|████████▍ | 169k/200k [03:18<00:36, 859query/s]"
          ]
        },
        {
          "output_type": "stream",
          "name": "stdout",
          "text": [
            "[NeMo I 2022-04-27 14:10:21 punctuation_capitalization_dataset:503] Finished processing data split number 16\n"
          ]
        },
        {
          "output_type": "stream",
          "name": "stderr",
          "text": [
            "Tokenization:  90%|████████▉ | 179k/200k [03:29<00:24, 863query/s]"
          ]
        },
        {
          "output_type": "stream",
          "name": "stdout",
          "text": [
            "[NeMo I 2022-04-27 14:10:33 punctuation_capitalization_dataset:503] Finished processing data split number 17\n"
          ]
        },
        {
          "output_type": "stream",
          "name": "stderr",
          "text": [
            "Tokenization:  94%|█████████▍| 189k/200k [03:41<00:13, 843query/s]"
          ]
        },
        {
          "output_type": "stream",
          "name": "stdout",
          "text": [
            "[NeMo I 2022-04-27 14:10:44 punctuation_capitalization_dataset:503] Finished processing data split number 18\n"
          ]
        },
        {
          "output_type": "stream",
          "name": "stderr",
          "text": [
            "Tokenization: 100%|█████████▉| 199k/200k [03:52<00:01, 860query/s]"
          ]
        },
        {
          "output_type": "stream",
          "name": "stdout",
          "text": [
            "[NeMo I 2022-04-27 14:10:56 punctuation_capitalization_dataset:503] Finished processing data split number 19\n"
          ]
        },
        {
          "output_type": "stream",
          "name": "stderr",
          "text": [
            "Tokenization: 100%|██████████| 200k/200k [03:54<00:00, 854query/s]\n"
          ]
        },
        {
          "output_type": "stream",
          "name": "stdout",
          "text": [
            "[NeMo I 2022-04-27 14:10:56 punctuation_capitalization_dataset:598] Finished initial tokenization.\n",
            "[NeMo I 2022-04-27 14:10:56 data_preprocessing:404] Some stats of the lengths of the sequences:\n",
            "[NeMo I 2022-04-27 14:10:56 data_preprocessing:410] Min: 3 |                  Max: 38 |                  Mean: 17.812695 |                  Median: 18.0\n",
            "[NeMo I 2022-04-27 14:10:56 data_preprocessing:412] 75 percentile: 22.00\n",
            "[NeMo I 2022-04-27 14:10:56 data_preprocessing:413] 99 percentile: 29.00\n",
            "[NeMo I 2022-04-27 14:10:56 punctuation_capitalization_dataset:600] Finished clipping and padding.\n",
            "[NeMo I 2022-04-27 14:10:56 punctuation_capitalization_dataset:602] *** Example ***\n",
            "[NeMo I 2022-04-27 14:10:56 punctuation_capitalization_dataset:603] i: 0\n",
            "[NeMo I 2022-04-27 14:10:56 punctuation_capitalization_dataset:604] subtokens: 101 34447 10486 24571 102\n",
            "[NeMo I 2022-04-27 14:10:56 punctuation_capitalization_dataset:605] subtokens_mask: False True True False False\n",
            "[NeMo I 2022-04-27 14:10:56 punctuation_capitalization_dataset:606] punct_labels: 0 0 9 9 0\n",
            "[NeMo I 2022-04-27 14:10:56 punctuation_capitalization_dataset:607] capit_labels: 0 1 0 0 0\n",
            "[NeMo I 2022-04-27 14:10:56 punctuation_capitalization_dataset:602] *** Example ***\n",
            "[NeMo I 2022-04-27 14:10:56 punctuation_capitalization_dataset:603] i: 1\n",
            "[NeMo I 2022-04-27 14:10:56 punctuation_capitalization_dataset:604] subtokens: 101 143 10379 10206 20018 45018 10117 15907 102\n",
            "[NeMo I 2022-04-27 14:10:56 punctuation_capitalization_dataset:605] subtokens_mask: False True True False True True True True False\n",
            "[NeMo I 2022-04-27 14:10:56 punctuation_capitalization_dataset:606] punct_labels: 0 0 0 0 0 0 0 15 0\n",
            "[NeMo I 2022-04-27 14:10:56 punctuation_capitalization_dataset:607] capit_labels: 0 1 0 0 0 0 0 0 0\n",
            "[NeMo I 2022-04-27 14:10:56 punctuation_capitalization_dataset:602] *** Example ***\n",
            "[NeMo I 2022-04-27 14:10:56 punctuation_capitalization_dataset:603] i: 2\n",
            "[NeMo I 2022-04-27 14:10:56 punctuation_capitalization_dataset:604] subtokens: 101 10181 11201 11947 20776 10174 10297 24158 102\n",
            "[NeMo I 2022-04-27 14:10:56 punctuation_capitalization_dataset:605] subtokens_mask: False True True False True True True False False\n",
            "[NeMo I 2022-04-27 14:10:56 punctuation_capitalization_dataset:606] punct_labels: 0 0 0 0 0 0 9 9 0\n",
            "[NeMo I 2022-04-27 14:10:56 punctuation_capitalization_dataset:607] capit_labels: 0 1 0 0 0 0 0 0 0\n",
            "[NeMo I 2022-04-27 14:10:56 punctuation_capitalization_dataset:602] *** Example ***\n",
            "[NeMo I 2022-04-27 14:10:56 punctuation_capitalization_dataset:603] i: 3\n",
            "[NeMo I 2022-04-27 14:10:56 punctuation_capitalization_dataset:604] subtokens: 101 143 37567 10193 10126 22754 10119 10604 10174 18723 10131 102\n",
            "[NeMo I 2022-04-27 14:10:56 punctuation_capitalization_dataset:605] subtokens_mask: False True True True True False True True True True False False\n",
            "[NeMo I 2022-04-27 14:10:56 punctuation_capitalization_dataset:606] punct_labels: 0 0 0 0 0 0 0 0 0 9 9 0\n",
            "[NeMo I 2022-04-27 14:10:56 punctuation_capitalization_dataset:607] capit_labels: 0 1 0 0 0 0 0 0 0 0 0 0\n",
            "[NeMo I 2022-04-27 14:10:56 punctuation_capitalization_dataset:602] *** Example ***\n",
            "[NeMo I 2022-04-27 14:10:56 punctuation_capitalization_dataset:603] i: 4\n",
            "[NeMo I 2022-04-27 14:10:56 punctuation_capitalization_dataset:604] subtokens: 101 11403 16285 10102 12471 10126 10181 47065 43470 10537 102\n",
            "[NeMo I 2022-04-27 14:10:56 punctuation_capitalization_dataset:605] subtokens_mask: False True True True True True True True True False False\n",
            "[NeMo I 2022-04-27 14:10:56 punctuation_capitalization_dataset:606] punct_labels: 0 0 0 0 0 0 0 0 9 9 0\n",
            "[NeMo I 2022-04-27 14:10:56 punctuation_capitalization_dataset:607] capit_labels: 0 1 0 0 0 0 0 0 0 0 0\n",
            "[NeMo I 2022-04-27 14:11:00 punctuation_capitalization_dataset:981] Features saved to /content/data/cached.text_train.BertTokenizer.max_seq_length512.vocab105879.num_samples200000.punctuation_capitalization.pkl\n"
          ]
        },
        {
          "output_type": "stream",
          "name": "stderr",
          "text": [
            "Batch mark up: 100%|██████████| 200000/200000 [00:00<00:00, 585707.07query/s]\n",
            "Batch building: 100%|██████████| 4314/4314 [00:04<00:00, 870.57batch/s] \n",
            "[NeMo W 2022-04-27 14:11:07 nemo_logging:349] /usr/local/lib/python3.7/dist-packages/torch/utils/data/dataloader.py:490: UserWarning: This DataLoader will create 8 worker processes in total. Our suggested max number of worker in current system is 2, which is smaller than what this DataLoader is going to create. Please be aware that excessive worker creation might get DataLoader running slow or even freeze, lower the worker number to avoid potential slowness/freeze if necessary.\n",
            "      cpuset_checked))\n",
            "    \n"
          ]
        },
        {
          "output_type": "stream",
          "name": "stdout",
          "text": [
            "[NeMo I 2022-04-27 14:11:07 punctuation_capitalization_dataset:950] Processing /content/data/text_dev.txt\n",
            "[NeMo I 2022-04-27 14:11:08 punctuation_capitalization_dataset:555] Start initial tokenization.\n",
            "[NeMo I 2022-04-27 14:11:08 punctuation_capitalization_dataset:560] Running tokenization with 0 jobs.\n"
          ]
        },
        {
          "output_type": "stream",
          "name": "stderr",
          "text": [
            "Tokenization:  90%|█████████ | 9.00k/10.0k [00:10<00:01, 879query/s]"
          ]
        },
        {
          "output_type": "stream",
          "name": "stdout",
          "text": [
            "[NeMo I 2022-04-27 14:11:19 punctuation_capitalization_dataset:503] Finished processing data split number 0\n"
          ]
        },
        {
          "output_type": "stream",
          "name": "stderr",
          "text": [
            "Tokenization: 100%|██████████| 10.0k/10.0k [00:11<00:00, 864query/s]\n"
          ]
        },
        {
          "output_type": "stream",
          "name": "stdout",
          "text": [
            "[NeMo I 2022-04-27 14:11:19 punctuation_capitalization_dataset:598] Finished initial tokenization.\n",
            "[NeMo I 2022-04-27 14:11:19 data_preprocessing:404] Some stats of the lengths of the sequences:\n",
            "[NeMo I 2022-04-27 14:11:19 data_preprocessing:410] Min: 4 |                  Max: 36 |                  Mean: 17.9795 |                  Median: 18.0\n",
            "[NeMo I 2022-04-27 14:11:19 data_preprocessing:412] 75 percentile: 22.00\n",
            "[NeMo I 2022-04-27 14:11:19 data_preprocessing:413] 99 percentile: 29.00\n",
            "[NeMo I 2022-04-27 14:11:19 punctuation_capitalization_dataset:600] Finished clipping and padding.\n",
            "[NeMo I 2022-04-27 14:11:19 punctuation_capitalization_dataset:602] *** Example ***\n",
            "[NeMo I 2022-04-27 14:11:19 punctuation_capitalization_dataset:603] i: 0\n",
            "[NeMo I 2022-04-27 14:11:19 punctuation_capitalization_dataset:604] subtokens: 101 143 10106 11191 10210 11273 10126 10188 10112 16360 23076 10112 102\n",
            "[NeMo I 2022-04-27 14:11:19 punctuation_capitalization_dataset:605] subtokens_mask: False True True True True True True True False True False False False\n",
            "[NeMo I 2022-04-27 14:11:19 punctuation_capitalization_dataset:606] punct_labels: 0 0 0 0 0 0 0 0 0 9 9 9 0\n",
            "[NeMo I 2022-04-27 14:11:19 punctuation_capitalization_dataset:607] capit_labels: 0 1 0 0 0 0 0 0 0 0 0 0 0\n",
            "[NeMo I 2022-04-27 14:11:19 punctuation_capitalization_dataset:602] *** Example ***\n",
            "[NeMo I 2022-04-27 14:11:19 punctuation_capitalization_dataset:603] i: 1\n",
            "[NeMo I 2022-04-27 14:11:19 punctuation_capitalization_dataset:604] subtokens: 101 10379 10115 17993 10102 12513 193 30828 102\n",
            "[NeMo I 2022-04-27 14:11:19 punctuation_capitalization_dataset:605] subtokens_mask: False True False True True True False False False\n",
            "[NeMo I 2022-04-27 14:11:19 punctuation_capitalization_dataset:606] punct_labels: 0 0 0 0 0 9 9 9 0\n",
            "[NeMo I 2022-04-27 14:11:19 punctuation_capitalization_dataset:607] capit_labels: 0 1 1 0 0 0 0 0 0\n",
            "[NeMo I 2022-04-27 14:11:19 punctuation_capitalization_dataset:602] *** Example ***\n",
            "[NeMo I 2022-04-27 14:11:19 punctuation_capitalization_dataset:603] i: 2\n",
            "[NeMo I 2022-04-27 14:11:19 punctuation_capitalization_dataset:604] subtokens: 101 10126 29495 13822 52130 10131 143 10106 87796 102\n",
            "[NeMo I 2022-04-27 14:11:19 punctuation_capitalization_dataset:605] subtokens_mask: False True True True True False True True True False\n",
            "[NeMo I 2022-04-27 14:11:19 punctuation_capitalization_dataset:606] punct_labels: 0 0 0 0 0 0 0 0 15 0\n",
            "[NeMo I 2022-04-27 14:11:19 punctuation_capitalization_dataset:607] capit_labels: 0 1 0 0 0 0 0 0 0 0\n",
            "[NeMo I 2022-04-27 14:11:19 punctuation_capitalization_dataset:602] *** Example ***\n",
            "[NeMo I 2022-04-27 14:11:19 punctuation_capitalization_dataset:603] i: 3\n",
            "[NeMo I 2022-04-27 14:11:19 punctuation_capitalization_dataset:604] subtokens: 101 10106 86037 11399 41132 10117 40243 10408 102\n",
            "[NeMo I 2022-04-27 14:11:19 punctuation_capitalization_dataset:605] subtokens_mask: False True True True True True True False False\n",
            "[NeMo I 2022-04-27 14:11:20 punctuation_capitalization_dataset:606] punct_labels: 0 0 0 0 0 0 9 9 0\n",
            "[NeMo I 2022-04-27 14:11:20 punctuation_capitalization_dataset:607] capit_labels: 0 1 0 0 0 0 0 0 0\n",
            "[NeMo I 2022-04-27 14:11:20 punctuation_capitalization_dataset:602] *** Example ***\n",
            "[NeMo I 2022-04-27 14:11:20 punctuation_capitalization_dataset:603] i: 4\n",
            "[NeMo I 2022-04-27 14:11:20 punctuation_capitalization_dataset:604] subtokens: 101 154 112 47670 10112 10252 11403 37627 10102 23759 34707 10159 151 10525 156 112 10191 33850 14383 10123 102\n",
            "[NeMo I 2022-04-27 14:11:20 punctuation_capitalization_dataset:605] subtokens_mask: False True False False False True True True True True False False True True True False False True False False False\n",
            "[NeMo I 2022-04-27 14:11:20 punctuation_capitalization_dataset:606] punct_labels: 0 0 0 0 0 0 0 0 0 0 0 0 0 0 0 0 0 9 9 9 0\n",
            "[NeMo I 2022-04-27 14:11:20 punctuation_capitalization_dataset:607] capit_labels: 0 1 1 1 1 0 0 0 0 0 0 0 0 0 0 0 0 0 0 0 0\n",
            "[NeMo I 2022-04-27 14:11:20 punctuation_capitalization_dataset:981] Features saved to /content/data/cached.text_dev.BertTokenizer.max_seq_length512.vocab105879.num_samples10000.punctuation_capitalization.pkl\n"
          ]
        },
        {
          "output_type": "stream",
          "name": "stderr",
          "text": [
            "Batch mark up: 100%|██████████| 10000/10000 [00:00<00:00, 512175.06query/s]\n",
            "Batch building: 100%|██████████| 218/218 [00:00<00:00, 885.92batch/s]\n"
          ]
        },
        {
          "output_type": "display_data",
          "data": {
            "text/plain": [
              "Downloading:   0%|          | 0.00/641M [00:00<?, ?B/s]"
            ],
            "application/vnd.jupyter.widget-view+json": {
              "version_major": 2,
              "version_minor": 0,
              "model_id": "ab878659eee7457a83d45075059f0f77"
            }
          },
          "metadata": {}
        },
        {
          "output_type": "stream",
          "name": "stderr",
          "text": [
            "Some weights of the model checkpoint at bert-base-multilingual-uncased were not used when initializing BertModel: ['cls.seq_relationship.bias', 'cls.predictions.transform.dense.weight', 'cls.seq_relationship.weight', 'cls.predictions.transform.dense.bias', 'cls.predictions.decoder.weight', 'cls.predictions.transform.LayerNorm.bias', 'cls.predictions.bias', 'cls.predictions.transform.LayerNorm.weight']\n",
            "- This IS expected if you are initializing BertModel from the checkpoint of a model trained on another task or with another architecture (e.g. initializing a BertForSequenceClassification model from a BertForPreTraining model).\n",
            "- This IS NOT expected if you are initializing BertModel from the checkpoint of a model that you expect to be exactly identical (initializing a BertForSequenceClassification model from a BertForSequenceClassification model).\n",
            "Some weights of the model checkpoint at bert-base-multilingual-uncased were not used when initializing BertEncoder: ['cls.seq_relationship.bias', 'cls.predictions.transform.dense.weight', 'cls.seq_relationship.weight', 'cls.predictions.transform.dense.bias', 'cls.predictions.decoder.weight', 'cls.predictions.transform.LayerNorm.bias', 'cls.predictions.bias', 'cls.predictions.transform.LayerNorm.weight']\n",
            "- This IS expected if you are initializing BertEncoder from the checkpoint of a model trained on another task or with another architecture (e.g. initializing a BertForSequenceClassification model from a BertForPreTraining model).\n",
            "- This IS NOT expected if you are initializing BertEncoder from the checkpoint of a model that you expect to be exactly identical (initializing a BertForSequenceClassification model from a BertForSequenceClassification model).\n"
          ]
        }
      ],
      "source": [
        "model = nemo_nlp.models.PunctuationCapitalizationModel(cfg=config.model, trainer=trainer)"
      ]
    },
    {
      "cell_type": "code",
      "source": [
        "!nvidia-smi"
      ],
      "metadata": {
        "colab": {
          "base_uri": "https://localhost:8080/"
        },
        "id": "UTe4IF0Ny7hL",
        "outputId": "e1f944e7-d2c3-4888-eca0-6cea1885569b"
      },
      "execution_count": 23,
      "outputs": [
        {
          "output_type": "stream",
          "name": "stdout",
          "text": [
            "Wed Apr 27 14:11:47 2022       \n",
            "+-----------------------------------------------------------------------------+\n",
            "| NVIDIA-SMI 460.32.03    Driver Version: 460.32.03    CUDA Version: 11.2     |\n",
            "|-------------------------------+----------------------+----------------------+\n",
            "| GPU  Name        Persistence-M| Bus-Id        Disp.A | Volatile Uncorr. ECC |\n",
            "| Fan  Temp  Perf  Pwr:Usage/Cap|         Memory-Usage | GPU-Util  Compute M. |\n",
            "|                               |                      |               MIG M. |\n",
            "|===============================+======================+======================|\n",
            "|   0  Tesla K80           Off  | 00000000:00:04.0 Off |                    0 |\n",
            "| N/A   51C    P8    30W / 149W |      3MiB / 11441MiB |      0%      Default |\n",
            "|                               |                      |                  N/A |\n",
            "+-------------------------------+----------------------+----------------------+\n",
            "                                                                               \n",
            "+-----------------------------------------------------------------------------+\n",
            "| Processes:                                                                  |\n",
            "|  GPU   GI   CI        PID   Type   Process name                  GPU Memory |\n",
            "|        ID   ID                                                   Usage      |\n",
            "|=============================================================================|\n",
            "|  No running processes found                                                 |\n",
            "+-----------------------------------------------------------------------------+\n"
          ]
        }
      ]
    },
    {
      "cell_type": "code",
      "execution_count": 24,
      "metadata": {
        "id": "hUvnSpyjp0Dh",
        "colab": {
          "base_uri": "https://localhost:8080/",
          "height": 1000,
          "referenced_widgets": [
            "66791b57417d4cbe8463d03e377cc6e5",
            "e93358e04d504899972c9b3137b0d419",
            "2aeb09eff6344e48878b520bf90d503a",
            "81859bc8632943f49d28b50a85e97383",
            "4b89515dbc09448f863c0e09eb1c5e81",
            "607ab8ae48114b1491a9da29b88c0c5b",
            "e3e82850334b4da191ca2ba1960a5b0b",
            "07b03c133004488dbd0450c225559319",
            "75a33ae661a14f9ba2ea653b88718def",
            "d49c6a1cc7204c08a23a8cd4b2d017fe",
            "1d0d9ff46cb948628b8388cbdf84218a",
            "9e0c004dfe9e4103aa67affe05e66773",
            "d5cb8004bfde4de2a225bfa41b06947c",
            "d64d932cfcb24186b8490ee07e35170a",
            "2103804765174a02838a3e2169f80b0b",
            "0852ef040c1645acb591ad86c36445c9",
            "4ccfe42532f846b390332ba4e600bd19",
            "dbc105ca89c54598a398ce50ab6ae00d",
            "bc59d8a7cdac4a2c88ac355ba9aa1ba4",
            "e971b41ec0184822874c08056b71c7d6",
            "049b862868ea428e888bbfde7dc3ab8a",
            "536b0046caba4a87ac7565def23da7e5",
            "56bde28edb7d487eb8c2f2aa8fbd5f5c",
            "c6b06f77ea524f5bb37282cbd0e7dd58",
            "17227fc0c71743a9b4f6dca9ecd1451e",
            "0a9644673ba54f3ba1182242a252ffd8",
            "b0ca95db54404695886b622542d10cd1",
            "97ea38ebb19f488d866008fafd412732",
            "60c795afb58b42179e661b6f47183276",
            "70151354b0b64dd4bdc17040c4a02512",
            "70095a9571b9405ea4abad2ab56b95d6",
            "1ec415c5a2a14e618218848dc4630b0e",
            "372a30b03a974597a15b633ccf5d68fd",
            "97d1d92a1d9a4597b460435d683e55fe",
            "4eaee352287b48288cedbf3ae16ce7b5",
            "d0606ae764774f87b3bd8f96156058db",
            "41c9841b4db641c28093fb148696b06b",
            "27d1312a77e6411ca2a6f695a7c70642",
            "88650aaf26e24d96872576b2ae613b82",
            "50e4c5f9081f41e39f044774c9a1bba0",
            "e4679c423caa4248b51815b53b575396",
            "e552a1f3e35840c8989dff494d2689fe",
            "8d3a4f9a2ef847aabd78d30d378c65d7",
            "5d0219036da2472c844f2aec52ad2ae4",
            "5ccbd9a4ee694390984713d6d313103c",
            "f58c914904e94ad6901103050fb5438a",
            "2f1fdb3489eb48b9965ed08da6258df0",
            "500efbbd5b96498e9c62533a9a0d5e01",
            "4039015467bc4fd19de72f000ce32353",
            "0f8318adb73b4c72b1096c0c90fb05ad",
            "7b268ed373e443519033185a2098fb42",
            "5d325473f96e43ff8781088e58f6392f",
            "8cdf52674e644d068ccb4368d938a8fc",
            "edcde8a8e9b84e36b53bcf774d42aaab",
            "d12c61d8e86e4574aa2ba169699def16"
          ]
        },
        "outputId": "48e0b1df-9216-4054-ae38-dc7938ce5b1b"
      },
      "outputs": [
        {
          "metadata": {
            "tags": null
          },
          "name": "stderr",
          "output_type": "stream",
          "text": [
            "LOCAL_RANK: 0 - CUDA_VISIBLE_DEVICES: [0]\n"
          ]
        },
        {
          "metadata": {
            "tags": null
          },
          "name": "stdout",
          "output_type": "stream",
          "text": [
            "[NeMo I 2022-04-27 14:11:58 modelPT:576] Optimizer config = Adam (\n",
            "    Parameter Group 0\n",
            "        amsgrad: False\n",
            "        betas: (0.9, 0.999)\n",
            "        eps: 1e-08\n",
            "        lr: 2e-05\n",
            "        maximize: False\n",
            "        weight_decay: 0.0\n",
            "    )\n",
            "[NeMo I 2022-04-27 14:11:58 lr_scheduler:837] Scheduler \"<nemo.core.optim.lr_scheduler.WarmupAnnealing object at 0x7f155294ea90>\" \n",
            "    will be used during training (effective maximum steps = 12942) - \n",
            "    Parameters : \n",
            "    (warmup_steps: null\n",
            "    warmup_ratio: 0.1\n",
            "    last_epoch: -1\n",
            "    max_steps: 12942\n",
            "    )\n"
          ]
        },
        {
          "metadata": {
            "tags": null
          },
          "name": "stderr",
          "output_type": "stream",
          "text": [
            "\n",
            "  | Name             | Type             | Params\n",
            "------------------------------------------------------\n",
            "0 | metrics          | ModuleDict       | 0     \n",
            "1 | bert_model       | BertEncoder      | 167 M \n",
            "2 | punct_classifier | TokenClassifier  | 12.3 K\n",
            "3 | capit_classifier | TokenClassifier  | 1.5 K \n",
            "4 | loss             | CrossEntropyLoss | 0     \n",
            "5 | agg_loss         | AggregatorLoss   | 0     \n",
            "------------------------------------------------------\n",
            "167 M     Trainable params\n",
            "0         Non-trainable params\n",
            "167 M     Total params\n",
            "334.741   Total estimated model params size (MB)\n"
          ]
        },
        {
          "data": {
            "application/vnd.jupyter.widget-view+json": {
              "model_id": "66791b57417d4cbe8463d03e377cc6e5",
              "version_major": 2,
              "version_minor": 0
            },
            "text/plain": [
              "Sanity Checking: 0it [00:00, ?it/s]"
            ]
          },
          "metadata": {},
          "output_type": "display_data"
        },
        {
          "metadata": {
            "tags": null
          },
          "name": "stderr",
          "output_type": "stream",
          "text": [
            "[NeMo W 2022-04-27 14:11:58 nemo_logging:349] /usr/local/lib/python3.7/dist-packages/torch/utils/data/dataloader.py:490: UserWarning: This DataLoader will create 8 worker processes in total. Our suggested max number of worker in current system is 2, which is smaller than what this DataLoader is going to create. Please be aware that excessive worker creation might get DataLoader running slow or even freeze, lower the worker number to avoid potential slowness/freeze if necessary.\n",
            "      cpuset_checked))\n",
            "    \n"
          ]
        },
        {
          "metadata": {
            "tags": null
          },
          "name": "stdout",
          "output_type": "stream",
          "text": [
            "[NeMo I 2022-04-27 14:12:00 punctuation_capitalization_model:332] Punctuation report: \n",
            "    label                                                precision    recall       f1           support   \n",
            "    O (label_id: 0)                                        100.00       0.33       0.66        608\n",
            "    ! (label_id: 1)                                          0.00       0.00       0.00          1\n",
            "    \" (label_id: 2)                                          0.00       0.00       0.00          0\n",
            "    # (label_id: 3)                                          0.00       0.00       0.00          0\n",
            "    ' (label_id: 4)                                          0.00       0.00       0.00          0\n",
            "    * (label_id: 5)                                          0.00       0.00       0.00          0\n",
            "    + (label_id: 6)                                          0.00       0.00       0.00          0\n",
            "    , (label_id: 7)                                          1.45       4.76       2.22         21\n",
            "    - (label_id: 8)                                          0.00       0.00       0.00          0\n",
            "    . (label_id: 9)                                          9.89       7.38       8.45        122\n",
            "    / (label_id: 10)                                         0.00       0.00       0.00          0\n",
            "    : (label_id: 11)                                         0.00       0.00       0.00          0\n",
            "    ; (label_id: 12)                                         0.00       0.00       0.00          0\n",
            "    = (label_id: 13)                                         0.00       0.00       0.00          0\n",
            "    > (label_id: 14)                                         0.00       0.00       0.00          0\n",
            "    ? (label_id: 15)                                         0.00       0.00       0.00          4\n",
            "    -------------------\n",
            "    micro avg                                                1.59       1.59       1.59        756\n",
            "    macro avg                                               22.27       2.49       2.27        756\n",
            "    weighted avg                                            82.06       1.59       1.95        756\n",
            "    \n",
            "[NeMo I 2022-04-27 14:12:00 punctuation_capitalization_model:333] Capitalization report: \n",
            "    label                                                precision    recall       f1           support   \n",
            "    O (label_id: 0)                                         83.79      83.08      83.43        585\n",
            "    U (label_id: 1)                                         43.75      45.03      44.38        171\n",
            "    -------------------\n",
            "    micro avg                                               74.47      74.47      74.47        756\n",
            "    macro avg                                               63.77      64.05      63.91        756\n",
            "    weighted avg                                            74.74      74.47      74.60        756\n",
            "    \n"
          ]
        },
        {
          "data": {
            "application/vnd.jupyter.widget-view+json": {
              "model_id": "9e0c004dfe9e4103aa67affe05e66773",
              "version_major": 2,
              "version_minor": 0
            },
            "text/plain": [
              "Training: 0it [00:00, ?it/s]"
            ]
          },
          "metadata": {},
          "output_type": "display_data"
        },
        {
          "metadata": {
            "tags": null
          },
          "name": "stderr",
          "output_type": "stream",
          "text": [
            "[NeMo W 2022-04-27 14:12:02 nemo_logging:349] /usr/local/lib/python3.7/dist-packages/torch/optim/lr_scheduler.py:136: UserWarning: Detected call of `lr_scheduler.step()` before `optimizer.step()`. In PyTorch 1.1.0 and later, you should call them in the opposite order: `optimizer.step()` before `lr_scheduler.step()`.  Failure to do this will result in PyTorch skipping the first value of the learning rate schedule. See more details at https://pytorch.org/docs/stable/optim.html#how-to-adjust-learning-rate\n",
            "      \"https://pytorch.org/docs/stable/optim.html#how-to-adjust-learning-rate\", UserWarning)\n",
            "    \n"
          ]
        },
        {
          "data": {
            "application/vnd.jupyter.widget-view+json": {
              "model_id": "56bde28edb7d487eb8c2f2aa8fbd5f5c",
              "version_major": 2,
              "version_minor": 0
            },
            "text/plain": [
              "Validation: 0it [00:00, ?it/s]"
            ]
          },
          "metadata": {},
          "output_type": "display_data"
        },
        {
          "metadata": {
            "tags": null
          },
          "name": "stdout",
          "output_type": "stream",
          "text": [
            "[NeMo I 2022-04-27 15:50:12 punctuation_capitalization_model:332] Punctuation report: \n",
            "    label                                                precision    recall       f1           support   \n",
            "    O (label_id: 0)                                         98.35      99.26      98.80      98943\n",
            "    ! (label_id: 1)                                          0.00       0.00       0.00         47\n",
            "    \" (label_id: 2)                                         50.00       2.86       5.41         35\n",
            "    # (label_id: 3)                                          0.00       0.00       0.00          0\n",
            "    ' (label_id: 4)                                          0.00       0.00       0.00          1\n",
            "    * (label_id: 5)                                          0.00       0.00       0.00          0\n",
            "    + (label_id: 6)                                          0.00       0.00       0.00          0\n",
            "    , (label_id: 7)                                         76.54      62.13      68.58       4106\n",
            "    - (label_id: 8)                                          0.00       0.00       0.00          1\n",
            "    . (label_id: 9)                                         99.15      99.34      99.24       9846\n",
            "    / (label_id: 10)                                         0.00       0.00       0.00          4\n",
            "    : (label_id: 11)                                         0.00       0.00       0.00         63\n",
            "    ; (label_id: 12)                                         0.00       0.00       0.00         41\n",
            "    = (label_id: 13)                                         0.00       0.00       0.00          0\n",
            "    > (label_id: 14)                                         0.00       0.00       0.00          0\n",
            "    ? (label_id: 15)                                        39.22      51.28      44.44         78\n",
            "    -------------------\n",
            "    micro avg                                               97.72      97.72      97.72     113165\n",
            "    macro avg                                               33.02      28.62      28.77     113165\n",
            "    weighted avg                                            97.43      97.72      97.54     113165\n",
            "    \n",
            "[NeMo I 2022-04-27 15:50:12 punctuation_capitalization_model:333] Capitalization report: \n",
            "    label                                                precision    recall       f1           support   \n",
            "    O (label_id: 0)                                         99.28      99.64      99.46      97799\n",
            "    U (label_id: 1)                                         97.65      95.42      96.52      15366\n",
            "    -------------------\n",
            "    micro avg                                               99.07      99.07      99.07     113165\n",
            "    macro avg                                               98.47      97.53      97.99     113165\n",
            "    weighted avg                                            99.06      99.07      99.06     113165\n",
            "    \n",
            "[NeMo I 2022-04-27 15:50:12 punctuation_capitalization_dataset:1463] Shuffling training dataset\n"
          ]
        },
        {
          "metadata": {
            "tags": null
          },
          "name": "stderr",
          "output_type": "stream",
          "text": [
            "\n",
            "Batch mark up:   0%|          | 0/200000 [00:00<?, ?query/s]\u001b[A\n",
            "Batch mark up:  28%|██▊       | 56916/200000 [00:00<00:00, 569125.26query/s]\u001b[A\n",
            "Batch mark up:  57%|█████▋    | 113829/200000 [00:00<00:00, 538778.99query/s]\u001b[A\n",
            "Batch mark up: 100%|██████████| 200000/200000 [00:00<00:00, 542328.56query/s]\n",
            "\n",
            "Batch building:   0%|          | 0/4314 [00:00<?, ?batch/s]\u001b[A\n",
            "Batch building:   1%|          | 36/4314 [00:00<00:12, 354.21batch/s]\u001b[A\n",
            "Batch building:   2%|▏         | 78/4314 [00:00<00:10, 389.93batch/s]\u001b[A\n",
            "Batch building:   3%|▎         | 129/4314 [00:00<00:09, 443.65batch/s]\u001b[A\n",
            "Batch building:   4%|▍         | 188/4314 [00:00<00:08, 501.05batch/s]\u001b[A\n",
            "Batch building:   6%|▌         | 247/4314 [00:00<00:07, 531.89batch/s]\u001b[A\n",
            "Batch building:   7%|▋         | 304/4314 [00:00<00:07, 544.06batch/s]\u001b[A\n",
            "Batch building:   8%|▊         | 359/4314 [00:00<00:07, 543.27batch/s]\u001b[A\n",
            "Batch building:  10%|▉         | 414/4314 [00:00<00:07, 528.90batch/s]\u001b[A\n",
            "Batch building:  11%|█         | 467/4314 [00:00<00:07, 521.11batch/s]\u001b[A\n",
            "Batch building:  12%|█▏        | 524/4314 [00:01<00:07, 534.81batch/s]\u001b[A\n",
            "Batch building:  13%|█▎        | 578/4314 [00:01<00:07, 480.50batch/s]\u001b[A\n",
            "Batch building:  15%|█▍        | 635/4314 [00:01<00:07, 505.10batch/s]\u001b[A\n",
            "Batch building:  16%|█▌        | 692/4314 [00:01<00:06, 520.40batch/s]\u001b[A\n",
            "Batch building:  17%|█▋        | 747/4314 [00:01<00:06, 527.66batch/s]\u001b[A\n",
            "Batch building:  19%|█▊        | 803/4314 [00:01<00:06, 536.05batch/s]\u001b[A\n",
            "Batch building:  20%|█▉        | 861/4314 [00:01<00:06, 546.80batch/s]\u001b[A\n",
            "Batch building:  21%|██▏       | 920/4314 [00:01<00:06, 558.36batch/s]\u001b[A\n",
            "Batch building:  23%|██▎       | 977/4314 [00:01<00:06, 544.71batch/s]\u001b[A\n",
            "Batch building:  24%|██▍       | 1033/4314 [00:01<00:05, 548.72batch/s]\u001b[A\n",
            "Batch building:  25%|██▌       | 1092/4314 [00:02<00:05, 559.46batch/s]\u001b[A\n",
            "Batch building:  27%|██▋       | 1150/4314 [00:02<00:05, 562.75batch/s]\u001b[A\n",
            "Batch building:  28%|██▊       | 1209/4314 [00:02<00:05, 569.37batch/s]\u001b[A\n",
            "Batch building:  30%|██▉       | 1285/4314 [00:02<00:04, 621.95batch/s]\u001b[A\n",
            "Batch building:  32%|███▏      | 1367/4314 [00:02<00:04, 679.19batch/s]\u001b[A\n",
            "Batch building:  34%|███▎      | 1455/4314 [00:02<00:03, 737.09batch/s]\u001b[A\n",
            "Batch building:  36%|███▌      | 1541/4314 [00:02<00:03, 772.53batch/s]\u001b[A\n",
            "Batch building:  38%|███▊      | 1623/4314 [00:02<00:03, 786.55batch/s]\u001b[A\n",
            "Batch building:  39%|███▉      | 1702/4314 [00:02<00:03, 756.64batch/s]\u001b[A\n",
            "Batch building:  41%|████▏     | 1788/4314 [00:03<00:03, 785.59batch/s]\u001b[A\n",
            "Batch building:  43%|████▎     | 1875/4314 [00:03<00:03, 807.47batch/s]\u001b[A\n",
            "Batch building:  45%|████▌     | 1958/4314 [00:03<00:02, 813.26batch/s]\u001b[A\n",
            "Batch building:  47%|████▋     | 2042/4314 [00:03<00:02, 820.86batch/s]\u001b[A\n",
            "Batch building:  49%|████▉     | 2126/4314 [00:03<00:02, 824.84batch/s]\u001b[A\n",
            "Batch building:  51%|█████▏    | 2211/4314 [00:03<00:02, 831.59batch/s]\u001b[A\n",
            "Batch building:  53%|█████▎    | 2295/4314 [00:03<00:02, 819.30batch/s]\u001b[A\n",
            "Batch building:  55%|█████▌    | 2378/4314 [00:03<00:02, 820.98batch/s]\u001b[A\n",
            "Batch building:  57%|█████▋    | 2461/4314 [00:03<00:02, 806.67batch/s]\u001b[A\n",
            "Batch building:  59%|█████▉    | 2542/4314 [00:03<00:02, 783.08batch/s]\u001b[A\n",
            "Batch building:  61%|██████    | 2625/4314 [00:04<00:02, 796.08batch/s]\u001b[A\n",
            "Batch building:  63%|██████▎   | 2705/4314 [00:04<00:02, 782.53batch/s]\u001b[A\n",
            "Batch building:  65%|██████▍   | 2787/4314 [00:04<00:01, 791.15batch/s]\u001b[A\n",
            "Batch building:  67%|██████▋   | 2870/4314 [00:04<00:01, 802.06batch/s]\u001b[A\n",
            "Batch building:  68%|██████▊   | 2953/4314 [00:04<00:01, 808.66batch/s]\u001b[A\n",
            "Batch building:  70%|███████   | 3034/4314 [00:04<00:01, 802.64batch/s]\u001b[A\n",
            "Batch building:  72%|███████▏  | 3125/4314 [00:04<00:01, 832.05batch/s]\u001b[A\n",
            "Batch building:  75%|███████▍  | 3217/4314 [00:04<00:01, 855.47batch/s]\u001b[A\n",
            "Batch building:  77%|███████▋  | 3306/4314 [00:04<00:01, 865.63batch/s]\u001b[A\n",
            "Batch building:  79%|███████▊  | 3393/4314 [00:04<00:01, 829.60batch/s]\u001b[A\n",
            "Batch building:  81%|████████  | 3483/4314 [00:05<00:00, 847.56batch/s]\u001b[A\n",
            "Batch building:  83%|████████▎ | 3574/4314 [00:05<00:00, 861.59batch/s]\u001b[A\n",
            "Batch building:  85%|████████▍ | 3661/4314 [00:05<00:00, 858.63batch/s]\u001b[A\n",
            "Batch building:  87%|████████▋ | 3768/4314 [00:05<00:00, 918.27batch/s]\u001b[A\n",
            "Batch building:  90%|████████▉ | 3862/4314 [00:05<00:00, 923.92batch/s]\u001b[A\n",
            "Batch building:  92%|█████████▏| 3966/4314 [00:05<00:00, 957.44batch/s]\u001b[A\n",
            "Batch building:  94%|█████████▍| 4075/4314 [00:05<00:00, 995.41batch/s]\u001b[A\n",
            "Batch building:  97%|█████████▋| 4175/4314 [00:05<00:00, 987.14batch/s]\u001b[A\n",
            "Batch building: 100%|██████████| 4314/4314 [00:05<00:00, 728.35batch/s]\n",
            "Epoch 0, global step 4314: 'val_loss' reached 0.09617 (best 0.09617), saving model to '/content/apex/nemo_experiments/Punctuation_and_Capitalization/2022-04-27_14-06-25/checkpoints/Punctuation_and_Capitalization--val_loss=0.0962-epoch=0.ckpt' as top 3\n"
          ]
        },
        {
          "output_type": "display_data",
          "data": {
            "text/plain": [
              "Validation: 0it [00:00, ?it/s]"
            ],
            "application/vnd.jupyter.widget-view+json": {
              "version_major": 2,
              "version_minor": 0,
              "model_id": "97d1d92a1d9a4597b460435d683e55fe"
            }
          },
          "metadata": {}
        },
        {
          "output_type": "stream",
          "name": "stdout",
          "text": [
            "[NeMo I 2022-04-27 17:28:59 punctuation_capitalization_model:332] Punctuation report: \n",
            "    label                                                precision    recall       f1           support   \n",
            "    O (label_id: 0)                                         98.63      99.10      98.86      98943\n",
            "    ! (label_id: 1)                                          0.00       0.00       0.00         47\n",
            "    \" (label_id: 2)                                         52.17      34.29      41.38         35\n",
            "    # (label_id: 3)                                          0.00       0.00       0.00          0\n",
            "    ' (label_id: 4)                                          0.00       0.00       0.00          1\n",
            "    * (label_id: 5)                                          0.00       0.00       0.00          0\n",
            "    + (label_id: 6)                                          0.00       0.00       0.00          0\n",
            "    , (label_id: 7)                                         74.77      68.36      71.42       4106\n",
            "    - (label_id: 8)                                          0.00       0.00       0.00          1\n",
            "    . (label_id: 9)                                         99.05      99.78      99.41       9846\n",
            "    / (label_id: 10)                                         0.00       0.00       0.00          4\n",
            "    : (label_id: 11)                                       100.00       4.76       9.09         63\n",
            "    ; (label_id: 12)                                         0.00       0.00       0.00         41\n",
            "    = (label_id: 13)                                         0.00       0.00       0.00          0\n",
            "    > (label_id: 14)                                         0.00       0.00       0.00          0\n",
            "    ? (label_id: 15)                                        58.18      41.03      48.12         78\n",
            "    -------------------\n",
            "    micro avg                                               97.85      97.85      97.85     113165\n",
            "    macro avg                                               43.89      31.57      33.48     113165\n",
            "    weighted avg                                            97.68      97.85      97.73     113165\n",
            "    \n",
            "[NeMo I 2022-04-27 17:28:59 punctuation_capitalization_model:333] Capitalization report: \n",
            "    label                                                precision    recall       f1           support   \n",
            "    O (label_id: 0)                                         99.49      99.44      99.47      97799\n",
            "    U (label_id: 1)                                         96.45      96.78      96.61      15366\n",
            "    -------------------\n",
            "    micro avg                                               99.08      99.08      99.08     113165\n",
            "    macro avg                                               97.97      98.11      98.04     113165\n",
            "    weighted avg                                            99.08      99.08      99.08     113165\n",
            "    \n",
            "[NeMo I 2022-04-27 17:28:59 punctuation_capitalization_dataset:1463] Shuffling training dataset\n"
          ]
        },
        {
          "output_type": "stream",
          "name": "stderr",
          "text": [
            "\n",
            "Batch mark up:   0%|          | 0/200000 [00:00<?, ?query/s]\u001b[A\n",
            "Batch mark up:  28%|██▊       | 56513/200000 [00:00<00:00, 565024.12query/s]\u001b[A\n",
            "Batch mark up:  57%|█████▋    | 113016/200000 [00:00<00:00, 525945.23query/s]\u001b[A\n",
            "Batch mark up: 100%|██████████| 200000/200000 [00:00<00:00, 517506.72query/s]\n",
            "\n",
            "Batch building:   0%|          | 0/4314 [00:00<?, ?batch/s]\u001b[A\n",
            "Batch building:   1%|          | 31/4314 [00:00<00:13, 308.49batch/s]\u001b[A\n",
            "Batch building:   1%|▏         | 62/4314 [00:00<00:14, 295.91batch/s]\u001b[A\n",
            "Batch building:   3%|▎         | 115/4314 [00:00<00:10, 398.46batch/s]\u001b[A\n",
            "Batch building:   4%|▍         | 170/4314 [00:00<00:09, 455.56batch/s]\u001b[A\n",
            "Batch building:   5%|▌         | 224/4314 [00:00<00:08, 484.22batch/s]\u001b[A\n",
            "Batch building:   6%|▋         | 278/4314 [00:00<00:08, 502.18batch/s]\u001b[A\n",
            "Batch building:   8%|▊         | 329/4314 [00:00<00:08, 490.72batch/s]\u001b[A\n",
            "Batch building:   9%|▉         | 383/4314 [00:00<00:07, 502.60batch/s]\u001b[A\n",
            "Batch building:  10%|█         | 438/4314 [00:00<00:07, 516.23batch/s]\u001b[A\n",
            "Batch building:  11%|█▏        | 490/4314 [00:01<00:08, 438.18batch/s]\u001b[A\n",
            "Batch building:  12%|█▏        | 536/4314 [00:01<00:09, 405.40batch/s]\u001b[A\n",
            "Batch building:  13%|█▎        | 579/4314 [00:01<00:09, 388.42batch/s]\u001b[A\n",
            "Batch building:  14%|█▍        | 619/4314 [00:01<00:10, 368.93batch/s]\u001b[A\n",
            "Batch building:  15%|█▌        | 665/4314 [00:01<00:09, 392.06batch/s]\u001b[A\n",
            "Batch building:  17%|█▋        | 718/4314 [00:01<00:08, 427.93batch/s]\u001b[A\n",
            "Batch building:  18%|█▊        | 762/4314 [00:01<00:08, 429.83batch/s]\u001b[A\n",
            "Batch building:  19%|█▉        | 817/4314 [00:01<00:07, 462.18batch/s]\u001b[A\n",
            "Batch building:  20%|██        | 866/4314 [00:01<00:07, 468.46batch/s]\u001b[A\n",
            "Batch building:  21%|██▏       | 920/4314 [00:02<00:06, 487.29batch/s]\u001b[A\n",
            "Batch building:  23%|██▎       | 974/4314 [00:02<00:06, 500.58batch/s]\u001b[A\n",
            "Batch building:  24%|██▍       | 1031/4314 [00:02<00:06, 519.55batch/s]\u001b[A\n",
            "Batch building:  25%|██▌       | 1087/4314 [00:02<00:06, 529.05batch/s]\u001b[A\n",
            "Batch building:  26%|██▋       | 1141/4314 [00:02<00:05, 529.13batch/s]\u001b[A\n",
            "Batch building:  28%|██▊       | 1195/4314 [00:02<00:06, 519.43batch/s]\u001b[A\n",
            "Batch building:  29%|██▉       | 1264/4314 [00:02<00:05, 567.95batch/s]\u001b[A\n",
            "Batch building:  31%|███       | 1332/4314 [00:02<00:04, 600.28batch/s]\u001b[A\n",
            "Batch building:  33%|███▎      | 1413/4314 [00:02<00:04, 662.18batch/s]\u001b[A\n",
            "Batch building:  35%|███▍      | 1493/4314 [00:02<00:04, 701.31batch/s]\u001b[A\n",
            "Batch building:  36%|███▋      | 1573/4314 [00:03<00:03, 728.70batch/s]\u001b[A\n",
            "Batch building:  38%|███▊      | 1649/4314 [00:03<00:03, 736.72batch/s]\u001b[A\n",
            "Batch building:  40%|████      | 1733/4314 [00:03<00:03, 764.45batch/s]\u001b[A\n",
            "Batch building:  42%|████▏     | 1810/4314 [00:03<00:03, 763.56batch/s]\u001b[A\n",
            "Batch building:  44%|████▍     | 1892/4314 [00:03<00:03, 779.07batch/s]\u001b[A\n",
            "Batch building:  46%|████▌     | 1974/4314 [00:03<00:02, 790.93batch/s]\u001b[A\n",
            "Batch building:  48%|████▊     | 2056/4314 [00:03<00:02, 797.92batch/s]\u001b[A\n",
            "Batch building:  50%|████▉     | 2136/4314 [00:03<00:02, 746.85batch/s]\u001b[A\n",
            "Batch building:  51%|█████▏    | 2216/4314 [00:03<00:02, 761.60batch/s]\u001b[A\n",
            "Batch building:  53%|█████▎    | 2303/4314 [00:04<00:02, 790.61batch/s]\u001b[A\n",
            "Batch building:  55%|█████▌    | 2390/4314 [00:04<00:02, 811.56batch/s]\u001b[A\n",
            "Batch building:  57%|█████▋    | 2476/4314 [00:04<00:02, 824.89batch/s]\u001b[A\n",
            "Batch building:  59%|█████▉    | 2562/4314 [00:04<00:02, 833.05batch/s]\u001b[A\n",
            "Batch building:  61%|██████▏   | 2647/4314 [00:04<00:01, 835.01batch/s]\u001b[A\n",
            "Batch building:  63%|██████▎   | 2731/4314 [00:04<00:01, 820.75batch/s]\u001b[A\n",
            "Batch building:  65%|██████▌   | 2814/4314 [00:04<00:01, 804.35batch/s]\u001b[A\n",
            "Batch building:  67%|██████▋   | 2895/4314 [00:04<00:01, 798.55batch/s]\u001b[A\n",
            "Batch building:  69%|██████▉   | 2975/4314 [00:04<00:01, 758.78batch/s]\u001b[A\n",
            "Batch building:  71%|███████   | 3055/4314 [00:04<00:01, 768.66batch/s]\u001b[A\n",
            "Batch building:  73%|███████▎  | 3133/4314 [00:05<00:01, 764.16batch/s]\u001b[A\n",
            "Batch building:  74%|███████▍  | 3212/4314 [00:05<00:01, 770.47batch/s]\u001b[A\n",
            "Batch building:  76%|███████▋  | 3290/4314 [00:05<00:01, 770.41batch/s]\u001b[A\n",
            "Batch building:  78%|███████▊  | 3371/4314 [00:05<00:01, 780.08batch/s]\u001b[A\n",
            "Batch building:  80%|███████▉  | 3451/4314 [00:05<00:01, 785.69batch/s]\u001b[A\n",
            "Batch building:  82%|████████▏ | 3530/4314 [00:05<00:00, 786.26batch/s]\u001b[A\n",
            "Batch building:  84%|████████▎ | 3609/4314 [00:05<00:00, 783.26batch/s]\u001b[A\n",
            "Batch building:  85%|████████▌ | 3688/4314 [00:05<00:00, 770.11batch/s]\u001b[A\n",
            "Batch building:  87%|████████▋ | 3766/4314 [00:05<00:00, 770.85batch/s]\u001b[A\n",
            "Batch building:  89%|████████▉ | 3854/4314 [00:05<00:00, 800.29batch/s]\u001b[A\n",
            "Batch building:  91%|█████████▏| 3946/4314 [00:06<00:00, 833.60batch/s]\u001b[A\n",
            "Batch building:  94%|█████████▎| 4035/4314 [00:06<00:00, 849.59batch/s]\u001b[A\n",
            "Batch building:  96%|█████████▌| 4129/4314 [00:06<00:00, 874.38batch/s]\u001b[A\n",
            "Batch building: 100%|██████████| 4314/4314 [00:06<00:00, 667.30batch/s]\n",
            "Epoch 1, global step 8628: 'val_loss' reached 0.09121 (best 0.09121), saving model to '/content/apex/nemo_experiments/Punctuation_and_Capitalization/2022-04-27_14-06-25/checkpoints/Punctuation_and_Capitalization--val_loss=0.0912-epoch=1.ckpt' as top 3\n"
          ]
        },
        {
          "output_type": "display_data",
          "data": {
            "text/plain": [
              "Validation: 0it [00:00, ?it/s]"
            ],
            "application/vnd.jupyter.widget-view+json": {
              "version_major": 2,
              "version_minor": 0,
              "model_id": "5ccbd9a4ee694390984713d6d313103c"
            }
          },
          "metadata": {}
        },
        {
          "output_type": "stream",
          "name": "stdout",
          "text": [
            "[NeMo I 2022-04-27 19:08:06 punctuation_capitalization_model:332] Punctuation report: \n",
            "    label                                                precision    recall       f1           support   \n",
            "    O (label_id: 0)                                         98.61      99.16      98.88      98943\n",
            "    ! (label_id: 1)                                          0.00       0.00       0.00         47\n",
            "    \" (label_id: 2)                                         52.17      34.29      41.38         35\n",
            "    # (label_id: 3)                                          0.00       0.00       0.00          0\n",
            "    ' (label_id: 4)                                          0.00       0.00       0.00          1\n",
            "    * (label_id: 5)                                          0.00       0.00       0.00          0\n",
            "    + (label_id: 6)                                          0.00       0.00       0.00          0\n",
            "    , (label_id: 7)                                         75.89      67.78      71.61       4106\n",
            "    - (label_id: 8)                                          0.00       0.00       0.00          1\n",
            "    . (label_id: 9)                                         99.04      99.77      99.40       9846\n",
            "    / (label_id: 10)                                         0.00       0.00       0.00          4\n",
            "    : (label_id: 11)                                       100.00       7.94      14.71         63\n",
            "    ; (label_id: 12)                                        22.22       4.88       8.00         41\n",
            "    = (label_id: 13)                                         0.00       0.00       0.00          0\n",
            "    > (label_id: 14)                                         0.00       0.00       0.00          0\n",
            "    ? (label_id: 15)                                        55.77      37.18      44.62         78\n",
            "    -------------------\n",
            "    micro avg                                               97.88      97.88      97.88     113165\n",
            "    macro avg                                               45.79      31.91      34.42     113165\n",
            "    weighted avg                                            97.71      97.88      97.76     113165\n",
            "    \n",
            "[NeMo I 2022-04-27 19:08:06 punctuation_capitalization_model:333] Capitalization report: \n",
            "    label                                                precision    recall       f1           support   \n",
            "    O (label_id: 0)                                         99.44      99.55      99.49      97799\n",
            "    U (label_id: 1)                                         97.11      96.43      96.77      15366\n",
            "    -------------------\n",
            "    micro avg                                               99.13      99.13      99.13     113165\n",
            "    macro avg                                               98.28      97.99      98.13     113165\n",
            "    weighted avg                                            99.12      99.13      99.12     113165\n",
            "    \n",
            "[NeMo I 2022-04-27 19:08:06 punctuation_capitalization_dataset:1463] Shuffling training dataset\n"
          ]
        },
        {
          "output_type": "stream",
          "name": "stderr",
          "text": [
            "\n",
            "Batch mark up:   0%|          | 0/200000 [00:00<?, ?query/s]\u001b[A\n",
            "Batch mark up:  29%|██▊       | 57050/200000 [00:00<00:00, 570469.26query/s]\u001b[A\n",
            "Batch mark up:  57%|█████▋    | 114097/200000 [00:00<00:00, 560458.67query/s]\u001b[A\n",
            "Batch mark up: 100%|██████████| 200000/200000 [00:00<00:00, 531128.94query/s]\n",
            "\n",
            "Batch building:   0%|          | 0/4314 [00:00<?, ?batch/s]\u001b[A\n",
            "Batch building:   1%|          | 34/4314 [00:00<00:12, 333.56batch/s]\u001b[A\n",
            "Batch building:   2%|▏         | 68/4314 [00:00<00:12, 333.85batch/s]\u001b[A\n",
            "Batch building:   3%|▎         | 129/4314 [00:00<00:09, 457.98batch/s]\u001b[A\n",
            "Batch building:   4%|▍         | 189/4314 [00:00<00:08, 513.03batch/s]\u001b[A\n",
            "Batch building:   6%|▌         | 250/4314 [00:00<00:07, 547.17batch/s]\u001b[A\n",
            "Batch building:   7%|▋         | 311/4314 [00:00<00:07, 567.48batch/s]\u001b[A\n",
            "Batch building:   9%|▊         | 373/4314 [00:00<00:06, 583.20batch/s]\u001b[A\n",
            "Batch building:  10%|█         | 432/4314 [00:00<00:06, 556.37batch/s]\u001b[A\n",
            "Batch building:  11%|█▏        | 489/4314 [00:00<00:06, 559.63batch/s]\u001b[A\n",
            "Batch building:  13%|█▎        | 546/4314 [00:01<00:07, 489.99batch/s]\u001b[A\n",
            "Batch building:  14%|█▍        | 607/4314 [00:01<00:07, 522.59batch/s]\u001b[A\n",
            "Batch building:  15%|█▌        | 665/4314 [00:01<00:06, 538.40batch/s]\u001b[A\n",
            "Batch building:  17%|█▋        | 721/4314 [00:01<00:06, 538.39batch/s]\u001b[A\n",
            "Batch building:  18%|█▊        | 780/4314 [00:01<00:06, 553.01batch/s]\u001b[A\n",
            "Batch building:  19%|█▉        | 837/4314 [00:01<00:06, 556.27batch/s]\u001b[A\n",
            "Batch building:  21%|██        | 894/4314 [00:01<00:06, 553.68batch/s]\u001b[A\n",
            "Batch building:  22%|██▏       | 950/4314 [00:01<00:06, 552.71batch/s]\u001b[A\n",
            "Batch building:  23%|██▎       | 1006/4314 [00:01<00:06, 546.07batch/s]\u001b[A\n",
            "Batch building:  25%|██▍       | 1065/4314 [00:01<00:05, 558.24batch/s]\u001b[A\n",
            "Batch building:  26%|██▌       | 1123/4314 [00:02<00:05, 564.48batch/s]\u001b[A\n",
            "Batch building:  27%|██▋       | 1180/4314 [00:02<00:05, 559.29batch/s]\u001b[A\n",
            "Batch building:  29%|██▉       | 1251/4314 [00:02<00:05, 602.21batch/s]\u001b[A\n",
            "Batch building:  31%|███       | 1338/4314 [00:02<00:04, 679.17batch/s]\u001b[A\n",
            "Batch building:  33%|███▎      | 1424/4314 [00:02<00:03, 732.26batch/s]\u001b[A\n",
            "Batch building:  35%|███▌      | 1516/4314 [00:02<00:03, 786.57batch/s]\u001b[A\n",
            "Batch building:  37%|███▋      | 1608/4314 [00:02<00:03, 823.30batch/s]\u001b[A\n",
            "Batch building:  39%|███▉      | 1694/4314 [00:02<00:03, 832.51batch/s]\u001b[A\n",
            "Batch building:  41%|████      | 1778/4314 [00:02<00:03, 791.81batch/s]\u001b[A\n",
            "Batch building:  43%|████▎     | 1861/4314 [00:03<00:03, 802.23batch/s]\u001b[A\n",
            "Batch building:  45%|████▌     | 1949/4314 [00:03<00:02, 822.78batch/s]\u001b[A\n",
            "Batch building:  47%|████▋     | 2043/4314 [00:03<00:02, 855.85batch/s]\u001b[A\n",
            "Batch building:  49%|████▉     | 2135/4314 [00:03<00:02, 872.11batch/s]\u001b[A\n",
            "Batch building:  52%|█████▏    | 2226/4314 [00:03<00:02, 881.71batch/s]\u001b[A\n",
            "Batch building:  54%|█████▍    | 2321/4314 [00:03<00:02, 901.74batch/s]\u001b[A\n",
            "Batch building:  56%|█████▌    | 2412/4314 [00:03<00:02, 897.06batch/s]\u001b[A\n",
            "Batch building:  58%|█████▊    | 2502/4314 [00:03<00:02, 889.99batch/s]\u001b[A\n",
            "Batch building:  60%|██████    | 2592/4314 [00:03<00:01, 882.61batch/s]\u001b[A\n",
            "Batch building:  62%|██████▏   | 2681/4314 [00:03<00:01, 840.97batch/s]\u001b[A\n",
            "Batch building:  64%|██████▍   | 2768/4314 [00:04<00:01, 849.23batch/s]\u001b[A\n",
            "Batch building:  66%|██████▌   | 2855/4314 [00:04<00:01, 853.15batch/s]\u001b[A\n",
            "Batch building:  68%|██████▊   | 2941/4314 [00:04<00:01, 848.47batch/s]\u001b[A\n",
            "Batch building:  70%|███████   | 3027/4314 [00:04<00:01, 850.04batch/s]\u001b[A\n",
            "Batch building:  72%|███████▏  | 3113/4314 [00:04<00:01, 849.51batch/s]\u001b[A\n",
            "Batch building:  74%|███████▍  | 3202/4314 [00:04<00:01, 860.40batch/s]\u001b[A\n",
            "Batch building:  76%|███████▋  | 3292/4314 [00:04<00:01, 872.12batch/s]\u001b[A\n",
            "Batch building:  78%|███████▊  | 3380/4314 [00:04<00:01, 871.78batch/s]\u001b[A\n",
            "Batch building:  80%|████████  | 3468/4314 [00:04<00:00, 868.74batch/s]\u001b[A\n",
            "Batch building:  82%|████████▏ | 3555/4314 [00:04<00:00, 818.58batch/s]\u001b[A\n",
            "Batch building:  84%|████████▍ | 3638/4314 [00:05<00:00, 820.55batch/s]\u001b[A\n",
            "Batch building:  87%|████████▋ | 3739/4314 [00:05<00:00, 873.81batch/s]\u001b[A\n",
            "Batch building:  89%|████████▉ | 3850/4314 [00:05<00:00, 938.59batch/s]\u001b[A\n",
            "Batch building:  92%|█████████▏| 3952/4314 [00:05<00:00, 960.41batch/s]\u001b[A\n",
            "Batch building:  94%|█████████▍| 4059/4314 [00:05<00:00, 990.55batch/s]\u001b[A\n",
            "Batch building:  96%|█████████▋| 4161/4314 [00:05<00:00, 998.68batch/s]\u001b[A\n",
            "Batch building: 100%|██████████| 4314/4314 [00:05<00:00, 752.88batch/s] \n",
            "Epoch 2, global step 12942: 'val_loss' reached 0.09210 (best 0.09121), saving model to '/content/apex/nemo_experiments/Punctuation_and_Capitalization/2022-04-27_14-06-25/checkpoints/Punctuation_and_Capitalization--val_loss=0.0921-epoch=2.ckpt' as top 3\n"
          ]
        }
      ],
      "source": [
        "trainer.fit(model)"
      ]
    },
    {
      "cell_type": "code",
      "source": [
        "queries = [\n",
        "        \"si acabo d'hora aniré a mirar roba\",\n",
        "        \"necessitem vacances\",\n",
        "        \"a partir d'aquí\",\n",
        "        \"acabat el debat procedirem a la votació\",\n",
        "        \"ah déu meu\",\n",
        "        \"bona tarda diputats diputades\",\n",
        "        \"a barcelona i a cubells deu mules són cinc parells\",\n",
        "        \"a beure i a menjar mesura has de posar\",\n",
        "        \"a bon començament bon acabament\",\n",
        "        \"a bon mercat ixen diners i a bon lloguer feiners\",\n",
        "        \"a bon mercat vendràs doblat\",\n",
        "        \"a bon recollidor pare fill escampador\",\n",
        "        \"a bona campana bon batall\"\n",
        "    ]\n",
        "\n",
        "inference_results = model.add_punctuation_capitalization(queries)\n",
        "\n",
        "for query, result in zip(queries, inference_results):\n",
        "    print(f'Query   : {query}')\n",
        "    print(f'Combined: {result.strip()}\\n')"
      ],
      "metadata": {
        "id": "us_WH_dlCQsq",
        "colab": {
          "base_uri": "https://localhost:8080/"
        },
        "outputId": "3d4d67dd-d77e-4fdc-f66e-dbb195de330d"
      },
      "execution_count": 32,
      "outputs": [
        {
          "output_type": "stream",
          "name": "stdout",
          "text": [
            "[NeMo I 2022-04-27 19:33:33 punctuation_capitalization_model:1057] Using batch size 13 for inference\n",
            "[NeMo I 2022-04-27 19:33:33 punctuation_capitalization_infer_dataset:91] Max length: 16\n",
            "[NeMo I 2022-04-27 19:33:33 data_preprocessing:404] Some stats of the lengths of the sequences:\n",
            "[NeMo I 2022-04-27 19:33:33 data_preprocessing:410] Min: 3 |                  Max: 14 |                  Mean: 8.384615384615385 |                  Median: 8.0\n",
            "[NeMo I 2022-04-27 19:33:33 data_preprocessing:412] 75 percentile: 11.00\n",
            "[NeMo I 2022-04-27 19:33:33 data_preprocessing:413] 99 percentile: 13.88\n"
          ]
        },
        {
          "output_type": "stream",
          "name": "stderr",
          "text": [
            "100%|██████████| 1/1 [00:00<00:00,  1.36batch/s]"
          ]
        },
        {
          "output_type": "stream",
          "name": "stdout",
          "text": [
            "Query   : si acabo d'hora aniré a mirar roba\n",
            "Combined: Si acabo d'hora, aniré a mirar roba.\n",
            "\n",
            "Query   : necessitem vacances\n",
            "Combined: Necessitem vacances.\n",
            "\n",
            "Query   : a partir d'aquí\n",
            "Combined: A partir d'aquí.\n",
            "\n",
            "Query   : acabat el debat procedirem a la votació\n",
            "Combined: Acabat el debat, procedirem a la votació.\n",
            "\n",
            "Query   : ah déu meu\n",
            "Combined: Ah, Déu meu.\n",
            "\n",
            "Query   : bona tarda diputats diputades\n",
            "Combined: Bona tarda Diputats diputades.\n",
            "\n",
            "Query   : a barcelona i a cubells deu mules són cinc parells\n",
            "Combined: A Barcelona i a Cubells, deu mules són cinc parells.\n",
            "\n",
            "Query   : a beure i a menjar mesura has de posar\n",
            "Combined: A beure i a menjar mesura, has de posar.\n",
            "\n",
            "Query   : a bon començament bon acabament\n",
            "Combined: A bon començament, bon acabament.\n",
            "\n",
            "Query   : a bon mercat ixen diners i a bon lloguer feiners\n",
            "Combined: A bon mercat ixen diners i a bon lloguer feiners.\n",
            "\n",
            "Query   : a bon mercat vendràs doblat\n",
            "Combined: A bon mercat vendràs doblat.\n",
            "\n",
            "Query   : a bon recollidor pare fill escampador\n",
            "Combined: A bon recollidor, pare fill escampador.\n",
            "\n",
            "Query   : a bona campana bon batall\n",
            "Combined: A bona campana, bon batall.\n",
            "\n"
          ]
        },
        {
          "output_type": "stream",
          "name": "stderr",
          "text": [
            "\n"
          ]
        }
      ]
    },
    {
      "cell_type": "code",
      "source": [
        "Si acabo d'hora, aniré a mirar roba.\n",
        "Necessitem vacances.\n",
        "A partir d'aquí?\n",
        "Acabat el debat, procedirem a la votació.\n",
        "Ah, Déu meu!\n",
        "Bona tarda, diputats, diputades.\n",
        "A Barcelona i a Cubells, deu mules són cinc parells.\n",
        "A beure i a menjar, mesura has de posar.\n",
        "\n",
        "\n",
        "A bon començament, bon acabament.\n",
        "A bon mercat ixen diners i a bon lloguer, feiners.\n",
        "A bon mercat vendràs doblat.\n",
        "A bon recollidor pare, fill escampador.\n",
        "A bona campana, bon batall."
      ],
      "metadata": {
        "id": "C_-x-REvYiKU"
      },
      "execution_count": null,
      "outputs": []
    },
    {
      "cell_type": "code",
      "source": [
        ""
      ],
      "metadata": {
        "id": "vjJ06WtLfdYh"
      },
      "execution_count": null,
      "outputs": []
    },
    {
      "cell_type": "code",
      "source": [
        "from google.colab import drive\n",
        "drive.mount('/content/drive')"
      ],
      "metadata": {
        "colab": {
          "base_uri": "https://localhost:8080/"
        },
        "id": "d6yBb_aR3gin",
        "outputId": "35643670-9634-417b-b9a5-1813bbd51eb3"
      },
      "execution_count": 30,
      "outputs": [
        {
          "output_type": "stream",
          "name": "stdout",
          "text": [
            "Mounted at /content/drive\n"
          ]
        }
      ]
    },
    {
      "cell_type": "code",
      "source": [
        "!mkdir /content/drive/MyDrive/nemo"
      ],
      "metadata": {
        "id": "XgkmU67o5jSz"
      },
      "execution_count": 31,
      "outputs": []
    },
    {
      "cell_type": "code",
      "source": [
        "%cp -r /content/apex/nemo_experiments/Punctuation_and_Capitalization/2022-04-27_14-06-25/checkpoints/Punctuation_and_Capitalization--val_loss=0.0921-epoch=2-last.ckpt /content/drive/MyDrive/nemo/"
      ],
      "metadata": {
        "id": "BgP8-aeI5_IA"
      },
      "execution_count": 35,
      "outputs": []
    },
    {
      "cell_type": "code",
      "source": [
        "%cp -r /content/apex/nemo_experiments/Punctuation_and_Capitalization/2022-04-27_14-06-25/checkpoints/Punctuation_and_Capitalization.nemo /content/drive/MyDrive/nemo/\n"
      ],
      "metadata": {
        "id": "iNQ4hqz66H6Z"
      },
      "execution_count": 36,
      "outputs": []
    },
    {
      "cell_type": "code",
      "source": [
        ""
      ],
      "metadata": {
        "id": "eV2Pk3Vyhug5"
      },
      "execution_count": null,
      "outputs": []
    }
  ]
}